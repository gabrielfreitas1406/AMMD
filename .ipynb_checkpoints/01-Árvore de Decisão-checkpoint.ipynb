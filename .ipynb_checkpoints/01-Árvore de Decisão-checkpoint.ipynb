{
 "cells": [
  {
   "cell_type": "markdown",
   "metadata": {
    "id": "5Q936NDXKXYD"
   },
   "source": [
    "# Árvore de Decisão\n"
   ]
  },
  {
   "cell_type": "markdown",
   "metadata": {
    "id": "5XBdCvyUTLmg"
   },
   "source": [
    "Nesta aula nós veremos o uso do método de AM baseado em Árvore de Decisão existente no scikit-learn."
   ]
  },
  {
   "cell_type": "markdown",
   "metadata": {},
   "source": [
    "**Índice:**\n",
    "\n",
    "  - [Configuração do notebook e dos dados](#Configuração-do-notebook-e-dos-dados)\n",
    "    - [Atividade 1](#Atividade-1)\n",
    "    - [Atividade 2](#Atividade-2)\n",
    "  - [Treinamento do modelo](#Treinamento-do-modelo)\n",
    "    - [Atividade 3](#Atividade-3)\n",
    "  - [Teste do modelo](#Teste-do-modelo)\n",
    "    - [Atividade 4](#Atividade-4)\n",
    "    - [Atividade 5](#Atividade-5)\n"
   ]
  },
  {
   "cell_type": "markdown",
   "metadata": {},
   "source": [
    "## Configuração do notebook e dos dados"
   ]
  },
  {
   "cell_type": "markdown",
   "metadata": {},
   "source": [
    "Vamos utilizar algumas bibliotecas para isso:\n",
    "\n",
    "- `numpy` e `pandas`: para trabalhar com os dados tabulares\n",
    "- `sklearn`: modelos, classes para manipular dados e analisar resultados\n",
    "- `pyplot`: biblioteca para gerar gráficos"
   ]
  },
  {
   "cell_type": "code",
   "execution_count": 1,
   "metadata": {
    "id": "B_pypY8nZ2v3"
   },
   "outputs": [],
   "source": [
    "import matplotlib.pyplot as plt\n",
    "import numpy as np\n",
    "import sklearn\n",
    "import pandas as pd"
   ]
  },
  {
   "cell_type": "markdown",
   "metadata": {},
   "source": [
    "Usaremos dois arquivos que você pode baixar no ColabWeb:\n",
    "\n",
    "- `iris-treino.csv`: contém a amostra de treinamento. São os exemplos que, em uma aplicação real, nós teríamos coletado para encontrar os parâmetros do modelo\n",
    "- `iris-teste.csv`: contém um conjunto de dados que simula os exemplos futuros, isto é, aqueles que serão usados com o nosso modelo em produção\n",
    "\n",
    "Ambos os arquivos contêm dados que foram sub-amostrados da base `Iris`. Você pode obter a base `Iris` completa se executar os seguintes comandos:\n",
    "\n",
    "```Python\n",
    "from sklearn.datasets import load_iris\n",
    "iris_dataset = load_iris()\n",
    "```\n",
    "\n",
    "Mas por ora vamos tratar dos dois subconjuntos selecionados para a aula."
   ]
  },
  {
   "cell_type": "markdown",
   "metadata": {},
   "source": [
    "### Atividade 1\n",
    "\n",
    "Carregue os arquivos de treino e de teste usando `pd.read_csv`."
   ]
  },
  {
   "cell_type": "code",
   "execution_count": 21,
   "metadata": {},
   "outputs": [],
   "source": [
    "iris_treino = pd.read_csv(\"iris-treino.csv\")\n",
    "iris_teste = pd.read_csv(\"iris-teste.csv\")"
   ]
  },
  {
   "cell_type": "markdown",
   "metadata": {},
   "source": [
    "Verifique as dimensões dos dois conjuntos.\n",
    "\n",
    "O conjunto de treino deve ter 64 linhas e 5 colunas, enquanto o conjunto de teste deve ter 86 linhas e 5 colunas."
   ]
  },
  {
   "cell_type": "code",
   "execution_count": 13,
   "metadata": {},
   "outputs": [
    {
     "name": "stdout",
     "output_type": "stream",
     "text": [
      "O conjuto de treino está ok\n",
      "O conjuto de teste está ok\n"
     ]
    }
   ],
   "source": [
    "print(\"O conjuto de treino\", \"está ok\" if iris_treino.shape == (64,5) else \"contém erros\")\n",
    "print(\"O conjuto de teste\", \"está ok\" if iris_teste.shape == (86,5) else \"contém erros\")"
   ]
  },
  {
   "cell_type": "markdown",
   "metadata": {},
   "source": [
    "Verifique o índice das colunas de um dos dois conjuntos."
   ]
  },
  {
   "cell_type": "code",
   "execution_count": 15,
   "metadata": {},
   "outputs": [
    {
     "data": {
      "text/plain": [
       "array(['sepal_length', 'sepal_width', 'petal_length', 'petal_width',\n",
       "       'species'], dtype=object)"
      ]
     },
     "execution_count": 15,
     "metadata": {},
     "output_type": "execute_result"
    }
   ],
   "source": [
    "iris_treino.columns.values"
   ]
  },
  {
   "cell_type": "markdown",
   "metadata": {},
   "source": [
    "Essas colunas são os **atributos** da base. Eles descrevem espécimes de três sub-espécies da flor Iris: *Iris versicolor*, *Iris setosa* e *Iris virginica*.\n",
    "\n",
    "As flores são ilustras na figura a seguir."
   ]
  },
  {
   "cell_type": "markdown",
   "metadata": {
    "id": "mMNTVd9q5Cxj"
   },
   "source": [
    "![texto alternativo](https://drive.google.com/uc?export=view&id=1y60Qw8n06cfSgDXL_sqHFaTYQl-tTpmE)"
   ]
  },
  {
   "cell_type": "markdown",
   "metadata": {},
   "source": [
    "Os atributos são os seguintes:\n",
    "\n",
    "- `sepal_length` e `sepal_width`: comprimento e largura da sépala, respectivamente\n",
    "- `petal_length` e `petal_width`: comprimento e largura da pétala, respectivamente"
   ]
  },
  {
   "cell_type": "markdown",
   "metadata": {},
   "source": [
    "Note que as classes são strings."
   ]
  },
  {
   "cell_type": "markdown",
   "metadata": {},
   "source": [
    "### Atividade 2\n",
    "\n",
    "Use o método `pd.Series.unique()`, aplicado na coluna `species`, para obter os valores das três classes."
   ]
  },
  {
   "cell_type": "code",
   "execution_count": 29,
   "metadata": {},
   "outputs": [
    {
     "data": {
      "text/plain": [
       "array(['virginica', 'versicolor', 'setosa'], dtype=object)"
      ]
     },
     "execution_count": 29,
     "metadata": {},
     "output_type": "execute_result"
    }
   ],
   "source": [
    "classes = pd.Series.unique(iris_teste[\"species\"])\n",
    "classes"
   ]
  },
  {
   "cell_type": "markdown",
   "metadata": {},
   "source": [
    "Uma característica do scikit-learn é que as suas classes exigem valores numéricos. É necessário converter as strings utilizando um esquema de codificação. Por exemplo\n",
    "\n",
    "Nome da classe | Código numérico\n",
    ":-- | :--\n",
    "`setosa` | 0\n",
    "`versicolor` | 1\n",
    "`virginica` | 2\n",
    "\n",
    "Essa codificação pode ser feita com a classe `LabelEncoder`, do módulo `sklearn.preprocessing`.\n",
    "\n",
    "Vamos fazer isso ao mesmo tempo que separamos os conjuntos entre características (atributos de entrada) e rótulos."
   ]
  },
  {
   "cell_type": "markdown",
   "metadata": {},
   "source": [
    "1) Vamos obter as características de treino e de teste"
   ]
  },
  {
   "cell_type": "code",
   "execution_count": 51,
   "metadata": {},
   "outputs": [],
   "source": [
    "X_train = iris_treino.iloc[:, :-1].values\n",
    "X_test = iris_teste.iloc[:, :-1].values"
   ]
  },
  {
   "cell_type": "markdown",
   "metadata": {},
   "source": [
    "2. Vamos \"treinar\" um codificador de rótulos nas classes do conjunto de treinamento"
   ]
  },
  {
   "cell_type": "code",
   "execution_count": 38,
   "metadata": {},
   "outputs": [],
   "source": [
    "from sklearn.preprocessing import LabelEncoder"
   ]
  },
  {
   "cell_type": "code",
   "execution_count": 44,
   "metadata": {},
   "outputs": [],
   "source": [
    "le = LabelEncoder().fit(iris_treino['species'])"
   ]
  },
  {
   "cell_type": "markdown",
   "metadata": {},
   "source": [
    "3. Vamos obter as classes de treino e de teste já codificadas."
   ]
  },
  {
   "cell_type": "code",
   "execution_count": 45,
   "metadata": {},
   "outputs": [],
   "source": [
    "y_train = le.transform(iris_treino['species'])\n",
    "y_test = le.transform(iris_teste['species'])"
   ]
  },
  {
   "cell_type": "markdown",
   "metadata": {},
   "source": [
    "## Treinamento do modelo"
   ]
  },
  {
   "cell_type": "markdown",
   "metadata": {
    "id": "xuDYfnS0Rp98"
   },
   "source": [
    "Agora que a base de dados está carregada e as duas partições de dados estão criadas, nós utilizaremos o método de árvore de decisão para classificação."
   ]
  },
  {
   "cell_type": "code",
   "execution_count": 47,
   "metadata": {},
   "outputs": [],
   "source": [
    "from sklearn.tree import DecisionTreeClassifier"
   ]
  },
  {
   "cell_type": "markdown",
   "metadata": {},
   "source": [
    "Para treinar e aplicar modelos, o scikit-learn adota um protocolo de duas partes:\n",
    "\n",
    "- `fit`: realiza o *ajuste* do modelo aos dados, encontrando os parâmetros da melhor hipótese à amostra de treinamento\n",
    "- `predict`: aplica o modelo a um conjunto de dados, realizando a previsão da classe\n",
    "\n",
    "Para o ajuste, o modelo precisa de acesso às características e às classes. Para previsões, o modelo precisa apenas das características dos exemplos a serem previstos, e retorna os valores previstos."
   ]
  },
  {
   "cell_type": "markdown",
   "metadata": {},
   "source": [
    "### Atividade 3\n",
    "\n",
    "Instancie um objeto da classe `DecisionTreeClassifier`. Caso nenhum argumento seja passado para o construtor, será utilizado o critério de impureza de Gini para encontrar os atributos. Para usar ganho de informação e entropia, especifique `criterion='entropy'`.\n",
    "\n",
    "Em seguida, usando o método `fit`, faça o treinamento do modelo para a amostra de treino."
   ]
  },
  {
   "cell_type": "code",
   "execution_count": 49,
   "metadata": {},
   "outputs": [],
   "source": [
    "clf = DecisionTreeClassifier(criterion='entropy')"
   ]
  },
  {
   "cell_type": "code",
   "execution_count": 54,
   "metadata": {},
   "outputs": [],
   "source": [
    "clf.fit(X_train, y_train);"
   ]
  },
  {
   "cell_type": "markdown",
   "metadata": {},
   "source": [
    "Vamos visualizar essa árvore? Use o método `DecisionTreeClassifier.plot_tree()` para desenhar uma figura que representa as decisões que foram aprendidas pelo modelo de árvore. O método `plt.figure()` é usado primeiramente para especificarmos as dimensões da figura que será plotada."
   ]
  },
  {
   "cell_type": "code",
   "execution_count": 55,
   "metadata": {},
   "outputs": [
    {
     "data": {
      "image/png": "[encoded data removed]",
      "text/plain": [
       "<Figure size 500x600 with 1 Axes>"
      ]
     },
     "metadata": {},
     "output_type": "display_data"
    }
   ],
   "source": [
    "plt.figure(figsize=(5, 6));\n",
    "sklearn.tree.plot_tree(clf);"
   ]
  },
  {
   "cell_type": "markdown",
   "metadata": {},
   "source": [
    "## Teste do modelo"
   ]
  },
  {
   "cell_type": "markdown",
   "metadata": {},
   "source": [
    "Agora vamos verificar como esse modelo se comporta quando é aplicado aos exemplos do conjunto de teste. Isso nos permite simular o desempenho do modelo \"no mundo real\"."
   ]
  },
  {
   "cell_type": "markdown",
   "metadata": {},
   "source": [
    "### Atividade 4\n",
    "\n",
    "Faça previsão com o modelo nos dados de teste."
   ]
  },
  {
   "cell_type": "code",
   "execution_count": null,
   "metadata": {},
   "outputs": [],
   "source": [
    "ypred = ..."
   ]
  },
  {
   "cell_type": "markdown",
   "metadata": {},
   "source": [
    "Verifique quais foram as classes preditas."
   ]
  },
  {
   "cell_type": "code",
   "execution_count": null,
   "metadata": {},
   "outputs": [],
   "source": [
    "ypred"
   ]
  },
  {
   "cell_type": "markdown",
   "metadata": {},
   "source": [
    "Os resultados são todos numéricos... mas podemos usar o `LabelEncoder` para verificar quais flores são essas."
   ]
  },
  {
   "cell_type": "code",
   "execution_count": null,
   "metadata": {},
   "outputs": [],
   "source": [
    "le.inverse_transform(ypred)"
   ]
  },
  {
   "cell_type": "markdown",
   "metadata": {},
   "source": [
    "Mais convenientemente, podemos fazer um `DataFrame` comparando quais casos foram corretamente classificados e quais foram incorretamente classificados."
   ]
  },
  {
   "cell_type": "code",
   "execution_count": null,
   "metadata": {},
   "outputs": [],
   "source": [
    "tabela = pd.DataFrame(columns=['Classe verdadeira', 'Classe predita'])\n",
    "tabela.iloc[:,0] = iris_teste['species']\n",
    "tabela.iloc[:,1] = le.inverse_transform(ypred)\n",
    "tabela"
   ]
  },
  {
   "cell_type": "markdown",
   "metadata": {},
   "source": [
    "Parece que alguns casos estão incorretos..."
   ]
  },
  {
   "cell_type": "code",
   "execution_count": null,
   "metadata": {},
   "outputs": [],
   "source": [
    "tabela[tabela.iloc[:,0] != tabela.iloc[:,1]]"
   ]
  },
  {
   "cell_type": "markdown",
   "metadata": {},
   "source": [
    "Podemos computar isso numericamente com uma **métrica** chamada **acurácia**. As métricas são funções numéricas utilizadas para medir a qualidade dos modelos de acordo com diferentes critérios. A acurácia, especificamente, mede quantos exemplos foram corretamente classificados pelo modelo. É uma métrica típica de problemas de **classificação** e pode ser calculada com a seguinte equação:\n",
    "\n",
    "$$\\text{Acc}_X(y) = \\frac{1}{|X|}\\sum_{x \\in X} \\mathsf{I}\\left(\\hat{f}(x) = {\\large\\xi}(x)\\right)$$\n",
    "\n",
    "Sendo que\n",
    "\n",
    "- $X$ é a amostra na qual estamos calculando a acurácia\n",
    "- $I(\\cdot)$ é a função indicadora; ela vale $1$ se a expressão for verdadeira e $0$ caso contrário\n",
    "- $\\hat{f}(x)$ é a saída do modelo para o exemplo $x$\n",
    "- ${\\large\\xi}(x)$ é o rótulo verdadeiro (saída da função-conceito)$\n",
    "\n",
    "O resultado será um valor no intervalo $[0,1]$. Quanto maior a acurácia, melhor o desempenho do modelo. Acurácia zero significa que o modelo errou todos os exemplos; acurácia um significa que todos foram corretamente classificados."
   ]
  },
  {
   "cell_type": "markdown",
   "metadata": {},
   "source": [
    "O cálculo da acurácia é simples, mas o scikit-learn pode fazer isso por nós também."
   ]
  },
  {
   "cell_type": "markdown",
   "metadata": {},
   "source": [
    "### Atividade 5\n",
    "\n",
    "Importe a função `sklearn.metrics.accuracy_score` e use essa função para calcular a acurácia obtida pela nossa árvore de decisão no conjunto de testes."
   ]
  },
  {
   "cell_type": "code",
   "execution_count": null,
   "metadata": {},
   "outputs": [],
   "source": []
  }
 ],
 "metadata": {
  "colab": {
   "provenance": []
  },
  "kernelspec": {
   "display_name": "Python 3 (ipykernel)",
   "language": "python",
   "name": "python3"
  },
  "language_info": {
   "codemirror_mode": {
    "name": "ipython",
    "version": 3
   },
   "file_extension": ".py",
   "mimetype": "text/x-python",
   "name": "python",
   "nbconvert_exporter": "python",
   "pygments_lexer": "ipython3",
   "version": "3.12.3"
  }
 },
 "nbformat": 4,
 "nbformat_minor": 4
}
