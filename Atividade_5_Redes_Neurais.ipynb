{
  "nbformat": 4,
  "nbformat_minor": 0,
  "metadata": {
    "colab": {
      "provenance": [],
      "toc_visible": true
    },
    "kernelspec": {
      "name": "python3",
      "display_name": "Python 3"
    },
    "language_info": {
      "name": "python"
    }
  },
  "cells": [
    {
      "cell_type": "markdown",
      "source": [
        "# Atividade 5: Redes Neurais\n",
        "\n",
        "## Enunciado\n",
        "\n",
        "Neste *notebook* você encontrará uma função que gera 4 conjuntos de dados totalmente artificiais. A função deve ser usada especificando como argumento o número do conjunto a ser gerado.\n",
        "\n",
        "Exemplo:\n",
        "\n",
        "    Xtreino, ytreino, Xteste, yteste = gera_base(1)\n",
        "\n",
        "> **Classifique todas as bases usando, para cada uma delas, a rede neural mais simples que você conseguir elaborar**.\n",
        "\n",
        "Tente obter a máxima acurácia possível para cada caso, mas não espere que a acurácia seja 100% em todos os conjuntos de teste.\n",
        "\n",
        "Para auxliar, você poderá usar a função\n",
        "\n",
        "    plota_base(Xtreino, ytreino, Xteste, yteste)\n",
        "\n",
        "para visualizar os dados. Os dados de teste são opcionais na função plot."
      ],
      "metadata": {
        "id": "WWlWX0JL9g8l"
      }
    },
    {
      "cell_type": "markdown",
      "source": [
        "## Configuração do *notebook*"
      ],
      "metadata": {
        "id": "PaC-byE1-TPi"
      }
    },
    {
      "cell_type": "markdown",
      "source": [
        "Execute todas as células abaixo em sequência para configurar o notebook."
      ],
      "metadata": {
        "id": "LOEIoTwk-V-v"
      }
    },
    {
      "cell_type": "code",
      "source": [
        "import matplotlib.pyplot as plt\n",
        "\n",
        "def plota_parte(X, y, mascara, c, nome):\n",
        "  plt.scatter(X[mascara, 0], X[mascara, 1], c=c, label=nome)\n",
        "\n",
        "def plota_base(Xtreino, ytreino, Xteste=None, yteste=None):\n",
        "\n",
        "  if Xteste is not None:\n",
        "    x0 = min(min(Xtreino[:, 0]), min(Xteste[:, 0])) - 0.1\n",
        "    x1 = max(max(Xtreino[:, 0]), max(Xteste[:, 0])) + 0.1\n",
        "    y0 = min(min(Xtreino[:, 1]), min(Xteste[:, 1])) - 0.1\n",
        "    y1 = max(max(Xtreino[:, 1]), max(Xteste[:, 1])) + 0.1\n",
        "\n",
        "    plt.figure(figsize=(16, 8))\n",
        "    plt.subplot(121)\n",
        "  else:\n",
        "    plt.figure()\n",
        "\n",
        "    x0 = min(Xtreino[:, 0]) - 0.1\n",
        "    x1 = max(Xtreino[:, 0]) + 0.1\n",
        "    y0 = min(Xtreino[:, 1]) - 0.1\n",
        "    y1 = max(Xtreino[:, 1]) + 0.1\n",
        "\n",
        "  plt.xlim(x0, x1)\n",
        "  plt.ylim(y0, y1)\n",
        "\n",
        "  plt.plot([x0, x1], [0, 0], 'k--')\n",
        "  plt.plot([0, 0], [y0, y1], 'k--')\n",
        "\n",
        "  plt.title('Conjunto de treino')\n",
        "  plota_parte(Xtreino, ytreino, ytreino==0, 'r', '0')\n",
        "  plota_parte(Xtreino, ytreino, ytreino==1, 'b', '1')\n",
        "  plt.legend();\n",
        "\n",
        "  if Xteste is not None:\n",
        "    plt.subplot(122)\n",
        "    plt.title('Conjunto de teste')\n",
        "\n",
        "    plt.plot([x0, x1], [0, 0], 'k--')\n",
        "    plt.plot([0, 0], [y0, y1], 'k--')\n",
        "\n",
        "    plota_parte(Xteste, yteste, yteste==0, 'r', '0')\n",
        "    plota_parte(Xteste, yteste, yteste==1, 'b', '1')\n",
        "\n",
        "    plt.xlim(x0, x1)\n",
        "    plt.ylim(y0, y1)\n",
        "    plt.legend();"
      ],
      "metadata": {
        "id": "03PCN5JK-n_3"
      },
      "execution_count": null,
      "outputs": []
    },
    {
      "cell_type": "code",
      "source": [
        "import numpy as np\n",
        "from sklearn.datasets import make_blobs\n",
        "\n",
        "def gera_base_2():\n",
        "  def helper(rng, halfnum, loc, scale):\n",
        "    x11 = rng.normal(size=(halfnum,), loc=-loc, scale=scale)\n",
        "    y11 = rng.normal(size=(halfnum,), loc=-loc, scale=scale)\n",
        "\n",
        "    x12 = rng.normal(size=(halfnum,), loc=loc, scale=scale)\n",
        "    y12 = rng.normal(size=(halfnum,), loc=loc, scale=scale)\n",
        "\n",
        "    x21 = rng.normal(size=(halfnum,), loc=-loc, scale=scale)\n",
        "    y21 = rng.normal(size=(halfnum,), loc=loc, scale=scale)\n",
        "\n",
        "    x22 = rng.normal(size=(halfnum,), loc=loc, scale=scale)\n",
        "    y22 = rng.normal(size=(halfnum,), loc=-loc, scale=scale)\n",
        "\n",
        "    x = np.concatenate([x11, x12, x21, x22])\n",
        "    y = np.concatenate([y11, y12, y21, y22])\n",
        "    X = np.array([x,y]).T\n",
        "\n",
        "    y = np.concatenate((np.zeros(halfnum*2), np.ones(halfnum*2)))\n",
        "\n",
        "    return X, y\n",
        "\n",
        "  rng = np.random.RandomState(1337)\n",
        "  Xtreino, ytreino = helper(rng, 25, 1, 0.4)\n",
        "  Xteste, yteste = helper(rng, 125, 1, 0.6)\n",
        "\n",
        "  return Xtreino, ytreino, Xteste, yteste\n",
        "\n",
        "\n",
        "def gera_base_1():\n",
        "  def helper(rng, halfnum, loc, scale):\n",
        "    x1 = rng.normal(size=(halfnum,), loc=-loc, scale=scale)\n",
        "    y1 = rng.normal(size=(halfnum,), loc=-loc, scale=scale)\n",
        "\n",
        "    x2 = rng.normal(size=(halfnum,), loc=loc, scale=scale)\n",
        "    y2 = rng.normal(size=(halfnum,), loc=loc, scale=scale)\n",
        "\n",
        "    return (np.concatenate(([x1, y1], [x2, y2]), axis=1).T,\n",
        "            np.concatenate((np.zeros(halfnum), np.ones(halfnum))))\n",
        "\n",
        "  rng = np.random.RandomState(13)\n",
        "  Xtreino, ytreino = helper(rng, 50, 1, 0.4)\n",
        "  Xteste, yteste = helper(rng, 250, 1, 0.6)\n",
        "\n",
        "  return Xtreino, ytreino, Xteste, yteste\n",
        "\n",
        "\n",
        "def gera_base_3():\n",
        "  rng = np.random.RandomState(42)\n",
        "\n",
        "  Xtreino = rng.randn(100, 2)\n",
        "  ytreino = np.logical_xor(Xtreino[:, 0] > 0, Xtreino[:, 1] > 0)\n",
        "\n",
        "  Xteste = rng.randn(500, 2)\n",
        "  yteste = np.logical_xor(Xteste[:, 0] > 0, Xteste[:, 1] > 0)\n",
        "\n",
        "  return Xtreino, ytreino, Xteste, yteste\n",
        "\n",
        "\n",
        "def gera_base_4():\n",
        "  def helper(rng, num1, num2, loc1, loc2, scale1, scale2):\n",
        "    x1 = rng.normal(size=(num1,), loc=loc1, scale=scale1)\n",
        "    y1 = rng.normal(size=(num1,), loc=loc1, scale=scale1)\n",
        "\n",
        "    x2 = rng.normal(size=(num2,), loc=loc2, scale=scale2)\n",
        "    y2 = rng.normal(size=(num2,), loc=loc2, scale=scale2)\n",
        "\n",
        "    return (np.concatenate(([x1, y1], [x2, y2]), axis=1).T,\n",
        "            np.concatenate((np.zeros(num1), np.ones(num2))))\n",
        "\n",
        "  rng = np.random.RandomState(13)\n",
        "  Xtreino, ytreino = helper(rng, 50, 200, -.5, 0.8, 0.4, 0.6)\n",
        "  Xteste, yteste = helper(rng, 250, 250, -.7, 0.8, 0.6, 0.8)\n",
        "\n",
        "  return Xtreino, ytreino, Xteste, yteste"
      ],
      "metadata": {
        "id": "DM6T6f3X-Sfh"
      },
      "execution_count": null,
      "outputs": []
    },
    {
      "cell_type": "code",
      "source": [
        "def gera_base(num):\n",
        "  if num == 1:\n",
        "    return gera_base_1()\n",
        "  elif num == 2:\n",
        "    return gera_base_2()\n",
        "  elif num == 3:\n",
        "    return gera_base_3()\n",
        "  elif num == 4:\n",
        "    return gera_base_4()\n",
        "  else:\n",
        "    print('Bases disponíveis são de 1 a 4.')"
      ],
      "metadata": {
        "id": "jJmpvXIyJ7CP"
      },
      "execution_count": null,
      "outputs": []
    },
    {
      "cell_type": "markdown",
      "source": [
        "## Exemplo de uso\n",
        "\n",
        "Na célula abaixo você tem a obtenção da base 1 e um *plot* dos dados de treino.\n",
        "\n",
        "Modifique a célula para plotar também os dados de teste."
      ],
      "metadata": {
        "id": "IeQEP5wbKaAz"
      }
    },
    {
      "cell_type": "code",
      "source": [
        "Xtreino, ytreino, Xteste, yteste = gera_base(1)\n",
        "plota_base(Xtreino, ytreino)"
      ],
      "metadata": {
        "colab": {
          "base_uri": "https://localhost:8080/",
          "height": 452
        },
        "id": "8h3z-7zM-8sM",
        "outputId": "62021f4e-3b8a-4920-d570-ade441b7941d"
      },
      "execution_count": null,
      "outputs": [
        {
          "output_type": "display_data",
          "data": {
            "text/plain": [
              "<Figure size 640x480 with 1 Axes>"
            ],
            "image/png": "[encoded data removed]"
          },
          "metadata": {}
        }
      ]
    },
    {
      "cell_type": "markdown",
      "source": [
        "# Resolução do *notebook*\n",
        "\n",
        "Agora é com você.\n",
        "\n",
        "> **Classifique as 4 bases usando, para cada uma delas, a rede neural mais simples que você conseguir elaborar**."
      ],
      "metadata": {
        "id": "1AZlViGjIyFc"
      }
    },
    {
      "cell_type": "code",
      "source": [],
      "metadata": {
        "id": "DIYNEpcRKqH-"
      },
      "execution_count": null,
      "outputs": []
    },
    {
      "cell_type": "code",
      "source": [],
      "metadata": {
        "id": "n8pRmDAEKqSU"
      },
      "execution_count": null,
      "outputs": []
    },
    {
      "cell_type": "code",
      "source": [],
      "metadata": {
        "id": "hsQInvZvKqUu"
      },
      "execution_count": null,
      "outputs": []
    },
    {
      "cell_type": "code",
      "source": [],
      "metadata": {
        "id": "f-3-oO5TKqXU"
      },
      "execution_count": null,
      "outputs": []
    },
    {
      "cell_type": "code",
      "source": [],
      "metadata": {
        "id": "Bdb0s6IxKqZs"
      },
      "execution_count": null,
      "outputs": []
    },
    {
      "cell_type": "code",
      "source": [],
      "metadata": {
        "id": "CkcSoGgVKqbx"
      },
      "execution_count": null,
      "outputs": []
    },
    {
      "cell_type": "code",
      "source": [],
      "metadata": {
        "id": "ekCY1WMwKqeN"
      },
      "execution_count": null,
      "outputs": []
    },
    {
      "cell_type": "code",
      "source": [],
      "metadata": {
        "id": "Ri2we9ELKqgS"
      },
      "execution_count": null,
      "outputs": []
    },
    {
      "cell_type": "code",
      "source": [],
      "metadata": {
        "id": "9wMv4q3RKqil"
      },
      "execution_count": null,
      "outputs": []
    },
    {
      "cell_type": "code",
      "source": [],
      "metadata": {
        "id": "5dAU8C2LKqkr"
      },
      "execution_count": null,
      "outputs": []
    },
    {
      "cell_type": "code",
      "source": [],
      "metadata": {
        "id": "9n6N7EUeKqnD"
      },
      "execution_count": null,
      "outputs": []
    },
    {
      "cell_type": "code",
      "source": [],
      "metadata": {
        "id": "0csBqn8eKqpC"
      },
      "execution_count": null,
      "outputs": []
    },
    {
      "cell_type": "code",
      "source": [],
      "metadata": {
        "id": "fwov7UX3KqrZ"
      },
      "execution_count": null,
      "outputs": []
    },
    {
      "cell_type": "code",
      "source": [],
      "metadata": {
        "id": "p9otk-_YKqtu"
      },
      "execution_count": null,
      "outputs": []
    },
    {
      "cell_type": "code",
      "source": [],
      "metadata": {
        "id": "EuygxUl1KqwG"
      },
      "execution_count": null,
      "outputs": []
    }
  ]
}