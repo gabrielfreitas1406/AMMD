{
 "cells": [
  {
   "cell_type": "markdown",
   "id": "8fb9d76e",
   "metadata": {},
   "source": [
    "# Atividade 2 — Modelos Introdutórios"
   ]
  },
  {
   "cell_type": "markdown",
   "id": "40b4cc49",
   "metadata": {},
   "source": [
    "**Índice**\n",
    "\n",
    "  - [Parte 1: Uma Base Fácil](#Parte-1:-Uma-Base-Fácil)\n",
    "    - [Conhecendo a base](#Conhecendo-a-base)\n",
    "    - [Descrição da base](#Descrição-da-base)\n",
    "    - [Comparando classificadores](#Comparando-classificadores)\n",
    "  - [Parte 2: Uma Nova Base](#Parte-2:-Uma-Nova-Base)\n",
    "    - [Particionamento](#Particionamento)\n",
    "    - [Ajuste de hiperparâmetros da árvore de decisão](#Ajuste-de-hiperparâmetros-da-árvore-de-decisão)\n",
    "  - [Parte 3: Sua Vez](#Parte-3:-Sua-Vez)\n",
    "  - [Parte 4: Teste Final](#Parte-4:-Teste-Final)\n",
    "  - [Parte Final: Entrega](#Parte-Final:-Entrega)"
   ]
  },
  {
   "cell_type": "code",
   "execution_count": 3,
   "id": "d9189cd0",
   "metadata": {},
   "outputs": [],
   "source": [
    "import numpy as np\n",
    "import pandas as pd\n",
    "import seaborn as sns\n",
    "import matplotlib.pyplot as plt\n",
    "\n",
    "from sklearn.tree import DecisionTreeClassifier\n",
    "from sklearn.neighbors import KNeighborsClassifier\n",
    "\n",
    "from sklearn.metrics import accuracy_score\n",
    "\n",
    "from sklearn.model_selection import train_test_split\n",
    "\n",
    "from sklearn.datasets import load_iris, load_breast_cancer\n",
    "\n",
    "sns.set()"
   ]
  },
  {
   "cell_type": "markdown",
   "id": "6fc3ad89",
   "metadata": {},
   "source": [
    "## Parte 1: Uma Base Fácil"
   ]
  },
  {
   "cell_type": "markdown",
   "id": "3bbac5f6",
   "metadata": {},
   "source": [
    "### Conhecendo a base"
   ]
  },
  {
   "cell_type": "markdown",
   "id": "31cec5ba",
   "metadata": {},
   "source": [
    "A base `Iris` é uma base *toy* e bem fácil de classificar.\n",
    "\n",
    "O termo \"fácil\" pode significar várias coisas. Neste caso, a base `Iris` é fácil porque, embora a base possua quatro atributos de entrada e exemplos em três classes, quase todos os exemplos podem ser classificados por um separador linear usando apenas dois atributos."
   ]
  },
  {
   "cell_type": "markdown",
   "id": "c56fe2a2",
   "metadata": {},
   "source": [
    "Desta vez vamos carregar a base `Iris` com a biblioteca `sklearn`."
   ]
  },
  {
   "cell_type": "code",
   "execution_count": 4,
   "id": "17f24fbc",
   "metadata": {},
   "outputs": [],
   "source": [
    "from sklearn.datasets import load_iris"
   ]
  },
  {
   "cell_type": "markdown",
   "id": "55adce95",
   "metadata": {},
   "source": [
    "> **Carregue** a base `Iris` usando a função `load_iris`."
   ]
  },
  {
   "cell_type": "code",
   "execution_count": 5,
   "id": "ac2be1ca",
   "metadata": {},
   "outputs": [],
   "source": [
    "iris = load_iris()"
   ]
  },
  {
   "cell_type": "markdown",
   "id": "1f553bc1",
   "metadata": {},
   "source": [
    "O `sklearn` tem um tipo chamado `Bunch` que guarda os dados na forma de tensores (do NumPy) e adiciona algumas metainformações relevantes."
   ]
  },
  {
   "cell_type": "code",
   "execution_count": 6,
   "id": "06dea92f",
   "metadata": {},
   "outputs": [
    {
     "data": {
      "text/plain": [
       "sklearn.utils._bunch.Bunch"
      ]
     },
     "execution_count": 6,
     "metadata": {},
     "output_type": "execute_result"
    }
   ],
   "source": [
    "type(iris)"
   ]
  },
  {
   "cell_type": "markdown",
   "id": "adb190ec",
   "metadata": {},
   "source": [
    "A função `dir` expõe o conteúdo desse objeto."
   ]
  },
  {
   "cell_type": "code",
   "execution_count": 7,
   "id": "89af95e8",
   "metadata": {},
   "outputs": [
    {
     "data": {
      "text/plain": [
       "['DESCR',\n",
       " 'data',\n",
       " 'data_module',\n",
       " 'feature_names',\n",
       " 'filename',\n",
       " 'frame',\n",
       " 'target',\n",
       " 'target_names']"
      ]
     },
     "execution_count": 7,
     "metadata": {},
     "output_type": "execute_result"
    }
   ],
   "source": [
    "dir(iris)"
   ]
  },
  {
   "cell_type": "markdown",
   "id": "68d262f8",
   "metadata": {},
   "source": [
    "Os atributos de entrada encontram-se na propriedade `.data`."
   ]
  },
  {
   "cell_type": "code",
   "execution_count": 8,
   "id": "483380c9",
   "metadata": {},
   "outputs": [
    {
     "data": {
      "text/plain": [
       "array([[5.1, 3.5, 1.4, 0.2],\n",
       "       [4.9, 3. , 1.4, 0.2],\n",
       "       [4.7, 3.2, 1.3, 0.2],\n",
       "       [4.6, 3.1, 1.5, 0.2],\n",
       "       [5. , 3.6, 1.4, 0.2],\n",
       "       [5.4, 3.9, 1.7, 0.4],\n",
       "       [4.6, 3.4, 1.4, 0.3],\n",
       "       [5. , 3.4, 1.5, 0.2],\n",
       "       [4.4, 2.9, 1.4, 0.2],\n",
       "       [4.9, 3.1, 1.5, 0.1],\n",
       "       [5.4, 3.7, 1.5, 0.2],\n",
       "       [4.8, 3.4, 1.6, 0.2],\n",
       "       [4.8, 3. , 1.4, 0.1],\n",
       "       [4.3, 3. , 1.1, 0.1],\n",
       "       [5.8, 4. , 1.2, 0.2],\n",
       "       [5.7, 4.4, 1.5, 0.4],\n",
       "       [5.4, 3.9, 1.3, 0.4],\n",
       "       [5.1, 3.5, 1.4, 0.3],\n",
       "       [5.7, 3.8, 1.7, 0.3],\n",
       "       [5.1, 3.8, 1.5, 0.3],\n",
       "       [5.4, 3.4, 1.7, 0.2],\n",
       "       [5.1, 3.7, 1.5, 0.4],\n",
       "       [4.6, 3.6, 1. , 0.2],\n",
       "       [5.1, 3.3, 1.7, 0.5],\n",
       "       [4.8, 3.4, 1.9, 0.2],\n",
       "       [5. , 3. , 1.6, 0.2],\n",
       "       [5. , 3.4, 1.6, 0.4],\n",
       "       [5.2, 3.5, 1.5, 0.2],\n",
       "       [5.2, 3.4, 1.4, 0.2],\n",
       "       [4.7, 3.2, 1.6, 0.2],\n",
       "       [4.8, 3.1, 1.6, 0.2],\n",
       "       [5.4, 3.4, 1.5, 0.4],\n",
       "       [5.2, 4.1, 1.5, 0.1],\n",
       "       [5.5, 4.2, 1.4, 0.2],\n",
       "       [4.9, 3.1, 1.5, 0.2],\n",
       "       [5. , 3.2, 1.2, 0.2],\n",
       "       [5.5, 3.5, 1.3, 0.2],\n",
       "       [4.9, 3.6, 1.4, 0.1],\n",
       "       [4.4, 3. , 1.3, 0.2],\n",
       "       [5.1, 3.4, 1.5, 0.2],\n",
       "       [5. , 3.5, 1.3, 0.3],\n",
       "       [4.5, 2.3, 1.3, 0.3],\n",
       "       [4.4, 3.2, 1.3, 0.2],\n",
       "       [5. , 3.5, 1.6, 0.6],\n",
       "       [5.1, 3.8, 1.9, 0.4],\n",
       "       [4.8, 3. , 1.4, 0.3],\n",
       "       [5.1, 3.8, 1.6, 0.2],\n",
       "       [4.6, 3.2, 1.4, 0.2],\n",
       "       [5.3, 3.7, 1.5, 0.2],\n",
       "       [5. , 3.3, 1.4, 0.2],\n",
       "       [7. , 3.2, 4.7, 1.4],\n",
       "       [6.4, 3.2, 4.5, 1.5],\n",
       "       [6.9, 3.1, 4.9, 1.5],\n",
       "       [5.5, 2.3, 4. , 1.3],\n",
       "       [6.5, 2.8, 4.6, 1.5],\n",
       "       [5.7, 2.8, 4.5, 1.3],\n",
       "       [6.3, 3.3, 4.7, 1.6],\n",
       "       [4.9, 2.4, 3.3, 1. ],\n",
       "       [6.6, 2.9, 4.6, 1.3],\n",
       "       [5.2, 2.7, 3.9, 1.4],\n",
       "       [5. , 2. , 3.5, 1. ],\n",
       "       [5.9, 3. , 4.2, 1.5],\n",
       "       [6. , 2.2, 4. , 1. ],\n",
       "       [6.1, 2.9, 4.7, 1.4],\n",
       "       [5.6, 2.9, 3.6, 1.3],\n",
       "       [6.7, 3.1, 4.4, 1.4],\n",
       "       [5.6, 3. , 4.5, 1.5],\n",
       "       [5.8, 2.7, 4.1, 1. ],\n",
       "       [6.2, 2.2, 4.5, 1.5],\n",
       "       [5.6, 2.5, 3.9, 1.1],\n",
       "       [5.9, 3.2, 4.8, 1.8],\n",
       "       [6.1, 2.8, 4. , 1.3],\n",
       "       [6.3, 2.5, 4.9, 1.5],\n",
       "       [6.1, 2.8, 4.7, 1.2],\n",
       "       [6.4, 2.9, 4.3, 1.3],\n",
       "       [6.6, 3. , 4.4, 1.4],\n",
       "       [6.8, 2.8, 4.8, 1.4],\n",
       "       [6.7, 3. , 5. , 1.7],\n",
       "       [6. , 2.9, 4.5, 1.5],\n",
       "       [5.7, 2.6, 3.5, 1. ],\n",
       "       [5.5, 2.4, 3.8, 1.1],\n",
       "       [5.5, 2.4, 3.7, 1. ],\n",
       "       [5.8, 2.7, 3.9, 1.2],\n",
       "       [6. , 2.7, 5.1, 1.6],\n",
       "       [5.4, 3. , 4.5, 1.5],\n",
       "       [6. , 3.4, 4.5, 1.6],\n",
       "       [6.7, 3.1, 4.7, 1.5],\n",
       "       [6.3, 2.3, 4.4, 1.3],\n",
       "       [5.6, 3. , 4.1, 1.3],\n",
       "       [5.5, 2.5, 4. , 1.3],\n",
       "       [5.5, 2.6, 4.4, 1.2],\n",
       "       [6.1, 3. , 4.6, 1.4],\n",
       "       [5.8, 2.6, 4. , 1.2],\n",
       "       [5. , 2.3, 3.3, 1. ],\n",
       "       [5.6, 2.7, 4.2, 1.3],\n",
       "       [5.7, 3. , 4.2, 1.2],\n",
       "       [5.7, 2.9, 4.2, 1.3],\n",
       "       [6.2, 2.9, 4.3, 1.3],\n",
       "       [5.1, 2.5, 3. , 1.1],\n",
       "       [5.7, 2.8, 4.1, 1.3],\n",
       "       [6.3, 3.3, 6. , 2.5],\n",
       "       [5.8, 2.7, 5.1, 1.9],\n",
       "       [7.1, 3. , 5.9, 2.1],\n",
       "       [6.3, 2.9, 5.6, 1.8],\n",
       "       [6.5, 3. , 5.8, 2.2],\n",
       "       [7.6, 3. , 6.6, 2.1],\n",
       "       [4.9, 2.5, 4.5, 1.7],\n",
       "       [7.3, 2.9, 6.3, 1.8],\n",
       "       [6.7, 2.5, 5.8, 1.8],\n",
       "       [7.2, 3.6, 6.1, 2.5],\n",
       "       [6.5, 3.2, 5.1, 2. ],\n",
       "       [6.4, 2.7, 5.3, 1.9],\n",
       "       [6.8, 3. , 5.5, 2.1],\n",
       "       [5.7, 2.5, 5. , 2. ],\n",
       "       [5.8, 2.8, 5.1, 2.4],\n",
       "       [6.4, 3.2, 5.3, 2.3],\n",
       "       [6.5, 3. , 5.5, 1.8],\n",
       "       [7.7, 3.8, 6.7, 2.2],\n",
       "       [7.7, 2.6, 6.9, 2.3],\n",
       "       [6. , 2.2, 5. , 1.5],\n",
       "       [6.9, 3.2, 5.7, 2.3],\n",
       "       [5.6, 2.8, 4.9, 2. ],\n",
       "       [7.7, 2.8, 6.7, 2. ],\n",
       "       [6.3, 2.7, 4.9, 1.8],\n",
       "       [6.7, 3.3, 5.7, 2.1],\n",
       "       [7.2, 3.2, 6. , 1.8],\n",
       "       [6.2, 2.8, 4.8, 1.8],\n",
       "       [6.1, 3. , 4.9, 1.8],\n",
       "       [6.4, 2.8, 5.6, 2.1],\n",
       "       [7.2, 3. , 5.8, 1.6],\n",
       "       [7.4, 2.8, 6.1, 1.9],\n",
       "       [7.9, 3.8, 6.4, 2. ],\n",
       "       [6.4, 2.8, 5.6, 2.2],\n",
       "       [6.3, 2.8, 5.1, 1.5],\n",
       "       [6.1, 2.6, 5.6, 1.4],\n",
       "       [7.7, 3. , 6.1, 2.3],\n",
       "       [6.3, 3.4, 5.6, 2.4],\n",
       "       [6.4, 3.1, 5.5, 1.8],\n",
       "       [6. , 3. , 4.8, 1.8],\n",
       "       [6.9, 3.1, 5.4, 2.1],\n",
       "       [6.7, 3.1, 5.6, 2.4],\n",
       "       [6.9, 3.1, 5.1, 2.3],\n",
       "       [5.8, 2.7, 5.1, 1.9],\n",
       "       [6.8, 3.2, 5.9, 2.3],\n",
       "       [6.7, 3.3, 5.7, 2.5],\n",
       "       [6.7, 3. , 5.2, 2.3],\n",
       "       [6.3, 2.5, 5. , 1.9],\n",
       "       [6.5, 3. , 5.2, 2. ],\n",
       "       [6.2, 3.4, 5.4, 2.3],\n",
       "       [5.9, 3. , 5.1, 1.8]])"
      ]
     },
     "execution_count": 8,
     "metadata": {},
     "output_type": "execute_result"
    }
   ],
   "source": [
    "#type(iris.data)\n",
    "iris.data"
   ]
  },
  {
   "cell_type": "markdown",
   "id": "e9f51f27",
   "metadata": {},
   "source": [
    "Os atributos de saída encontram-se na propriedade `.target`."
   ]
  },
  {
   "cell_type": "code",
   "execution_count": 9,
   "id": "043a9f58",
   "metadata": {},
   "outputs": [
    {
     "data": {
      "text/plain": [
       "array([0, 0, 0, 0, 0, 0, 0, 0, 0, 0, 0, 0, 0, 0, 0, 0, 0, 0, 0, 0, 0, 0,\n",
       "       0, 0, 0, 0, 0, 0, 0, 0, 0, 0, 0, 0, 0, 0, 0, 0, 0, 0, 0, 0, 0, 0,\n",
       "       0, 0, 0, 0, 0, 0, 1, 1, 1, 1, 1, 1, 1, 1, 1, 1, 1, 1, 1, 1, 1, 1,\n",
       "       1, 1, 1, 1, 1, 1, 1, 1, 1, 1, 1, 1, 1, 1, 1, 1, 1, 1, 1, 1, 1, 1,\n",
       "       1, 1, 1, 1, 1, 1, 1, 1, 1, 1, 1, 1, 2, 2, 2, 2, 2, 2, 2, 2, 2, 2,\n",
       "       2, 2, 2, 2, 2, 2, 2, 2, 2, 2, 2, 2, 2, 2, 2, 2, 2, 2, 2, 2, 2, 2,\n",
       "       2, 2, 2, 2, 2, 2, 2, 2, 2, 2, 2, 2, 2, 2, 2, 2, 2, 2])"
      ]
     },
     "execution_count": 9,
     "metadata": {},
     "output_type": "execute_result"
    }
   ],
   "source": [
    "#type(iris.target)\n",
    "iris.target"
   ]
  },
  {
   "cell_type": "markdown",
   "id": "8070f741",
   "metadata": {},
   "source": [
    "No `Bunch`, os rótulos já são numéricos:"
   ]
  },
  {
   "cell_type": "code",
   "execution_count": 10,
   "id": "b5e0138e",
   "metadata": {},
   "outputs": [
    {
     "data": {
      "text/plain": [
       "array([0, 1, 2])"
      ]
     },
     "execution_count": 10,
     "metadata": {},
     "output_type": "execute_result"
    }
   ],
   "source": [
    "np.unique(iris.target)"
   ]
  },
  {
   "cell_type": "markdown",
   "id": "6dfc803b",
   "metadata": {},
   "source": [
    "Os nomes dos rótulos podem ser encontrados no vetor `.target_names`."
   ]
  },
  {
   "cell_type": "code",
   "execution_count": 11,
   "id": "a5ce540c",
   "metadata": {},
   "outputs": [
    {
     "data": {
      "text/plain": [
       "array(['setosa', 'versicolor', 'virginica'], dtype='<U10')"
      ]
     },
     "execution_count": 11,
     "metadata": {},
     "output_type": "execute_result"
    }
   ],
   "source": [
    "iris.target_names"
   ]
  },
  {
   "cell_type": "markdown",
   "id": "b63cd338",
   "metadata": {},
   "source": [
    "> **Faça a associação** entre os rótulos numéricos e as strings. Isto é, quais são os nomes (string) da classe 0, da clase 1 e da classe 2?"
   ]
  },
  {
   "cell_type": "code",
   "execution_count": 12,
   "id": "18d2772b",
   "metadata": {},
   "outputs": [
    {
     "name": "stdout",
     "output_type": "stream",
     "text": [
      "Nome: setosa\t\tValor Numérico: 0\n",
      "Nome: versicolor\tValor Numérico: 1\n",
      "Nome: virginica\t\tValor Numérico: 2\n"
     ]
    }
   ],
   "source": [
    "classes_numericas = np.unique(iris.target)\n",
    "\n",
    "for i in range(0, len(classes_numericas)):\n",
    "    if (i != 1):\n",
    "        print(f\"Nome: {iris.target_names[i]}\\t\\tValor Numérico: {classes_numericas[i]}\")\n",
    "    else:\n",
    "        print(f\"Nome: {iris.target_names[i]}\\tValor Numérico: {classes_numericas[i]}\")"
   ]
  },
  {
   "cell_type": "markdown",
   "id": "b1dfe771",
   "metadata": {},
   "source": [
    "> **Identifique** quais são as classes dos exemplos que ocupam os índices 0, 15, 36, 51, 89, 101, 115 e 149 da matriz de dados.\n",
    ">\n",
    "> *Dica:* a lista a seguir pode ajudar: `[0, 15, 36, 51, 89, 101, 115, 149]`."
   ]
  },
  {
   "cell_type": "code",
   "execution_count": 13,
   "id": "6128fbe4",
   "metadata": {},
   "outputs": [
    {
     "name": "stdout",
     "output_type": "stream",
     "text": [
      "indice: 0\tclasse: 0\n",
      "indice: 15\tclasse: 0\n",
      "indice: 36\tclasse: 0\n",
      "indice: 51\tclasse: 1\n",
      "indice: 89\tclasse: 1\n",
      "indice: 101\tclasse: 2\n",
      "indice: 115\tclasse: 2\n",
      "indice: 149\tclasse: 2\n"
     ]
    }
   ],
   "source": [
    "indices = [0, 15, 36, 51, 89, 101, 115, 149]\n",
    "\n",
    "for i in range(0, len(indices)):\n",
    "    print(f\"indice: {indices[i]}\\tclasse: {iris.target[indices[i]]}\")"
   ]
  },
  {
   "cell_type": "markdown",
   "id": "17457793",
   "metadata": {},
   "source": [
    "> **Identifique** os nomes (strings) das mesmas classes do exercício anterior."
   ]
  },
  {
   "cell_type": "code",
   "execution_count": 14,
   "id": "e4c76b21",
   "metadata": {},
   "outputs": [
    {
     "name": "stdout",
     "output_type": "stream",
     "text": [
      "indice: 0\tclasse: setosa\n",
      "indice: 15\tclasse: setosa\n",
      "indice: 36\tclasse: setosa\n",
      "indice: 51\tclasse: versicolor\n",
      "indice: 89\tclasse: versicolor\n",
      "indice: 101\tclasse: virginica\n",
      "indice: 115\tclasse: virginica\n",
      "indice: 149\tclasse: virginica\n"
     ]
    }
   ],
   "source": [
    "for i in range(0, len(indices)):\n",
    "    print(f\"indice: {indices[i]}\\tclasse: {iris.target_names[iris.target[indices[i]]]}\")"
   ]
  },
  {
   "cell_type": "markdown",
   "id": "0c1e52cf",
   "metadata": {},
   "source": [
    "Excelente.\n",
    "\n",
    "Mas o que significam esses números e essas letras? Você sempre deve procurar conhecer a base com a qual está trabalhando. A classe `Bunch` possui uma descrição da base de dados no atributo `.DESCR`. Ele deve ser impresso com `print`."
   ]
  },
  {
   "cell_type": "markdown",
   "id": "2b438e42",
   "metadata": {},
   "source": [
    "> **Imprima** a descrição da base `Iris`."
   ]
  },
  {
   "cell_type": "code",
   "execution_count": 15,
   "id": "f1eff5ca",
   "metadata": {},
   "outputs": [
    {
     "name": "stdout",
     "output_type": "stream",
     "text": [
      ".. _iris_dataset:\n",
      "\n",
      "Iris plants dataset\n",
      "--------------------\n",
      "\n",
      "**Data Set Characteristics:**\n",
      "\n",
      ":Number of Instances: 150 (50 in each of three classes)\n",
      ":Number of Attributes: 4 numeric, predictive attributes and the class\n",
      ":Attribute Information:\n",
      "    - sepal length in cm\n",
      "    - sepal width in cm\n",
      "    - petal length in cm\n",
      "    - petal width in cm\n",
      "    - class:\n",
      "            - Iris-Setosa\n",
      "            - Iris-Versicolour\n",
      "            - Iris-Virginica\n",
      "\n",
      ":Summary Statistics:\n",
      "\n",
      "============== ==== ==== ======= ===== ====================\n",
      "                Min  Max   Mean    SD   Class Correlation\n",
      "============== ==== ==== ======= ===== ====================\n",
      "sepal length:   4.3  7.9   5.84   0.83    0.7826\n",
      "sepal width:    2.0  4.4   3.05   0.43   -0.4194\n",
      "petal length:   1.0  6.9   3.76   1.76    0.9490  (high!)\n",
      "petal width:    0.1  2.5   1.20   0.76    0.9565  (high!)\n",
      "============== ==== ==== ======= ===== ====================\n",
      "\n",
      ":Missing Attribute Values: None\n",
      ":Class Distribution: 33.3% for each of 3 classes.\n",
      ":Creator: R.A. Fisher\n",
      ":Donor: Michael Marshall (MARSHALL%PLU@io.arc.nasa.gov)\n",
      ":Date: July, 1988\n",
      "\n",
      "The famous Iris database, first used by Sir R.A. Fisher. The dataset is taken\n",
      "from Fisher's paper. Note that it's the same as in R, but not as in the UCI\n",
      "Machine Learning Repository, which has two wrong data points.\n",
      "\n",
      "This is perhaps the best known database to be found in the\n",
      "pattern recognition literature.  Fisher's paper is a classic in the field and\n",
      "is referenced frequently to this day.  (See Duda & Hart, for example.)  The\n",
      "data set contains 3 classes of 50 instances each, where each class refers to a\n",
      "type of iris plant.  One class is linearly separable from the other 2; the\n",
      "latter are NOT linearly separable from each other.\n",
      "\n",
      "|details-start|\n",
      "**References**\n",
      "|details-split|\n",
      "\n",
      "- Fisher, R.A. \"The use of multiple measurements in taxonomic problems\"\n",
      "  Annual Eugenics, 7, Part II, 179-188 (1936); also in \"Contributions to\n",
      "  Mathematical Statistics\" (John Wiley, NY, 1950).\n",
      "- Duda, R.O., & Hart, P.E. (1973) Pattern Classification and Scene Analysis.\n",
      "  (Q327.D83) John Wiley & Sons.  ISBN 0-471-22361-1.  See page 218.\n",
      "- Dasarathy, B.V. (1980) \"Nosing Around the Neighborhood: A New System\n",
      "  Structure and Classification Rule for Recognition in Partially Exposed\n",
      "  Environments\".  IEEE Transactions on Pattern Analysis and Machine\n",
      "  Intelligence, Vol. PAMI-2, No. 1, 67-71.\n",
      "- Gates, G.W. (1972) \"The Reduced Nearest Neighbor Rule\".  IEEE Transactions\n",
      "  on Information Theory, May 1972, 431-433.\n",
      "- See also: 1988 MLC Proceedings, 54-64.  Cheeseman et al\"s AUTOCLASS II\n",
      "  conceptual clustering system finds 3 classes in the data.\n",
      "- Many, many more ...\n",
      "\n",
      "|details-end|\n",
      "\n"
     ]
    }
   ],
   "source": [
    "print(iris.DESCR)"
   ]
  },
  {
   "cell_type": "markdown",
   "id": "e8a5f0cc",
   "metadata": {},
   "source": [
    "### Descrição da base"
   ]
  },
  {
   "cell_type": "markdown",
   "id": "29389381",
   "metadata": {},
   "source": [
    "Vamos verificar valores de média e desvio padrão dos atributos da base."
   ]
  },
  {
   "cell_type": "markdown",
   "id": "c7d36627",
   "metadata": {},
   "source": [
    "> **Calcule a média** dos quatro atributos, usando `np.mean` ao longo do eixo 0.\n",
    ">\n",
    "> *Dica*: o resultado deverá ser próximo do seguinte: `[5.843, 3.057, 3.758, 1.199]`."
   ]
  },
  {
   "cell_type": "code",
   "execution_count": 16,
   "id": "ec21a822",
   "metadata": {},
   "outputs": [
    {
     "name": "stdout",
     "output_type": "stream",
     "text": [
      "5.843333333333334 3.0573333333333337 3.7580000000000005 1.1993333333333336\n",
      "[5.1 3.5 1.4 0.2]\n"
     ]
    }
   ],
   "source": [
    "media1 = (np.mean(iris.data[:,0]))\n",
    "media2 = (np.mean(iris.data[:,1]))\n",
    "media3 = (np.mean(iris.data[:,2]))\n",
    "media4 = (np.mean(iris.data[:,3]))\n",
    "\n",
    "print(media1, media2, media3, media4)\n",
    "print(iris.data[:][0])\n"
   ]
  },
  {
   "cell_type": "code",
   "execution_count": 17,
   "id": "2d067c15",
   "metadata": {},
   "outputs": [],
   "source": [
    "#np.mean(iris.data, axis=0)"
   ]
  },
  {
   "cell_type": "markdown",
   "id": "b0053544",
   "metadata": {},
   "source": [
    "Embora o NumPy faça todos os cálculos que precisamos, ele não é muito bom para visualizar e manipular os resultados. O melhor é criar um *data frame* com base nos dados."
   ]
  },
  {
   "cell_type": "markdown",
   "id": "d7ac4896",
   "metadata": {},
   "source": [
    "> **Execute a célula** a seguir pra criar um *data fame* da base `Iris`."
   ]
  },
  {
   "cell_type": "code",
   "execution_count": 18,
   "id": "8c145a1a",
   "metadata": {},
   "outputs": [
    {
     "data": {
      "text/html": [
       "<div>\n",
       "<style scoped>\n",
       "    .dataframe tbody tr th:only-of-type {\n",
       "        vertical-align: middle;\n",
       "    }\n",
       "\n",
       "    .dataframe tbody tr th {\n",
       "        vertical-align: top;\n",
       "    }\n",
       "\n",
       "    .dataframe thead th {\n",
       "        text-align: right;\n",
       "    }\n",
       "</style>\n",
       "<table border=\"1\" class=\"dataframe\">\n",
       "  <thead>\n",
       "    <tr style=\"text-align: right;\">\n",
       "      <th></th>\n",
       "      <th>sepal length (cm)</th>\n",
       "      <th>sepal width (cm)</th>\n",
       "      <th>petal length (cm)</th>\n",
       "      <th>petal width (cm)</th>\n",
       "      <th>species</th>\n",
       "    </tr>\n",
       "  </thead>\n",
       "  <tbody>\n",
       "    <tr>\n",
       "      <th>0</th>\n",
       "      <td>5.1</td>\n",
       "      <td>3.5</td>\n",
       "      <td>1.4</td>\n",
       "      <td>0.2</td>\n",
       "      <td>setosa</td>\n",
       "    </tr>\n",
       "    <tr>\n",
       "      <th>1</th>\n",
       "      <td>4.9</td>\n",
       "      <td>3.0</td>\n",
       "      <td>1.4</td>\n",
       "      <td>0.2</td>\n",
       "      <td>setosa</td>\n",
       "    </tr>\n",
       "    <tr>\n",
       "      <th>2</th>\n",
       "      <td>4.7</td>\n",
       "      <td>3.2</td>\n",
       "      <td>1.3</td>\n",
       "      <td>0.2</td>\n",
       "      <td>setosa</td>\n",
       "    </tr>\n",
       "    <tr>\n",
       "      <th>3</th>\n",
       "      <td>4.6</td>\n",
       "      <td>3.1</td>\n",
       "      <td>1.5</td>\n",
       "      <td>0.2</td>\n",
       "      <td>setosa</td>\n",
       "    </tr>\n",
       "    <tr>\n",
       "      <th>4</th>\n",
       "      <td>5.0</td>\n",
       "      <td>3.6</td>\n",
       "      <td>1.4</td>\n",
       "      <td>0.2</td>\n",
       "      <td>setosa</td>\n",
       "    </tr>\n",
       "    <tr>\n",
       "      <th>...</th>\n",
       "      <td>...</td>\n",
       "      <td>...</td>\n",
       "      <td>...</td>\n",
       "      <td>...</td>\n",
       "      <td>...</td>\n",
       "    </tr>\n",
       "    <tr>\n",
       "      <th>145</th>\n",
       "      <td>6.7</td>\n",
       "      <td>3.0</td>\n",
       "      <td>5.2</td>\n",
       "      <td>2.3</td>\n",
       "      <td>virginica</td>\n",
       "    </tr>\n",
       "    <tr>\n",
       "      <th>146</th>\n",
       "      <td>6.3</td>\n",
       "      <td>2.5</td>\n",
       "      <td>5.0</td>\n",
       "      <td>1.9</td>\n",
       "      <td>virginica</td>\n",
       "    </tr>\n",
       "    <tr>\n",
       "      <th>147</th>\n",
       "      <td>6.5</td>\n",
       "      <td>3.0</td>\n",
       "      <td>5.2</td>\n",
       "      <td>2.0</td>\n",
       "      <td>virginica</td>\n",
       "    </tr>\n",
       "    <tr>\n",
       "      <th>148</th>\n",
       "      <td>6.2</td>\n",
       "      <td>3.4</td>\n",
       "      <td>5.4</td>\n",
       "      <td>2.3</td>\n",
       "      <td>virginica</td>\n",
       "    </tr>\n",
       "    <tr>\n",
       "      <th>149</th>\n",
       "      <td>5.9</td>\n",
       "      <td>3.0</td>\n",
       "      <td>5.1</td>\n",
       "      <td>1.8</td>\n",
       "      <td>virginica</td>\n",
       "    </tr>\n",
       "  </tbody>\n",
       "</table>\n",
       "<p>150 rows × 5 columns</p>\n",
       "</div>"
      ],
      "text/plain": [
       "     sepal length (cm)  sepal width (cm)  petal length (cm)  petal width (cm)  \\\n",
       "0                  5.1               3.5                1.4               0.2   \n",
       "1                  4.9               3.0                1.4               0.2   \n",
       "2                  4.7               3.2                1.3               0.2   \n",
       "3                  4.6               3.1                1.5               0.2   \n",
       "4                  5.0               3.6                1.4               0.2   \n",
       "..                 ...               ...                ...               ...   \n",
       "145                6.7               3.0                5.2               2.3   \n",
       "146                6.3               2.5                5.0               1.9   \n",
       "147                6.5               3.0                5.2               2.0   \n",
       "148                6.2               3.4                5.4               2.3   \n",
       "149                5.9               3.0                5.1               1.8   \n",
       "\n",
       "       species  \n",
       "0       setosa  \n",
       "1       setosa  \n",
       "2       setosa  \n",
       "3       setosa  \n",
       "4       setosa  \n",
       "..         ...  \n",
       "145  virginica  \n",
       "146  virginica  \n",
       "147  virginica  \n",
       "148  virginica  \n",
       "149  virginica  \n",
       "\n",
       "[150 rows x 5 columns]"
      ]
     },
     "execution_count": 18,
     "metadata": {},
     "output_type": "execute_result"
    }
   ],
   "source": [
    "# Cria um data frame contendo os atributos de entrada\n",
    "iris_df = pd.DataFrame(data=iris.data,             # Atributos de entrada\n",
    "                       columns=iris.feature_names, # Nomes das colunas\n",
    "                      )\n",
    "\n",
    "# Acrescenta as classes\n",
    "iris_df['species'] = iris.target_names[iris.target]\n",
    "\n",
    "# Mostra o resultado\n",
    "iris_df"
   ]
  },
  {
   "cell_type": "markdown",
   "id": "c3033cd9",
   "metadata": {},
   "source": [
    "O *dataframe* possui um método muito oportuno, `describe`, que mostra uma descrição estatística de todas as colunas que possuem valor numérico."
   ]
  },
  {
   "cell_type": "markdown",
   "id": "1a41814f",
   "metadata": {},
   "source": [
    "> **Execute a célula** a seguir para ver uma descrição dos atributos."
   ]
  },
  {
   "cell_type": "code",
   "execution_count": 19,
   "id": "20bf8058",
   "metadata": {},
   "outputs": [
    {
     "data": {
      "text/html": [
       "<div>\n",
       "<style scoped>\n",
       "    .dataframe tbody tr th:only-of-type {\n",
       "        vertical-align: middle;\n",
       "    }\n",
       "\n",
       "    .dataframe tbody tr th {\n",
       "        vertical-align: top;\n",
       "    }\n",
       "\n",
       "    .dataframe thead th {\n",
       "        text-align: right;\n",
       "    }\n",
       "</style>\n",
       "<table border=\"1\" class=\"dataframe\">\n",
       "  <thead>\n",
       "    <tr style=\"text-align: right;\">\n",
       "      <th></th>\n",
       "      <th>sepal length (cm)</th>\n",
       "      <th>sepal width (cm)</th>\n",
       "      <th>petal length (cm)</th>\n",
       "      <th>petal width (cm)</th>\n",
       "    </tr>\n",
       "  </thead>\n",
       "  <tbody>\n",
       "    <tr>\n",
       "      <th>count</th>\n",
       "      <td>150.000000</td>\n",
       "      <td>150.000000</td>\n",
       "      <td>150.000000</td>\n",
       "      <td>150.000000</td>\n",
       "    </tr>\n",
       "    <tr>\n",
       "      <th>mean</th>\n",
       "      <td>5.843333</td>\n",
       "      <td>3.057333</td>\n",
       "      <td>3.758000</td>\n",
       "      <td>1.199333</td>\n",
       "    </tr>\n",
       "    <tr>\n",
       "      <th>std</th>\n",
       "      <td>0.828066</td>\n",
       "      <td>0.435866</td>\n",
       "      <td>1.765298</td>\n",
       "      <td>0.762238</td>\n",
       "    </tr>\n",
       "    <tr>\n",
       "      <th>min</th>\n",
       "      <td>4.300000</td>\n",
       "      <td>2.000000</td>\n",
       "      <td>1.000000</td>\n",
       "      <td>0.100000</td>\n",
       "    </tr>\n",
       "    <tr>\n",
       "      <th>25%</th>\n",
       "      <td>5.100000</td>\n",
       "      <td>2.800000</td>\n",
       "      <td>1.600000</td>\n",
       "      <td>0.300000</td>\n",
       "    </tr>\n",
       "    <tr>\n",
       "      <th>50%</th>\n",
       "      <td>5.800000</td>\n",
       "      <td>3.000000</td>\n",
       "      <td>4.350000</td>\n",
       "      <td>1.300000</td>\n",
       "    </tr>\n",
       "    <tr>\n",
       "      <th>75%</th>\n",
       "      <td>6.400000</td>\n",
       "      <td>3.300000</td>\n",
       "      <td>5.100000</td>\n",
       "      <td>1.800000</td>\n",
       "    </tr>\n",
       "    <tr>\n",
       "      <th>max</th>\n",
       "      <td>7.900000</td>\n",
       "      <td>4.400000</td>\n",
       "      <td>6.900000</td>\n",
       "      <td>2.500000</td>\n",
       "    </tr>\n",
       "  </tbody>\n",
       "</table>\n",
       "</div>"
      ],
      "text/plain": [
       "       sepal length (cm)  sepal width (cm)  petal length (cm)  \\\n",
       "count         150.000000        150.000000         150.000000   \n",
       "mean            5.843333          3.057333           3.758000   \n",
       "std             0.828066          0.435866           1.765298   \n",
       "min             4.300000          2.000000           1.000000   \n",
       "25%             5.100000          2.800000           1.600000   \n",
       "50%             5.800000          3.000000           4.350000   \n",
       "75%             6.400000          3.300000           5.100000   \n",
       "max             7.900000          4.400000           6.900000   \n",
       "\n",
       "       petal width (cm)  \n",
       "count        150.000000  \n",
       "mean           1.199333  \n",
       "std            0.762238  \n",
       "min            0.100000  \n",
       "25%            0.300000  \n",
       "50%            1.300000  \n",
       "75%            1.800000  \n",
       "max            2.500000  "
      ]
     },
     "execution_count": 19,
     "metadata": {},
     "output_type": "execute_result"
    }
   ],
   "source": [
    "iris_df.describe()"
   ]
  },
  {
   "cell_type": "markdown",
   "id": "f771f1b0",
   "metadata": {},
   "source": [
    "A descrição contém o seguinte, linha a linha:\n",
    "\n",
    "- `count` é o número de valores numéricos. Será 150 para todas as colunas porque o *data frame* está totalmente preenchido por valores numéricos. Se houvesse valores ausentes, então algumas colunas teriam menos que 150 valores numéricos\n",
    "- `mean` é a média de cada coluna (atributo)\n",
    "- `std` é o desvio padrão\n",
    "- `min` é o menor valor de cada coluna\n",
    "- `25%` é o primeiro quartil\n",
    "- `50%` é a mediana\n",
    "- `75%` é o terceiro quartil\n",
    "- `max` é o maior valor de cada coluna\n",
    "\n",
    "São 8 linhas com descritores estatísticos. Eles podem ser bem úteis..."
   ]
  },
  {
   "cell_type": "markdown",
   "id": "3fd54eaa",
   "metadata": {},
   "source": [
    "...e no entanto, seria mais apropriado visualizar esse resultado separadamente para exemplos de cada classe. Isso pode ser feito se, primeiro, nós agruparmos as linhas do *data frame* por espécie.\n",
    "\n",
    "O método `groupby` faz isso. Ele retornar um objeto que representa um agrupamento e pode ser usado, por exemplo, para obtermos uma descrição estatística com `describe`.\n",
    "\n",
    "Se agruparmos o *data frame* anterior por espécie e, depois, gerarmos uma descrição estatística, o resultado será um *data frame*  que contém 3 linhas (uma para cada espécie) e 3×8 colunas (3 grupos dos 8 descritores estatísticos obtidos na célula acima). O melhor jeito de visualizar esse *data frame*  é \"rotacioná-lo\" (ou, melhor dizendo, transpô-lo)."
   ]
  },
  {
   "cell_type": "markdown",
   "id": "6e683210",
   "metadata": {},
   "source": [
    "> **Execute a célula** a seguir para obter uma descrição estatística do *data frame* separadamente por classes."
   ]
  },
  {
   "cell_type": "code",
   "execution_count": 20,
   "id": "21a21ac7",
   "metadata": {},
   "outputs": [
    {
     "data": {
      "text/html": [
       "<div>\n",
       "<style scoped>\n",
       "    .dataframe tbody tr th:only-of-type {\n",
       "        vertical-align: middle;\n",
       "    }\n",
       "\n",
       "    .dataframe tbody tr th {\n",
       "        vertical-align: top;\n",
       "    }\n",
       "\n",
       "    .dataframe thead th {\n",
       "        text-align: right;\n",
       "    }\n",
       "</style>\n",
       "<table border=\"1\" class=\"dataframe\">\n",
       "  <thead>\n",
       "    <tr style=\"text-align: right;\">\n",
       "      <th></th>\n",
       "      <th>species</th>\n",
       "      <th>setosa</th>\n",
       "      <th>versicolor</th>\n",
       "      <th>virginica</th>\n",
       "    </tr>\n",
       "  </thead>\n",
       "  <tbody>\n",
       "    <tr>\n",
       "      <th rowspan=\"8\" valign=\"top\">sepal length (cm)</th>\n",
       "      <th>count</th>\n",
       "      <td>50.000000</td>\n",
       "      <td>50.000000</td>\n",
       "      <td>50.000000</td>\n",
       "    </tr>\n",
       "    <tr>\n",
       "      <th>mean</th>\n",
       "      <td>5.006000</td>\n",
       "      <td>5.936000</td>\n",
       "      <td>6.588000</td>\n",
       "    </tr>\n",
       "    <tr>\n",
       "      <th>std</th>\n",
       "      <td>0.352490</td>\n",
       "      <td>0.516171</td>\n",
       "      <td>0.635880</td>\n",
       "    </tr>\n",
       "    <tr>\n",
       "      <th>min</th>\n",
       "      <td>4.300000</td>\n",
       "      <td>4.900000</td>\n",
       "      <td>4.900000</td>\n",
       "    </tr>\n",
       "    <tr>\n",
       "      <th>25%</th>\n",
       "      <td>4.800000</td>\n",
       "      <td>5.600000</td>\n",
       "      <td>6.225000</td>\n",
       "    </tr>\n",
       "    <tr>\n",
       "      <th>50%</th>\n",
       "      <td>5.000000</td>\n",
       "      <td>5.900000</td>\n",
       "      <td>6.500000</td>\n",
       "    </tr>\n",
       "    <tr>\n",
       "      <th>75%</th>\n",
       "      <td>5.200000</td>\n",
       "      <td>6.300000</td>\n",
       "      <td>6.900000</td>\n",
       "    </tr>\n",
       "    <tr>\n",
       "      <th>max</th>\n",
       "      <td>5.800000</td>\n",
       "      <td>7.000000</td>\n",
       "      <td>7.900000</td>\n",
       "    </tr>\n",
       "    <tr>\n",
       "      <th rowspan=\"8\" valign=\"top\">sepal width (cm)</th>\n",
       "      <th>count</th>\n",
       "      <td>50.000000</td>\n",
       "      <td>50.000000</td>\n",
       "      <td>50.000000</td>\n",
       "    </tr>\n",
       "    <tr>\n",
       "      <th>mean</th>\n",
       "      <td>3.428000</td>\n",
       "      <td>2.770000</td>\n",
       "      <td>2.974000</td>\n",
       "    </tr>\n",
       "    <tr>\n",
       "      <th>std</th>\n",
       "      <td>0.379064</td>\n",
       "      <td>0.313798</td>\n",
       "      <td>0.322497</td>\n",
       "    </tr>\n",
       "    <tr>\n",
       "      <th>min</th>\n",
       "      <td>2.300000</td>\n",
       "      <td>2.000000</td>\n",
       "      <td>2.200000</td>\n",
       "    </tr>\n",
       "    <tr>\n",
       "      <th>25%</th>\n",
       "      <td>3.200000</td>\n",
       "      <td>2.525000</td>\n",
       "      <td>2.800000</td>\n",
       "    </tr>\n",
       "    <tr>\n",
       "      <th>50%</th>\n",
       "      <td>3.400000</td>\n",
       "      <td>2.800000</td>\n",
       "      <td>3.000000</td>\n",
       "    </tr>\n",
       "    <tr>\n",
       "      <th>75%</th>\n",
       "      <td>3.675000</td>\n",
       "      <td>3.000000</td>\n",
       "      <td>3.175000</td>\n",
       "    </tr>\n",
       "    <tr>\n",
       "      <th>max</th>\n",
       "      <td>4.400000</td>\n",
       "      <td>3.400000</td>\n",
       "      <td>3.800000</td>\n",
       "    </tr>\n",
       "    <tr>\n",
       "      <th rowspan=\"8\" valign=\"top\">petal length (cm)</th>\n",
       "      <th>count</th>\n",
       "      <td>50.000000</td>\n",
       "      <td>50.000000</td>\n",
       "      <td>50.000000</td>\n",
       "    </tr>\n",
       "    <tr>\n",
       "      <th>mean</th>\n",
       "      <td>1.462000</td>\n",
       "      <td>4.260000</td>\n",
       "      <td>5.552000</td>\n",
       "    </tr>\n",
       "    <tr>\n",
       "      <th>std</th>\n",
       "      <td>0.173664</td>\n",
       "      <td>0.469911</td>\n",
       "      <td>0.551895</td>\n",
       "    </tr>\n",
       "    <tr>\n",
       "      <th>min</th>\n",
       "      <td>1.000000</td>\n",
       "      <td>3.000000</td>\n",
       "      <td>4.500000</td>\n",
       "    </tr>\n",
       "    <tr>\n",
       "      <th>25%</th>\n",
       "      <td>1.400000</td>\n",
       "      <td>4.000000</td>\n",
       "      <td>5.100000</td>\n",
       "    </tr>\n",
       "    <tr>\n",
       "      <th>50%</th>\n",
       "      <td>1.500000</td>\n",
       "      <td>4.350000</td>\n",
       "      <td>5.550000</td>\n",
       "    </tr>\n",
       "    <tr>\n",
       "      <th>75%</th>\n",
       "      <td>1.575000</td>\n",
       "      <td>4.600000</td>\n",
       "      <td>5.875000</td>\n",
       "    </tr>\n",
       "    <tr>\n",
       "      <th>max</th>\n",
       "      <td>1.900000</td>\n",
       "      <td>5.100000</td>\n",
       "      <td>6.900000</td>\n",
       "    </tr>\n",
       "    <tr>\n",
       "      <th rowspan=\"8\" valign=\"top\">petal width (cm)</th>\n",
       "      <th>count</th>\n",
       "      <td>50.000000</td>\n",
       "      <td>50.000000</td>\n",
       "      <td>50.000000</td>\n",
       "    </tr>\n",
       "    <tr>\n",
       "      <th>mean</th>\n",
       "      <td>0.246000</td>\n",
       "      <td>1.326000</td>\n",
       "      <td>2.026000</td>\n",
       "    </tr>\n",
       "    <tr>\n",
       "      <th>std</th>\n",
       "      <td>0.105386</td>\n",
       "      <td>0.197753</td>\n",
       "      <td>0.274650</td>\n",
       "    </tr>\n",
       "    <tr>\n",
       "      <th>min</th>\n",
       "      <td>0.100000</td>\n",
       "      <td>1.000000</td>\n",
       "      <td>1.400000</td>\n",
       "    </tr>\n",
       "    <tr>\n",
       "      <th>25%</th>\n",
       "      <td>0.200000</td>\n",
       "      <td>1.200000</td>\n",
       "      <td>1.800000</td>\n",
       "    </tr>\n",
       "    <tr>\n",
       "      <th>50%</th>\n",
       "      <td>0.200000</td>\n",
       "      <td>1.300000</td>\n",
       "      <td>2.000000</td>\n",
       "    </tr>\n",
       "    <tr>\n",
       "      <th>75%</th>\n",
       "      <td>0.300000</td>\n",
       "      <td>1.500000</td>\n",
       "      <td>2.300000</td>\n",
       "    </tr>\n",
       "    <tr>\n",
       "      <th>max</th>\n",
       "      <td>0.600000</td>\n",
       "      <td>1.800000</td>\n",
       "      <td>2.500000</td>\n",
       "    </tr>\n",
       "  </tbody>\n",
       "</table>\n",
       "</div>"
      ],
      "text/plain": [
       "species                     setosa  versicolor  virginica\n",
       "sepal length (cm) count  50.000000   50.000000  50.000000\n",
       "                  mean    5.006000    5.936000   6.588000\n",
       "                  std     0.352490    0.516171   0.635880\n",
       "                  min     4.300000    4.900000   4.900000\n",
       "                  25%     4.800000    5.600000   6.225000\n",
       "                  50%     5.000000    5.900000   6.500000\n",
       "                  75%     5.200000    6.300000   6.900000\n",
       "                  max     5.800000    7.000000   7.900000\n",
       "sepal width (cm)  count  50.000000   50.000000  50.000000\n",
       "                  mean    3.428000    2.770000   2.974000\n",
       "                  std     0.379064    0.313798   0.322497\n",
       "                  min     2.300000    2.000000   2.200000\n",
       "                  25%     3.200000    2.525000   2.800000\n",
       "                  50%     3.400000    2.800000   3.000000\n",
       "                  75%     3.675000    3.000000   3.175000\n",
       "                  max     4.400000    3.400000   3.800000\n",
       "petal length (cm) count  50.000000   50.000000  50.000000\n",
       "                  mean    1.462000    4.260000   5.552000\n",
       "                  std     0.173664    0.469911   0.551895\n",
       "                  min     1.000000    3.000000   4.500000\n",
       "                  25%     1.400000    4.000000   5.100000\n",
       "                  50%     1.500000    4.350000   5.550000\n",
       "                  75%     1.575000    4.600000   5.875000\n",
       "                  max     1.900000    5.100000   6.900000\n",
       "petal width (cm)  count  50.000000   50.000000  50.000000\n",
       "                  mean    0.246000    1.326000   2.026000\n",
       "                  std     0.105386    0.197753   0.274650\n",
       "                  min     0.100000    1.000000   1.400000\n",
       "                  25%     0.200000    1.200000   1.800000\n",
       "                  50%     0.200000    1.300000   2.000000\n",
       "                  75%     0.300000    1.500000   2.300000\n",
       "                  max     0.600000    1.800000   2.500000"
      ]
     },
     "execution_count": 20,
     "metadata": {},
     "output_type": "execute_result"
    }
   ],
   "source": [
    "iris_df.groupby('species').describe().T"
   ]
  },
  {
   "cell_type": "markdown",
   "id": "5fe0f254",
   "metadata": {},
   "source": [
    "Você consegue perceber que esse conjunto é relativente \"fácil\"?"
   ]
  },
  {
   "cell_type": "markdown",
   "id": "2161a75d",
   "metadata": {},
   "source": [
    "Talvez fique mais evidente com um diagrama."
   ]
  },
  {
   "cell_type": "markdown",
   "id": "a0539fa6",
   "metadata": {},
   "source": [
    "> **Execute a célula** abaixo para gerar um *pairplot* da base `Iris`."
   ]
  },
  {
   "cell_type": "code",
   "execution_count": 21,
   "id": "6f5118b5",
   "metadata": {},
   "outputs": [
    {
     "data": {
      "image/png": "[encoded data removed]",
      "text/plain": [
       "<Figure size 1120.62x1000 with 20 Axes>"
      ]
     },
     "metadata": {},
     "output_type": "display_data"
    }
   ],
   "source": [
    "sns.pairplot(iris_df, hue='species');"
   ]
  },
  {
   "cell_type": "markdown",
   "id": "cf29f065",
   "metadata": {},
   "source": [
    "Um *pairplot* é uma coleção de gráficos de espalhamento dos exemplos de uma base. Associado ao parâmetro `hue=species`, o Seaborn é capaz de gerar um conjunto de gráficos destacando quais exemplos pertencem a quais classes."
   ]
  },
  {
   "cell_type": "markdown",
   "id": "1a4cea08",
   "metadata": {},
   "source": [
    "Na diagonal do *pairplot*, temos histogramas dos atributos. Considere, por exemplo, o histograma de *petal width (cm)*. Ele deve se parecer com o seguinte:"
   ]
  },
  {
   "cell_type": "markdown",
   "id": "130e7b40",
   "metadata": {},
   "source": [
    "![image.png](data:image/png;base64,iVBORw0KGgoAAAANSUhEUgAAAKsAAADWCAYAAACuVHIGAAAABHNCSVQICAgIfAhkiAAAIABJREFUeF7tnQmUnFd152/vm1qt1dplSZYty/sOxgYbMDsBAmHIwIQ5QJJDQk4SkpyT/WRykpAhBAg5DDBhD2HMasxiwMbGxit43y0vki3J2nep1Xt3zf93X73qUql6q6+6u6r7e61S1be95b7/u+++e++7X01GydKUUqAKKFBbBXVMq5hSwClQz38pc03RUMkUqKmpcYzWpGJAJXdTWrd8Cjhn7e8f1GfAQPBIiWsNDXXW28t9I91VPeeR1Jua6r3tM2FmoT319bVWW1tjfX2j92X19BJ91OBtoo8crD09/XbsWLdOFhdhubGxsc7a21vs6NHuamrrKHXN2IIFc6yrqzc7AKt7BA4NZdQ/TVZXV2dHjnSPynhGIUrFXAJzdXW1wh0QzQMryOXCaGAN18N9jOLq566SgdQI2sVntFmlYnpwlIrU1GS8/2JfVnt7IlhjO/guzkqLEAWAksFMmDJp3kxrT2hT6J+Z00cn4m3cYIWTgu5qH7FxHM609tCu2D8zp49OxNu4wVqE2Y54aiZx4BEbmV6YcgrUTmzKGJ+xS7K+8UnT1FMA8WYmpfz21DNlRE44EnCHr8d7RydHe0u9g7Vbaq7KTcPy3Ujtrty6n1yz2EcstGZae6I2oGZIOo/BwSFD9aFlhz7FVTisMlltDgwMnkyp7BmIBPivvWmTtbc02JtffpoNDg1Z3QgqsREzmqIL9fV1ands+xQVOonFBK2GqY+GJrGUqcuadQV9FBmq61lpXG9v/yiLJylk9RAKWnSyxUGtEa0rDVJMf+8XW2z1kjn2hsvXWG/foPINwv/UNXN8JbW2BgV6GIDFB+n4cqqEuzI5BXpPT58qVP3tgTmCu5hcDKCzurr6XN9YTOaBYzY1DbkFq7u73+8BgCcknaytq7EDh/qsXly4XwNg74Hj1iIr0RAct+KIl7Hm5ga39vT0VL/Fh5mRzqUPu7pGYzyVMLDGrgOYwyLX0tKoNmWNAnHqZpoPqo+TMwrgDNeD6etksCJFMN0f6eyzAR10CQDH9WlvbXTg8lylpajqiW2vtPpNtD4zqT35mIMOtK2W/8qRyFyZ2ZHj4tAu39ZYZ3efvpX7DFuhloNeaR4Tp0D59KyIAcrtuMSE1uZ6a5TIAHdlaspohZqmlAJJKVA2sLpUKs56XOqqZjkf1Aqg3VpcMfvPBFVKUkKnzyenQNnAKs9YByvctKWpTiCttW44q87VZIKAnLy6aQ6zmQJlA6u8uF1D0NU9YE0SAZBbe+QrCoCFVf9OU0qBJBQoC1iD9YTVmqxWcuJGXkV+7UMM0Ek3N7ACS1NKgQQUKAtY87lnj2TWpgYpc+UEDGdFKQvXTcGaoJfSR50CZQGr62r5KMOe3kFZseq0yBJYpXAfGAyybCoGpIhLSgE3tyZNzjUlkw7KGNAvP4MmWR4GGmtdDHCfg1ReTUri9HlRoCxghWvCVQEqn2ZpA/ju7R9yR5YgtaYLrBRxyShQHjFAdcA1jZ2iOMWgZ2WR1ctxVgxIVs306ZQCZZJZ4Znw1n4BE3CywOIDWN2JJRUDUqyVgQLl4axZsRSHFaZ/uCqLrH6JAQM6DmJAGWqbZjGrKVAesKL01x/AREZt1AKrQW5dg+KqLLpYYKVa1lmNs7I0vixgxU+FqR6uOigxAD9E943VX051VZbqppnMZgqUBaywTaxXLK7QYtXJLwBzK2qrqA1IOetshll52l4WsGL7Z6rv144DzKx84KyIAEFmxZGlPBVOc5m9FCgLWANWM9Ynzhp0rjWm/TKW0b61oai6StWssxdlZWp5WcCKbApIBwaGTavsx0JtxRYXdx8sU4XTbGYvBcoE1hA0C9UV637UquzHcrC66konUjFg9qKsTC0vC1hxYnGZFdOqvvmwwMJnALnVjQIpWMvUZbM3m7KANe4SiNoATK9sn3VtgMusgDn1aZ29MCtPy8sC1ozUATBP9KyosJj2cbpGXMUw4Ejlf25KU0qBEilQFrBmGafrWWsE0iCzog2AsyIahNqlDtgl9lL6mFMgMVh9SwvcFJkVYLr4KplVn6ghiJw1BWuKuiQUSAxWAOkTvQAbVFcBrJyvl9zaOzCQ29KSigFJuip9NnF8Vt/SAlj16R/UnivnqFixAKt2C8jzys1Xqbg6JWjzJcIMSvntKTE+6/CiycUAACuEuk41C0q+MLkSRZC7K00EiPWO39Xev8PtmBmbM4dxFbDGcT3/EcqyoYEdLlmd6Ek9x/ngSTVvXqvfly+HokttULRAwhM2K6+5esUN1xvlgF2nc61zmq2pJcQMrRRRgBGLd9gc1a21lbpVO+sPr+KBvvPn00fV3x7aEvHiYiW4ZMUeXvTF0cmNdFT7C8Ea/J1RHMdM+I2lqlHTfrd2ttbr8X7iBUhexTDQpdhXvBAOR2zPPbJeP5q+FNqkCIf+wroQjGP6apO85MB0FLZJlsOZEMKT9qCrLxqf9fjxXm9osRQIIe9/gq0pjitcKWKOa86lxG27PWqgFlXago28SuigTgW27RVgewRgUqWAldmB+KwEUZ4JnRvis/JeL4UbVR9VDp2LIWrsc5FBNjePEJ91pBiqAZyBJXuElRPAGtZPGABwWgGkAJn74KwDzlGDkaCywBoGDp1KXau9cyNtZ0p7IubiTO/tKksnSbmKKIAjC2Hag0Urqq5wyJ4ZQv/Y/CC9o9wUyJcai8/7EywR86p8WNwogG7VIwdqmoXLoiGILoQTzDa9PaXACRQoD1gFTmQm56wCKGasIZm1HKw6h4hQFg6edt6spkBZwBo1AgDzhFfBEEZI2wVSMWBWY6xsjS8LWOGaLrMiBrBYQf2lY19gyUUQtWzKWcvWZ7M2o/KAVWiMvqvoY0EnRlh+D2qrC2IAgE1TSoEkFCgTWIPM6opccVPcsIArXHZAK6+wwEpSzfTZlAJlcBGEiBmJAZhcI1h5O4srdX2BFX77du00pRRIQIHEnJXZnW0riAGo//1VQmh0hU64LEEuXMGbigEJuil9FAokBisMkw+cFcCiuXIxIHJWLbpCJMEUrSnkklEgMVgDZ41iAFuwBVQXW4PzS9hEGOTYZFVNn57tFCgLWOGtcE+4qdvZffUvbYAvsBAJHNKzndZp+xNSIDFYgxgQ4gMgnxLcwo0Aqlg0tzqQU6E1YVeljycGq6Mya24dGsoGtwCYAmiMHeALrHyPhJTuKQVKoEBysIq1og0gmAUcNLwbfniBBVDRtaaMtYTeSR85gQLJwQrXzMqsgBWPK7iqW7AkEsBRfdNgKrKm0EtIgbKAFTHAw7Hrn2sDQGaWy2LQ6mPbSMKKpo+nFEgEVlf+g0J9o2N1C5b8WWOgNoALoyVua7rASsGWlAKJwBoXTXznzK36PWxuBayIAeKsqb01aV/N+ucTgdU5qxLckx2yHPk+rqwjC3EDkGF5H5bflKaUAgkokBysIFSgRfkPMMOGQuRX1FhhgeVBhqUOCNBOUNv00VlNgURgdTEARipg8vIL56RubkV1hVEAMUDvGsiKASlvndVYS9z4RGCl9OgHwEuFWVDlVFdCZlhgEZyNBZYrC9KUUqBkCiQGa/QDcM4KWJFZlfgfzhs3DaZiQMl9lD6YpUBysIJKzfnIpYGzhuMgygYHbICMNiC1YqW4S0KBxGClcFRVDtbs6h+ZdZizSnWla64NSIXWJH01659NHJ/VKSiu2ecLrKABQDjNMlzfNAiQXcuVCq2zHnATJUBWO+qPJYrPGvWsfGP/F1aF0mDJInPfLSCOCpBdZtVxfuETrXg57w91iXWq/lE0U9vjb/oR63Ms8V+Iz1qXxUKxuTo4VTPNd3QMx2eNYHUTq3SqTYrROm9ui2VqFU1Q2bTomEh9XGtTHNSGJr3NJbsAKyfwSs0Lrt/W1mwtHju2WLtLzXk6nhuOzxpi6FZ/e1ig51tJC+KzBlt+Iakd1R6fVVO6Yq1yTCYRrENDRLge8AUWsa0GdA+gHPC4V+YhJQfEXYmDWilghcPX1zd4vfhEohS2vVqO6YvGxhCfNcTarW6w0h7wRpjVmFwMoLPGE5+V0EDHjw/HZ42gbRAoexRkGJm0q6vfAw7ziiGiW+CD1dWjc/oc7w4grgwAMKPUz6j4rO3tIT4rfTQTBh8Mkpk5+EhnxQAaBscbievBhSJLDubUsLiP54Ek5laCsvmiX3nF+9GzditgLxdGK2M6AJzfpmrvXOg3k9oTsRXFM8doOToJDosjC+ZVX6roOC5ZAKu/2p3S/VL1L2amY2DN1jJhfjEl1rMCPaAZNgsGnwC4KGWAS8AaHFlCqeUYHLO142Z7uxODNYKyX3uw0BYE3VQAK2os17Pq/VgAGvCmnHW2Q6709icHaxaARAsErIAx/AHMGsmxcswWkMPbB4Nes/Tqpk/OZgq46ipJcm8qbcFGZUVQi2BqjWKA1CnSIMBR+3Q9yB/VrVJJQqv02WQUSM5ZAav+wvsEghgwDEdpCCQGsOsVn1bQmi6vknXYbH46MViDHEpgtqw2wMWAbEIM0FsG/eUYMsdSWOp5NZvhlqzticEabf7IpUFmjZoxcVyx2MY6xABx1qyViHNpSilQCgWSgzXrZIA2ADVViBkQqgJIc2JA1k0QTpymlAKlUCAxWJnzwd+g1FMYBfwock/9bNACC5mVHa5YYFPGWko3pc9AgcRgDZsDpZpCDEAbAOvMItJjtAJgnUJmxSCQctYUeKVSIDFYkVn9LYJwUdezDgMSBRYAxRHBZVaEhHSFVWpfzfrnEoPVdwmw0hdXdQuWAzJLVwGYqZ/z/lZsV12lgsCsR12JBEgMVoDpe6yU3JUrD44uEegGjAXcwzbt1NxaYk+ljyWXWZnW3akaULoYEBZc0BY1Fdfhuh7oQvekYkCKulIpkJizspoiiAUcFg4KQuNEz7fLrPogBnAPMm2aUgqUQoGygLXPgZjlrK7ICokpPyywtO0lq7rKu1xKfdNnZjEFEoHVYalpvjdrnUJmHRYCAleFz6LSAqz8hrGmcussRlyCpicCq0/zrg0Iaqkgsw4vogJnDbrW3iz3jaJBgjqnj85SCiQCK5yVBZOv9MU9h/dnBbk0JwbAWR2swZ815ayzFG0Jm50MrAGtrmeFq7KACp8A1rD6r7FGbafFKMCmwmDFGpZrE9Y/fXwWUSARWB2YiAECYrBeBcrlc042CjZrP3tfP7sFgskVwKYppcBEKZAIrKzssf87Z63X8inLMPPBiO9AcyOcdSBsHFQNU7460W5K74cCicHKCp/dq764GoFjwlnRBsCBFWQjNbim2CuJAsnAmpVRQyBhyax55qsoCoDfpiZxVnHffm0qdPVVylpL6qzZ/lAysIp6AA+u2aAVv7/rKiuODosCklm1wGKPVrpbYLbDLVn7E4MVzunhLrUx0E2pBWDlnL8IQ5Iq99UgBqScNVmvzdKnPeQlie+Rpmef3f1iuCd3nz8aLFjNDdrV7fcNL6Dic8izoBj/gPCCjHDfdNI86HxHb/d01m+iZQdaz8T2DFMiG0wY/SgeUSOTKOhH4z1ZfanuDx5VQ9bezLXgXD2cTwB4UGvBWUNYTLjvaGWNXItyXon1DW2a/voka5svXJ2uM6M9UCO0BwwFq6hz1ubmei2C5uhkAGEh2Ri1gRi1Nn9+q3NPMmL7dYN2r/KO4ba2RmtvV8DgrLsgeZA3XFWBLvV8rdVLK0BQ4cYW3uySWAIprOaEjmkDoY3mqD6trXkO4xPKpbJujkaY+fPbKoAZJKNNxFhc+/DtEVnwR+3u7ndAguLCBOjY/9/c3GSdnb0OwgDWjLUJ6IS0rBFiu7r7glyaZVPchxPLoHSs/D50pMcG+vqtU2VNP1gzPrh6VffoNVbY7mo6DkyHWKa1Hms3X9ddTe2IdXXsaK0zZ05LbuC5GEC4yj6BCO5XLPGg9gGI+3IfwOOuIL926RcxA0JUbKmnsk7WfoduHMDHVRsJeGt2Z1dfKEvBhrk/i+liRU7BufAmb+o7EyJFQ98YJXomtCeANcROO0EMiNPHaKOx2D2ADY8rCNUkzguI430RbegBGmTdIn5Ad6/2YSmFcuDOxQfHFCA1V49i7Rp3+Wpw3MbjkpWPvpNnpnHnl+BGis5vy2h9maCYKX00H0v8ds5aSqJzWNkzhRIXIIxqZ7knJEYIizBehgFnZcs2LLXEYguzn7bjMNuoKQ0tLtDXDPZbpr/PsQpNuV4qbaetURVecMlRBCMPiZy1EfXUyVj1TqvTIqxVsu0xyaqIHLWuaC1tkEw3PSNIqUdNbZ0NbH3IBo8dsPoVG61u/nLL9HWLDOFt4Clgy9tbJYPVp3zfATDk2gBMqsE3YBixdBZGARZTbXqRwTE4KzdXMVADANWEukbruffb1vfYjVYjTUrf/ddZ88v/pzWcdpkNCbC4XaQctlLA6tNd0J0isza6BetE1kpnhU3aGWuVGHC4U2CV00sMOlzepkx+bj6tM73XN1n/8/db36M/tcbLfsPqFq2xged+ad03/x/pwxqt/tQLLdN7XHitS0WBMnZL6Ssc4RKZFb8AIIriP6smyFXPBWQdEfKyRWJA9LyqRnk1zBJMJ5JHFder7/7rrWHNRVa/5HSTPs4aNrzc6k+/wnp+/n9t6NAOB3QmQ6SasDuijH02a7MqGax4WAFGxIDw6vaTXQR9ylT/sgBrwU1Qai+P3pJFayEnruReCFO6fBsamyWnPmhDxw9Z3bpLpaRGRtU4FSdt2HCl1cxdYr13fFUncDQXTXQtigOV3L5qqFvJYBUMvRN6ZEJ1RxVMrSdKAaGTxFoBKwusbulXWZBFsPq0WgUpckeccfDEGdj8S6tdsMJqW+ZmRR+/ooYOWuP5r7eBfc9bL7Jso14dqmklyLnV0dZK7o7Swep+AHIPlOoKzhq4x8lN5R5kWsBKDNcu6VpjVJZq4ayRMzK1Dx580Qb3bLG6lefmpnja6PcMytjR0mGNZ19jfQ/fYIMHtkkcaMyKA8FIcjKF0jPjpUDJYIWVYJxysKqjnFsWYR6cGgSsEgOa5Nd68FiPzoQbqwWsXk8+Dc02uPtZ/Vab5y2ViTkE94DYPksA2IFeq195ltW2LbC+B78vrUF9trVh/9l4Oya972QKlAzWKLP2iFOyuqevioEvTKHmnBWNwN6DGGiDvFANYkBOBED+1EJqcMcTVjNvmdW0tKu9WlxmZXf/pmWAWsRo2HiV9b8gHeyOJ10ciPmc3AXpmfFSoESwaoWrDgFsXbwN22XW8CksmPPIrAC6vbXB9h3p1nGw8BTeW4nHsV014pCZzkM2uFciwJLTXHbNaMbIiQh57ceSVbtgldUuXGX9j//MxQNfbAHkNJVMgRLBGhYU+L2cKLOe3Bne2aoe7oTz2prswNFel2GrgatCVeeI/ElnOnR0t2W6j1lthyxVAmQOyEwr2XsdvPrj/4Z1l1n/i49LlfWi1dQ15IBdcm/N8gdLBGuQ4YAhYMVndaTYq3FaBKDz25ts/yE4q+Q379zKp75P715PvZ+WKV2yaG37QnFVeZ9lARpbMQxecdH+XqtdtFr3LrL+Tb9w/4F8kaHyW155NSwZrHQMTilsVWlSXICwSyBwmPxmhg7krdkZWzS/2Y5LbDh0LPhbwpAqfWpkQHobtJga2LVJ9v8V4rJaNGVl1cIZIgdIEQFq1K08R3rZh10PG0WBwmcqDxaVWaMSwRo6kC3YRBBskV8AkVlGSlxDI7C4o8VjuG7eeTREyfa1yMjPjZTflJ4XW81I3hzq6bTM4d1WI25ZM9iXk9kL6+JiQBbIGXli1S3d4AszAFvTgFUrtWgV0my8xyWBlekPtRVgRcmPdYpt2CPO6lkOSsyreXOa7Lnth92XAKeWyFkrkcN6nbyx8q4SV2VR5ZzVF0wjLxJzAxBxp6nFauctt/4t9wWOPDKVxttns/a+ksCKDAdDJHogYkBLU1g8jMQjgygQOnf98g57/PmD/uwcqbOQZUmVyGG9TnBJKfYHdzxlNXMWSA3VkuOco9XZwYwgoOfrVpxpQzIQZI7sEfA1sFPuWtKAKwmsHh5AnQHgemVubUFm9fVvcRk0dg5y65mnzpesO2gf/8ZDtmnbYd+0F69XEnfN1Qm8iZMOyYRaC1eNUzxcd5Tk9zEIxV1r568MOlpxZ3fWzuYxyuPppSIUKA2s6if3uNJiSbjzLSsRaMW4TeSsg+okgrS96fI1zpE/+e1H7LHNclyWNiGCoEgdp+WUc0ZAJb/VoQNbLSPHldrF61QXnB7HVr3F5zNYuWQUQCsQRIkwK8XBMC2Nq9JCSwIrLDToWDEhhi3NMBrnJJwokjiPnIucunheq/33V59uZ66eZz+6+wXf9sLTlcZZ4YqmRdHgnucsI6NAbdt8aQUAa/E2FjY7AFY0qtezS9Yrn8021HlQoq9EgXEAPuaXA7ZozG9Uf/HjNMueLyx/ph2XBNaopkLHCqUiZx1JDBgmWvAhGFKHw1nPP22h7T3cbTv2d7rnVqVwm1gPJnJgCVhr5izMruaDF9V4gBBnFPxf67TIynQdkmFhr2UkA6P6Gs/g5J7IAAB4rRZ5zfWKdVDfYs11TfLL0KwEWukJgJv3PZ46VtM9JW1rYasKYkC35FVMpx5xBU6hlo/EWQs7BhPswrnNEgtq7dntR2z1Ke0eOjNw2eklYWiDOl5Wp6Fj+21w3wtWt+o8cVdt3ZEaarwpgF60kgrLZEjAEWZI5tr6padLmBC18oBYLM8IVLgoCXAe6j1ij+160o72HrP5zfPszPmn28IWrQNqcIIPXDeKIDwzUn8UK6/Sz5UGVqkDACtOLAzq8Jr20ZtaSDSYAP4Cc2WC3bbnWO5V77VjdODopZTnqoNM4kpto7QAh3fZUNcRa8R5BQHdJYDxiwEQKONbJdpd7TUgoDWc9UqJAprUspywWK0jUH2Q61+jZOe7dt5r33vuBv1uEGdtteP9Xfa9oRvs3IUb7ZpTr7IN7dpeI9AOSk6ul9hCyufMxcqppnMlgZUpDA6IJgBi5C+wxtt4nsMPdoHC9+w51OUvK3ZA0zkjyL3jzTvpffkdPLjraattUjgeTKxst1b1JsL9adOQmlWLr+uClXLc/pW7Eda6gaC4/JsPVH43y4/259tvt28/8wO7asUVdu7is336H5DJd+vR7fbQvkftY/d/2t54+qvs9ae9ylobWq17sJugTU5TB3w2FTKNpLSayudLAmvUH+JIzUqe3auBHsNEGa0RsTPQ1y5d2GIPPNNph2WCxWyLeDA+vjVaCcmuMVZqajTly0Tav+1ReVmtd3l1qLvTOeJEuJUDhQwF9NrsVu0hceuaU+S5JbAWW2hFgDH9t0rV9ei+J+w7Auob1r7Gzl6wwTnqIHXU32nz1tr6+Wvt6YPP2c1b7rBf7XjI3rbujXbuorMdzAOZASdGNBtH4FYjaEtcYMl8qk441tUvP9U6mVAhx/iA6oTLck6sXji3sNg6rBha9Q6E6YZq6FrUHUOd+2Vi3Wm1p6x1WTWAOJiaHQHjSLTVddCamnGAqdFWGDcwiDPiIVMcNGHxVS+twZHeo/atZ75vFy25wM5acIZ19uNjwJohcM2+oT7rlfl3w/z19r7z3mUr5y61zz/6Nfvi41+zgz2HJOcqEF5tgw8KxANvXZb+46h+Rd2Si8/qstWYeAv3oP5n2iYOQKviASB7hqjW42tbjnNoFiSuK/LvIYF19dK50m3h0Dz5gM2Pz0qtY9vpR+c+mFifvdfBhTGAHazuwwrnL6F6zkFZmHacIp/Y51z3F7gcRD8xQz+jQhoEshu23WT94pAvWXqxdQ/0OPC5P9YX0JJPz2CvzWlqtteuu8rWtK21O3f+0j5636fsyhUvtcuXXWrL2pZ4nj0CNhzXc8kOpMLyx9eLk38XbczHZC4+KxUOnXAyYuPUAYjC/inJYVqAwFlxYil8dfv4msHKVfKYnmegEFOgUTGxugBD7cl1GF+e478rtiVwmWEAQhyCd+Cs0v/8fVa3bIOOJRJkO3f8JQzfGejKKAjWrIHN9ypyS5doyZRUBPwqrE5l7uveb7fvuEdy6susiaAagwKrc9QT6UP+Ouu61x4NqiWti+w3Tn+LPXPoObtv90N214577ZxFGyUabJTIsMYWtyxyX45+ydEMhKhtKGEMlkKOcT0TmULEG8cnxWctPsrCdEXkv3lS6HMPDezTKneZ4rV2zJW9XNcmEsaSwlmoAJYWcecevSerqaXJ5mkVG94BO/mkG47P2uht4h860VrVoXPTL61GU/C8jZfIAiVOJoeUJNOnE18z0NDq9Xbo2TuttXuXNa043TUF+QHqaPWgaNugOvzw4R/b/NYOu+TUc0TrfmvIjF6HaFzxICL6u7T9PLtg5UZ7/shWe3TPk/bt5xTroLbRThGY18gEvH7BWtu46DTraNaMptQvMYHnAP7ks4uxMBswF2nOdy4+a0+PYqwyLRTBiKO6vk7xWRsV+7NPoDTrlpzZ3a1t2ItqrFPnenqyUa3HqkP2euTWLKrY7rJz3zHrlljhLy0GOsUqMs68x3MbHHSOPMCIzxrDdLqKyQuXiHPvD61W7n29NRqIXWxyTFanwCmQU5uk62uxzq2bbPCUM7XzQBxW+tuYfBCLe+7tO6TF0sN2xfJLpSJUDNmB0D8jtY3nGuX9BkPp6Qm7GLoz2l6jvFa3rrYVq1fYMcm7uzv32vZjO+zxPZvsnu0PCJRDtrpjlV296mXivnJnFAH6NavA2aczBWamrVCKoRtTLj4rnTZafFYebtKGP+K4wkEdoIoDgEGgV98DhL50s+n4EvnhcMXzHa2NvpHwuMDKiA4dO/68xldi4V3EZ210oFJ/SkOVVNMyz3rv/Zb1HxLnO+8N1t/T44sjUpIB5G3Cr0A6UtNug95dm62mT8eiu9UGtR0DaFCbEDsa2+225+9xGXetdKdd3QrgDIxGGcDkz0yVG3RrAAAgAElEQVRByo+RK++NXPzZ5toWW9ex1tbNXUtrxRj6bEfnLnv28Bb7zANfloHhDPuNM94izrtQW+Z7XT3mhJmGRHuYIRA3XcykfREYgauOXLPcdRGM6YZXBRHggh2rENnXvKMQs1h7Awc1myuw7jrQ5eGFCI2prCecV7H8xzrnbdJN/qmXm6P0mX2P/lhbqH9gjRe+WfrVOVktwMTbVlg2dEZOhCF4bKxtj5h1yU9AZSLLUhe4XCMagL5j0p0+4nImi6zeoV6wNSZNYh/l96X3KHmrfLQB/MVEXdZ0rLbTF5xm+7r2283bbrNPPfQ5+8A5/8PVYV2KNhN1tYXtmYrjE9oB7iYKMDgfXdyvMED4BgAuFkoTHYERKLgNtrWoQxArPABGkJcg7mSlmHeuDOlQB/ZutuPf/4j1/vKb1njua31hldF0SEd7nRLWJ7Q3ALJGGgF0uJlDO92ri9HuYNYHVdPj+5+SyuqYnTF/XQDXOIA6Fq3ygcy93u/6hx62S3rb+U3z7J1nvNWWz1lmn330y5Jzt7l5l7VJ0raPVbfxXi9Rz6rIKpJR6T9c/tiyMlGweueolrD5OS0KLSR3wx62dWdFiYkOovE2ONdRDgDhRP/13H2tdf/wf7vivvGK/2H1q87Vb3wAhoGatD7xeUy2RG3BuDB4cIeLBdCRD9MuK/779jyo6XqNxIG50uSFXQlJy8+nTy4vlYlMi3yKvpaF3WtWX2Ur25fblx7/uh3WAhNdbxxIE6HxZNw7YbAyraD2OdzZ4xYnwEpjCrQpY9Y1jPQQB4vYrTixMAA4D4gnYzRHoueIL9e97ju/Zn1P3KzQlf/Nmi57h7sBugGgjECFGLmy8W91823Qt2LCDbSQTKYpf9fxfbb58At25gI5u4BgJadJ9veYhJ3ADTFf8gaweMP1i9O+ZvXV1Niu3XSdwJwN2+kDKnD/CRRR1ltLAiu6r4OYR7Wnqon9V84lA2EnUjuAD1fmRcRNMg4cOMqqm4XI5IA1gEIdr06pbW6zow/ebN1P3m7NV77X6havsSFiqiI/orDP1qFcHC1XNrQSN6tduNIG92+1TM9RiQJZuV8Nv1960Y6mubZS0zHcjkEDfctVj8L+ya8XvwEsZb5p3ets06Fn7Bcv3uUuifKgzQ4ql4KnJU0YrA5L56y9/k7W8EK2rAw0wSbQCYgBbItpk9l27+EuYQUuPTmdEziDiC6OmpHr39F7rrOGM6/2uFVDvVIhscU6y8ViJ06wSaPeHvPE4FDbsdR3H2SOH/YAGkCgR7EGHtj7sG1ceIZPz85NdWGygJpf2Vg3ysVQMK+pw14uY8SPn/+Z7erc7Z5eAHk6ueuEweojXX9Yr+ZoYeSVL5GgDgxxaZxh2qRrPXhE0VpgaQiTZU6ByMqUwSA9Z89Tt7l83Lj2Ag9IETorcPTJAkeYgVQGTi0SA4jSMqi9XZxvlEP2I/seF1D67Yx5p7m9P9r/y0yKEbOLgwOjAOWfu+hMgXauXb/5J2Hw6En6Pg7oETOapAsTBitDnUYdk56VVbx7SQmt3tAJpgCK4BSDrvWI8sRBZjLA4nniOCIVVUYOKn3P3GOtGy6Tzyq7VaOec3LKjmSJ3MutVs3alyXuOqBAb16+lET37L7fVrWvtDa5+EHPqQZFrrwghzkwMfU+ceApH0itEgfCoJ9cOo0EowmBFTxGDnVECvzAWWGEpVXeO0RAB/Dtep0mziyIBfyVO3lZ5CtuNrBTMQAkKzaskN0fy5CuxUBz5S63ML8cYFnlK3AbKjNtTrHNR16wFzt32nmLznLDQATOZAzcwjrlH8f68Y04sEQOMGcvPNN+vOVm6xroDpYt6AUYpjhNCKwwJzRLBFk7drw/cNYwb5dU7UCYEFoIw8BRcVa8uSbDNh2IK82FpuD+Z+7SuwBOszpZknK61Ckivg92DZsanLEXnur61jrpW+/b+4hbrnAyGcBGz+CaBHFoPB2VA6LwiFhy6ZKLbH/PQfvV7geCu2FWSptqwE4IrJGAyKsAtl36URcDEoiYkYN0tAWRAu+r7Iw9HrqO655Yb1b57C4dFDerXS67vADDyjwUmKAR46pFuCnHWVFhKWhGY9tC2/rUTfbwoaftvIVnOeeaTqBSy3zuijvh3MY5dvEp59uNL9xqx/rkgC52Eu+bSsBOEKzB1BpUTDVyQNGe+oRTAo1FfdUhpxL8WnfLR4CFD4u2ciUfEIgAWu0PvPCg9o5r4pXJMzhUq6Ap4qqxPV4fPiq3ZdFa2/bsra7PXCvTZ784fwRCudpfSj5xwGBuxVf2PO08YHl1y/Y7rE07a6Nlayq5/4TASmUB1EHFWMU/oE2clX5OUmGedb/WrIFhr/ZjxfCZ5Ri15OGE51tlDbzwgEJRnhripQLgoMoopT8TPIMg4EtVy5yyzjp6uu3ypmWiwRzJ7MPyaoICEj8aZzwqCv0aJOtftvQiu3vnr2zn8d3usxABW45+Gk+FJwZWVRqQHhJYCbvuHBAgMG+XmHJTjnAzV4usfYoj4H6ZAlGSfGN1ItFRvPN+qqEju61++UaXXfH8n7DprcR2xsfC4Al0q1f5T/dL16rmbuyRt7/ElGCOAMjTn2LfUBPEAbbO4Ltwy7bbfbdtPo2norbjBiscFM4EkBAD2gTWcgDKwa6W0mEdAutueV9RBtN2OUZs4KpSZksdRNhJsVRXGXm0FTjrFMIiDuz43dffY/fsf9y6tDerbe8L2VCa6hKvViXANXDVMPvpfWc19fbSZZf4QmvrURxdhlVZFQVWaAeReTMLYMU1MHK+JKByzgds9B9BL9jlio+AM1dOJkg87x+VUSPOQOTqOuKrsqfeR1+CzCf4aD5QcQVsktz84J5HXPm+cM1LrPbgdmuI0VqmsmJjtCM384mGuCriYLOoZaHdtPU21TI4q0c6j5FV4ssT4qzIkv3yGkJ5j140pqTTNTwEJ/0l2iLTJVfBPVpkBUfiMF2W2kontEga3181dGB7CO4bRt6Ucq8ojiCfI//tkcPKw9pifa6mVt6mPSSRoHH3Fq+TLy4TDtRSaVbsucg0HJT6YwPiI6r7lsNbXZXF5BTbV+z5cp0bN1ghHtPzEamWjmsLzCJtN6Di5UrkhcxKhXYe0Ksl2UekMksdCDmuqvyIrzq0R++vEidgdylcNqTJn2pz9chyeUyopNu0qp7f3GGr5yy1Xvkq9C1eay3PP2I1Mv2iTnOAVAhgI3el7n2aCVbNXeFO2z/Y8hOoG2avbF9FYGcJXNavcYOVqZTtBbwPAEfpee28Oa+MYFVeRMZmt+z2vcf8d+zoUlocR7rH8RcA+uWZX7tQIoA2x7EpMMiE5at/sTrGwTZclxprEie648V7bG/3Abt4yfm4Kgigfda3VEYKwhTp7YXuUEOGcQYolvkUn4ttcUcXLU5ftvwS23rsRbt394MyD7dNiSpr/GDNjpwDekMgWgB2CJQLqwGUYT/WkoWttnVPpzti+0Iry5Em2jc5oODc3HlAbwZ8TmEn9QZr5gMqDhAmcXEVikDwxuIXBkeTPO9/qcXJI3uf8KmUBQoOz7X6DLR1WN+iVTZn0925GStXz3IReqJEzLs/f5rHHLygab5dsPgc+8kLN2sbjpy0tfiKOnev9ySkcYGVsiOg9ku1hDzZqN2ubmktQxrmPGZrlsy1F/d12l69gogyAFQSUQBQDuwkAopmBnHWjFbgrrKaJIJCjjBQwjcd2yBOyee27XfZL3fdby9ZfpHMqgtdHeSbNFW3Wvko9Kw+x+q1yGrepndn6e3baCyGB1YZCJ0wi1w/qN/ZGn6RrFo9CrxxsxZbeI3FsV9qf41VvXGBNQYaoBLEU8X/tLEhK1eNVcI4rpMvH/wClmqRxf6u53dptBaEcB8vl433+SBQ+f3P3m01kglrmrUBEI8nZ6rllVfjgPbmKuvIZVpk7WE/1XXP3mCP7X9CW6svs2WtS30qjZ3q4GYzX+tc61m+weY+LosWb4dBHNA1B+wkDq5xdFHulthX+LbilE2guFvloL1FuxuaFJMg0t7rXOY0LrDibM3UTwX3HOy2U+brFUHZBVA5KhUbyFuzOyQLn7q03e54ZFdwalG5+CFELu4AHIMQ4NCJylYN7XNCC1C/YmM2BBADo7yEdLBlPc88uomyh5Mi3xER5ZtPf08eS112jfY3BUeV4X1V4Vk0AKqXfBXgrpyb+/BNNkQ8WLAPYGnUGO0uMzaKZhfrC317ZYZlF+ya9lX2DbWRzYf57/oaq5+KFjDKyfGBVSRjcYUP6/7DPa5igi+hzo/cYZQyxrwURys58iK4SzYsVoDhQ3b3Y7vds6tDMVx5swspOM6MDNgAfF1HTlTw3v6n7/CXAvtLKDR1BbCXj6vmwCZUeVxUyW58timQxDefvl4K9Pvd8/8VKy53GTV0aKBbfBYu78we/Z0G2PEzr7Dm7U/YnKfusozEARLXcoCdRtAWMgvEgatXXWkH5JX1w803Wov0x67g8gE8cj+NCYoiN4wZ8jJ0PrrBWtt9uNc6u/s88h/OJ5GDFcl3wqdoGCOH92otXdBmr7hguX31p5vsaYF21SlznJtvPHWBv/SN9xJE/wHvSCqiFAnk+4jY16RtIwPP3291p17o98Cd3ZTr/Kr0lM8xYodwrkXT4qGeI3bPzvvsmcObpeJZKXv6hT5dIp/SiVF1lQNqqLiLJc5FJR4M6GUZxza+3Nofu8UDuB0/82WuMchxWO4DsNl2l96S0p6M9GaIQWvazaxxw5abbN28NXbR4nPtOL6vOHtmARufKa3E8NSYYKUQ/9P3Luk/odE8BQCGAzrxIFwZiBY7j/UGITAvOuMUBb9osse2HLBNWw/5Npqz1y60975+g5t6KT8Ab7j5kTC+6U++ob2P643UWgDUK96TwWmVQjmlk6yQY3BcTyxXiQEPyCf13l0PCJwtzkmZ8vEHxYkZErnlP8sVT6AZFyMn4i7tru1bvNqOnXWVzX3kZqs7fsSOnv8a56wEJYYNo4t1wJLKQP+JUiR/wNLGdXNPtUsUlvMrT1xrCy+eb6vbV3jUw/yAxklxMiZYY+ewVfqxzfslArR4bKrjbhItjxgQ6B2mjNCgjL9j64xV8/Tp0GIkI2NEr333F1vsiz960j709vO8f8LbtU8ks28RYXPbsX16ffotVr/uUu250jYRwkXm6jtxzprjhJTrfgXyNNR0D6fECwnd6f7ug3bWwg0ySZ7qA5wYAFzPeZFpaI/YYScAVhsaxEn7TznVjjS81tq1A7fh0G47fNlbbbBdL45jq7iLDHBjSpp4eyYKzsL7T2iHiu+RKfalist1tP+Yffrhz9uHL/qgwmwuE2BPjsA9Ig0KCyk4HpfMCrfrltXqCb2zas0yRZzLcYcxcp/g5diIAKrAYeGygHKR3vv67mtOt2dePGzX37E5q+cNnZQPQpf9JKv2PXC9fonrrT7fdwOEWTOICxOsVu52QMq0B0iJVnJU+kU8kK579kfuNE1c//WKRM19yKaopU5s0xjlZzmkf8FFBdgBWdyOXPwmt7otuvkL1rLlIX/N0RCqIsQdHzhj5Ftqg8fxnNPeRSuJcKLzNYo5sLxtqX38gc/as4c2u8GA4VSOQMZ1f/d3f/e/+qSA51MM8Sxo0Hc+tfWg3f7IDnvVRau8YggAVGIyE51GneBqfVJnMf0vk9Hg+3c97xx+/coOt6Z5fbIDqFbBf/seu8l6BdaGS35dQSvmiasWti2AnKh7A4paOEhwrTESbWU7cqPUMwfEQdnff+uLdyoSdZf0jef5W1PgonSKd2A5aANgld+QwNkrCxdZznnqTmvcv92G5sy3/o7FyAP6BH0sqj7Kpi+nOjl/Vx8QX+D0eesVsbDTfrTlRj/GNMsmSGjjPrDZyo02H8SZjMiVUdyT2JPJHD8uT6eu4FA93MhQOJHceEfVP371flsgr6g3vnS1ov0RcdCRNIU0CTEGCIhx71N77I5Hd9mHfv0cu/CMxb4oYxXdN6DIeA//xHoE1KYL3yRZ9Vw3AvibUYqkNmkZYgTEkwYqGECO5E/t7NReqW0yL+K8scP30dfbhoXrbdWc5bpDL6Pw2P1lgWiRmuoUQBA3res6bK2bH7C6w/vcRNt92oXWL/kWGbZZ79CtVX91KURnGDASVVgIF89xUs76Kkb/8Hd9+uCzCpJxt7U3tLt++aKl53k8grDSObH4ENQYxkNtgzYB7HV0aBcw25GYRfQfePUnw1QZMmHqBZD7ZEn6xP97QO9ZPWTvf/PZIRCbawKmkgTDDaOuDeL0tz643e57Ype98cp1dsnKOpt78Glr3/IzGzi8x+Ze+kZr1M7VGFrdq1owjDnkfM5EqDYNyNoE0Xr1NhWClR2RYv5g92HbdWyPHeo+4rtOF7UusPUL19gpbYtcHGBxQZoSesCVpL91Pw3JsPVbHrWaIwdtqH2+DS1da5lFyywjmXaoSQGfG6VC0kxwRIO7D74ypZANcj3Rullk3bdTrz3d8zQnPYjxaQpivKx9sS1QeNH2xjZrURyH5Yqj0JJ9iTMyfkw+6PRxxgFYCwnNBT4g+t4nd9u1N26yRfO0vz7mkI/qXLZT88MrrcqjwiLqIAsqhXOzxbVH7T1td9ogMpK/XE06VTpohDEVm8BOUkbtSPfRqijyMM3XaeXPGZdfyURpaoEQykQ0wLZRxy5Z5FZvZ14nq2696r9bFs+1XU2Niprtw9PrO7lJ5WTBBd2gV71mvcgEApMYrgf9yfW3bXy9bVy83uka1XuF9XQxgAfyUwRvBEbhQ+lxSoHJoEDEWzE8+rWTkKpaxJsBLeJANABMRgUT5ZkdY4FnMIpPHHSJ8p4hD7N0dGfuCk9BxTe6D3NRsFZ4u9LqzVIKFF8mz1JipM2ubAqkYK3s/klrl0eBFKwpHKqGAilYq6ar0oqO6MhSqD7I1xBEJS3kK9TRVipJ8+vP7/z2oU921UieMrpS2xHrFesb25HfvtgvhecquU2j9Q/94h/ddJK+J7/jUJgXvswt/3olE2C21q1Yn1ULLUbClptbi4G1cPT26m1zmzfL06mlxdauXeuX8zFeDRwpv778Pnz4sH9o07JlMlNWKWelLzo7O23Xrl3au9ZvK1askD1d9vc8HlRN/UNdjx8/bnv27JGPQ5e1tbXZmjVrgtWy2IijoXF07t692/7yL//SDh065MS4+uqr7Y/+6I+0zSW8cqaQ6xbLrxLOxc6jvtdff719+tOf9g4+88wz7brrrqs6sA4q9kG9gmM88MAD9i//8i/emfQZ7fzDP/xDe/nLXx7MyCJ+tYA1tuHrX/+6/fjHP9a7gpsduGeffbb9xV/8RXHO6rbybCP/9E//1B/45Cc/aTt27LAPfOADDt43vOENcq3TC8jU+dVADJ9GsjLpo48+agzChx56yJ544gn72te+VpVghWE89dRT9uyzz9qVV17pXOhzn/ucDz46m+NqmTFiPemnLVu26KXJjT7jvfjii/Y7v/M79u53v9u3PRVNgHDfvn322GOP+c2tra12+umn25vf/Gb70Y9+5ESIC5OiGVTYSYAawXr++efb6173OicGA46UP21WWNWLVgegkjZu3GhvectbbMECRdFWB7/rXe9yjspgrKY20TcRU+vXr7fVq1dbQ0ODi51nnHGGz4JFtQE8xIepf0COywsXLsxNKatWrfKpB5EA4lRLisTgu69Pr+3RYOQ7ArgaZod8WkdOxDcDDoDSH/fee6+LaKecopheWQBUQx/F9tAW6r1161Z7+umnfa2E7PqOd7yjOFi5mQ9A5eGmJoVQz6p3+B3PV9PIze9c2oa8Vy3y9khgi/SnPQCVmfDjH/+4ve9977P29vaqklkjs6BNDDZEm69+9avOMNetW2dLliwpLgbwQHyIB+FAUXjnN+fiAmskQlbi+QhY6hbbw7n4m/Ox7ZVY/8I6Rc5JX8B9PvjBD9pLXvIS+63f+q2ceBNBUPhspR3HgUdbYJCvfe1r7dprr/VPd3e3D8KiMmvkrPPnz3cOdPDgQedCfFhkIRYgT1Rbx8aO4zsuDOPvyGVj2yutMwvrQz0ZZFGc+b3f+z3vl49+9KN+a34bC5+txOP8vonyOIwRDL71rW81FsVFwUpjIMTixYtdtfOf//mfPvVv377dbrjhBnv961/vxOCeWEglEiC/TvkDi3rTnlh/5G8+pGoZgHE2QFPzN3/zN173z372s94fdHYcfJFjVUP/UEcA+sgjj9iRI0ecIcIcUWWdd56236sxRS1YcdQC0D//8z931sxUc+mll/pxXFxVi9xHe0jU9+6777a///u/d4IgE7FofNvb3mZ/8Ad/kJPzKr1dDC46E+aBBuCVr3ylc1Y6my4FwGeddVZuhV3pYI14A2OoSw8cOOB6VkSApUuX2l//9V8XB2tsGI1mpGIhQR+J3g4FLefyMV4N3DXWl7oi1jz55JOujkPMOXr0qC1fvtwF+fz7KrmDYz0ZbOgi6VQAHPvinHPOyVmyqqV/Yj3379/vsziWU6xxzO5cG5Gzxgcj4vM7LoK4kjszrdvMooCLbALeSWIAzcw/ze8IUEd4HmethlGb355Y9ygWxC7lPFN/NXHWkdpCm+ICsloYS6xnxFrss4g3/9bFomCdWeMybc1MoMCI2oBKb1wcY3yz+Ms/Hqnu+fcg30XuWsp4jc9QNpqFmArrQRmUFc9zXFhuzKPw2WLtyK9rNM5wH+dLaUdhGfn1JP/x1Kkwj8k6TjnrZFF2kvMFRFEEy/9djmInM+8k9ZsWzprPBSKn4Vz+bxqVP6rjNb7j83zjk/rwww/nrGz5XKvwmXgN7cZ//Md/uHcPKeYZyyx2nH+O31Eve9NNN9kXv/jFXB/EdkR7PTZuykIfyrXnnnvOyyWPyLnuvPNOt9TE+hbOFPl0iL8B6s9+9jO75ZZbHLTxmcI2R1rF+he7Hs9xL/mQHzT9zne+k1ufxHySgC3ps9MC1ig0U3kWAnExkP8bAsYFBISK1+K9UU3z/PPP24c//OGcIjwukni28BnyJB07dswV6PlgjWXF5/gm5ecTz5EvOk4S3k6ovWKiDK5HxTxg/cxnPuNl8vyXv/xl/3APajPO/eIXv3A3xVjfaMqm3VzPrxvlcB4/gH/913/1POK5WHbMp7AN+W3hnkjjwvvJH50t7oaAlhTvje2cju+iXleTXZF87rBz507v+Llz57ruE899XMIiMfmGyLiI8UE3ynWeQbf4+OOPu1f5XXfd5efWyKsc1z/0j7jJcQ+6utNOOy3XsYABryScckj5YKBuL7zwgoOQ5+gkrCiAAmcK7gUo6AAxJlAXyiTxLHmj0GYQLVq0yObMUYj5bFnUH85KPe+77z5/5oILLnCnEzz8qSsOHJS1YcMGzyufVvymPpzHqoMb3VVXXeUcOgIOWlAOx9ABKyTXaRP3c436oVOeN2+e9fT02DPPPOO0oC3kzf207dWvfrV95StfsX/7t3/LtS8OAD8xxWnawfqpT33K3dpe9apXue8sxKYD//Ef/9GBCeH+67/+y771rW85oJn2URL/wz/8g3cu0zBTF5wSi9Tv//7vu68qjg90EJ3LfRdeeKH98R//sedBp+cvHqA55yIwovXnr/7qr2zv3r32zne+0zv2Bz/4gVvu/vZv/9YHFZ3IjgOA973vfc+BfNttt5li3jrQ4U6ABasSBhXaibM0AOZZ7od7kee2bdvcrg/I+X3RRRfZP/3TPzmIYr345hlmlZ///Of2m7/5m34tckzM4tAqbmvBL5S2cP+b3vQm/1CXOGCwClFfDD7Q6jWveY1bigA6+WJW/5M/+ROnAQNu2rmrKjXlSY3W66g81GZGHZTRiM4IjBkRNaNRnrn88ssz//7v/+7Xb7zxxswll1ySkVznxyJcRs7GmY985CN+fPvtt2cExIysUH5MIh9xqIw6xo/FTTK/9mu/lpHLmR+Lm2c0ODKafv1YwPX68BxJ03Tm7W9/u/8Wx86oEzNXX311Rhw2o+ncj2+++Wa/rkGRec973uO/xcm97h/72Mcy4rwZgS4jQGU0+DLiZn6PTLoZbTvx3xpk/v35z38+I06W+e53v+vPCdDeZg1Ev079uJdvkmagzBVXXJGRv2eOjtDh3HPPzeUBPbgu82VGMnpG3N/Lpu204b3vfW9G5tiMdhR4mXfccUdGVq+M7PJeBvTQIM+84hWvyMjZ/gT6+A3TkKZFZs2fPZDl4HpwLxK7EeAYcExG8k9/+lPnMnjEw3XgImzh+OEPf5jjhqLbCQsMplGmu9/93d91mz+2ZjgH8iOp2FSWfw5TJdwELv6rX/3Kp0O4/f333+/TNCIA9SRRRzg7iZmBa+ysgFsylQrIbuPmPj7UlU98jt/Yw6EBdeU5Zg52MyAWcZ268YnPIjrBIZnm43m2sgjgpkHmUzmiBdM6MwCcFQ6NAzPPwNlf9rKXuc0dVzzKhMannnqqbdq0KVcm57kXWsZyvKHTlKZFDMhvKx0NQUh0NImpGlmKYzqFnQk4FDN1k3gGmSufgLEjOQeo2DQHWMXpclM2PgAkprnCxPNx+qOTmUpZ+OCpLq7s4GXPFqIGCyqmxZgXz5JY8SO65AORfCJYCwdJfI72AC6+eTbK6bS98BnK4R4SoIyJtiFnc43nABr5IR9zDjGEc/FZaImYEheqnKes/DI5pi7cE+uaK3Aafkw7WCEgjhhx2y00QKYCDHAFOgCu9oUvfCHHwQoXHhAVQEQQ4lXFAgUfz5hwjIBbxVQIgnhMJzJYcNjRtOzyrqZXd3755je/6ZyVAUB5McVyWYCxsEM1hh8micULx3Hlzznu50PbSZQdOWgEql8oSNzHB5qQHwslaMQ5Bi+zAL85R8oHc8wqDkjuiwCNZcb8Y10AO3VH7o7XCus0lccns5ipLF1l0ekAADUMHPRLX/qSL1bwdodo7Gpk+kEx9H4AAAJYSURBVJaM6moUnHABDdupSYCajmMBxuKFqfuyyy7z/TusmMmTxRrPRe7ANyCM03c8n99ZTKnoMeFMTJ2AH+51zz332MUXX5zLC67Dh8SgYkCwkGMxRTu+8Y1v5GYM7oErIy7QFupL2dQjzioRKHC4mC/n4nm+cf1jNiKfeE0yqA8UFkSUje7229/+ts8E0AeuH9tLO8k7lumVV2I2Y7BynXwZ4AAasSiWH++dju9pBysAQP2CTMrql52zrPRZiUJc5DdW3IAQwP7zP/+zAwbuQgJE+KHi1/mhD33Ibr31VnvpS19qf/Znf+ZKbS12XC1ErAOmWhKdx0o5ih90DokOiVwGsAJKLaz8GqC95pprXF5GTIgJrrMmq7pi4H3iE5/wY9oAYH77t3/bZcmY3v/+9zug0RjwgXMxGFAr5XMv5N0oasTzfAMeOCcyLmIK9YVO3M9AJ6FVgGao7hBLSNAJUSAm1GrUM7adfNhJyowQgYnBYeXKlf4s5XLPtCZVbMqTGp5bxUpVktHeoRHrwL3TnfLrO1pdpqKuAqbTTvpl10pIhPLjqCkYrX7jvUZeaBPQuqAJIFHudKdpGSpqdG4aRVZFI8DIZeqDS/A7/x5+cy7/wzlS4bX4XOH98Tj/mfw8IsfIPxfrErlPzCO/bvn5xumzWNmj1XesfGN5fMe6IFOz8kfHO1a5PEdbYh1oa36Z+TRBDEDWRYxihmKGi+XmPx/pNZXf0+LIEhsNkZmqICRTdf75qSRCNZUVaRS/kTPjgop2RDCX2qb8fBF9EJlIEbCl5luO5/4/21nUwrle4VEAAAAASUVORK5CYII=)"
   ]
  },
  {
   "cell_type": "markdown",
   "id": "5b1a941c",
   "metadata": {},
   "source": [
    "A altura do histograma tem relação com a contagem de exemplos que possuem aquele valor. Existe uma clara separação entre a curva azul e as demais, com um pico bem distinto em torno do valor 0,2. A maior largura de pétala dentre todas as flores Setosa (azul) é menor que todas as larguras de pétala de todas as outras."
   ]
  },
  {
   "cell_type": "code",
   "execution_count": 22,
   "id": "6e4c9185",
   "metadata": {},
   "outputs": [
    {
     "data": {
      "text/plain": [
       "0.6"
      ]
     },
     "execution_count": 22,
     "metadata": {},
     "output_type": "execute_result"
    }
   ],
   "source": [
    "iris_df.loc[iris_df['species'] == 'setosa', 'petal width (cm)'].max()"
   ]
  },
  {
   "cell_type": "code",
   "execution_count": 23,
   "id": "68124ce6",
   "metadata": {},
   "outputs": [
    {
     "data": {
      "text/plain": [
       "(1.0, 1.4)"
      ]
     },
     "execution_count": 23,
     "metadata": {},
     "output_type": "execute_result"
    }
   ],
   "source": [
    "(iris_df.loc[iris_df['species'] == 'versicolor', 'petal width (cm)'].min(),\n",
    "     iris_df.loc[iris_df['species'] == 'virginica', 'petal width (cm)'].min())"
   ]
  },
  {
   "cell_type": "code",
   "execution_count": 24,
   "id": "85c19b3b",
   "metadata": {},
   "outputs": [
    {
     "data": {
      "text/plain": [
       "['sepal length (cm)',\n",
       " 'sepal width (cm)',\n",
       " 'petal length (cm)',\n",
       " 'petal width (cm)']"
      ]
     },
     "execution_count": 24,
     "metadata": {},
     "output_type": "execute_result"
    }
   ],
   "source": [
    "iris.feature_names"
   ]
  },
  {
   "cell_type": "code",
   "execution_count": 25,
   "id": "60b79bd1",
   "metadata": {},
   "outputs": [
    {
     "data": {
      "text/plain": [
       "array([[5.1, 3.5, 1.4, 0.2],\n",
       "       [4.9, 3. , 1.4, 0.2],\n",
       "       [4.7, 3.2, 1.3, 0.2],\n",
       "       [4.6, 3.1, 1.5, 0.2],\n",
       "       [5. , 3.6, 1.4, 0.2],\n",
       "       [5.4, 3.9, 1.7, 0.4],\n",
       "       [4.6, 3.4, 1.4, 0.3],\n",
       "       [5. , 3.4, 1.5, 0.2],\n",
       "       [4.4, 2.9, 1.4, 0.2],\n",
       "       [4.9, 3.1, 1.5, 0.1],\n",
       "       [5.4, 3.7, 1.5, 0.2],\n",
       "       [4.8, 3.4, 1.6, 0.2],\n",
       "       [4.8, 3. , 1.4, 0.1],\n",
       "       [4.3, 3. , 1.1, 0.1],\n",
       "       [5.8, 4. , 1.2, 0.2],\n",
       "       [5.7, 4.4, 1.5, 0.4],\n",
       "       [5.4, 3.9, 1.3, 0.4],\n",
       "       [5.1, 3.5, 1.4, 0.3],\n",
       "       [5.7, 3.8, 1.7, 0.3],\n",
       "       [5.1, 3.8, 1.5, 0.3],\n",
       "       [5.4, 3.4, 1.7, 0.2],\n",
       "       [5.1, 3.7, 1.5, 0.4],\n",
       "       [4.6, 3.6, 1. , 0.2],\n",
       "       [5.1, 3.3, 1.7, 0.5],\n",
       "       [4.8, 3.4, 1.9, 0.2],\n",
       "       [5. , 3. , 1.6, 0.2],\n",
       "       [5. , 3.4, 1.6, 0.4],\n",
       "       [5.2, 3.5, 1.5, 0.2],\n",
       "       [5.2, 3.4, 1.4, 0.2],\n",
       "       [4.7, 3.2, 1.6, 0.2],\n",
       "       [4.8, 3.1, 1.6, 0.2],\n",
       "       [5.4, 3.4, 1.5, 0.4],\n",
       "       [5.2, 4.1, 1.5, 0.1],\n",
       "       [5.5, 4.2, 1.4, 0.2],\n",
       "       [4.9, 3.1, 1.5, 0.2],\n",
       "       [5. , 3.2, 1.2, 0.2],\n",
       "       [5.5, 3.5, 1.3, 0.2],\n",
       "       [4.9, 3.6, 1.4, 0.1],\n",
       "       [4.4, 3. , 1.3, 0.2],\n",
       "       [5.1, 3.4, 1.5, 0.2],\n",
       "       [5. , 3.5, 1.3, 0.3],\n",
       "       [4.5, 2.3, 1.3, 0.3],\n",
       "       [4.4, 3.2, 1.3, 0.2],\n",
       "       [5. , 3.5, 1.6, 0.6],\n",
       "       [5.1, 3.8, 1.9, 0.4],\n",
       "       [4.8, 3. , 1.4, 0.3],\n",
       "       [5.1, 3.8, 1.6, 0.2],\n",
       "       [4.6, 3.2, 1.4, 0.2],\n",
       "       [5.3, 3.7, 1.5, 0.2],\n",
       "       [5. , 3.3, 1.4, 0.2],\n",
       "       [7. , 3.2, 4.7, 1.4],\n",
       "       [6.4, 3.2, 4.5, 1.5],\n",
       "       [6.9, 3.1, 4.9, 1.5],\n",
       "       [5.5, 2.3, 4. , 1.3],\n",
       "       [6.5, 2.8, 4.6, 1.5],\n",
       "       [5.7, 2.8, 4.5, 1.3],\n",
       "       [6.3, 3.3, 4.7, 1.6],\n",
       "       [4.9, 2.4, 3.3, 1. ],\n",
       "       [6.6, 2.9, 4.6, 1.3],\n",
       "       [5.2, 2.7, 3.9, 1.4],\n",
       "       [5. , 2. , 3.5, 1. ],\n",
       "       [5.9, 3. , 4.2, 1.5],\n",
       "       [6. , 2.2, 4. , 1. ],\n",
       "       [6.1, 2.9, 4.7, 1.4],\n",
       "       [5.6, 2.9, 3.6, 1.3],\n",
       "       [6.7, 3.1, 4.4, 1.4],\n",
       "       [5.6, 3. , 4.5, 1.5],\n",
       "       [5.8, 2.7, 4.1, 1. ],\n",
       "       [6.2, 2.2, 4.5, 1.5],\n",
       "       [5.6, 2.5, 3.9, 1.1],\n",
       "       [5.9, 3.2, 4.8, 1.8],\n",
       "       [6.1, 2.8, 4. , 1.3],\n",
       "       [6.3, 2.5, 4.9, 1.5],\n",
       "       [6.1, 2.8, 4.7, 1.2],\n",
       "       [6.4, 2.9, 4.3, 1.3],\n",
       "       [6.6, 3. , 4.4, 1.4],\n",
       "       [6.8, 2.8, 4.8, 1.4],\n",
       "       [6.7, 3. , 5. , 1.7],\n",
       "       [6. , 2.9, 4.5, 1.5],\n",
       "       [5.7, 2.6, 3.5, 1. ],\n",
       "       [5.5, 2.4, 3.8, 1.1],\n",
       "       [5.5, 2.4, 3.7, 1. ],\n",
       "       [5.8, 2.7, 3.9, 1.2],\n",
       "       [6. , 2.7, 5.1, 1.6],\n",
       "       [5.4, 3. , 4.5, 1.5],\n",
       "       [6. , 3.4, 4.5, 1.6],\n",
       "       [6.7, 3.1, 4.7, 1.5],\n",
       "       [6.3, 2.3, 4.4, 1.3],\n",
       "       [5.6, 3. , 4.1, 1.3],\n",
       "       [5.5, 2.5, 4. , 1.3],\n",
       "       [5.5, 2.6, 4.4, 1.2],\n",
       "       [6.1, 3. , 4.6, 1.4],\n",
       "       [5.8, 2.6, 4. , 1.2],\n",
       "       [5. , 2.3, 3.3, 1. ],\n",
       "       [5.6, 2.7, 4.2, 1.3],\n",
       "       [5.7, 3. , 4.2, 1.2],\n",
       "       [5.7, 2.9, 4.2, 1.3],\n",
       "       [6.2, 2.9, 4.3, 1.3],\n",
       "       [5.1, 2.5, 3. , 1.1],\n",
       "       [5.7, 2.8, 4.1, 1.3],\n",
       "       [6.3, 3.3, 6. , 2.5],\n",
       "       [5.8, 2.7, 5.1, 1.9],\n",
       "       [7.1, 3. , 5.9, 2.1],\n",
       "       [6.3, 2.9, 5.6, 1.8],\n",
       "       [6.5, 3. , 5.8, 2.2],\n",
       "       [7.6, 3. , 6.6, 2.1],\n",
       "       [4.9, 2.5, 4.5, 1.7],\n",
       "       [7.3, 2.9, 6.3, 1.8],\n",
       "       [6.7, 2.5, 5.8, 1.8],\n",
       "       [7.2, 3.6, 6.1, 2.5],\n",
       "       [6.5, 3.2, 5.1, 2. ],\n",
       "       [6.4, 2.7, 5.3, 1.9],\n",
       "       [6.8, 3. , 5.5, 2.1],\n",
       "       [5.7, 2.5, 5. , 2. ],\n",
       "       [5.8, 2.8, 5.1, 2.4],\n",
       "       [6.4, 3.2, 5.3, 2.3],\n",
       "       [6.5, 3. , 5.5, 1.8],\n",
       "       [7.7, 3.8, 6.7, 2.2],\n",
       "       [7.7, 2.6, 6.9, 2.3],\n",
       "       [6. , 2.2, 5. , 1.5],\n",
       "       [6.9, 3.2, 5.7, 2.3],\n",
       "       [5.6, 2.8, 4.9, 2. ],\n",
       "       [7.7, 2.8, 6.7, 2. ],\n",
       "       [6.3, 2.7, 4.9, 1.8],\n",
       "       [6.7, 3.3, 5.7, 2.1],\n",
       "       [7.2, 3.2, 6. , 1.8],\n",
       "       [6.2, 2.8, 4.8, 1.8],\n",
       "       [6.1, 3. , 4.9, 1.8],\n",
       "       [6.4, 2.8, 5.6, 2.1],\n",
       "       [7.2, 3. , 5.8, 1.6],\n",
       "       [7.4, 2.8, 6.1, 1.9],\n",
       "       [7.9, 3.8, 6.4, 2. ],\n",
       "       [6.4, 2.8, 5.6, 2.2],\n",
       "       [6.3, 2.8, 5.1, 1.5],\n",
       "       [6.1, 2.6, 5.6, 1.4],\n",
       "       [7.7, 3. , 6.1, 2.3],\n",
       "       [6.3, 3.4, 5.6, 2.4],\n",
       "       [6.4, 3.1, 5.5, 1.8],\n",
       "       [6. , 3. , 4.8, 1.8],\n",
       "       [6.9, 3.1, 5.4, 2.1],\n",
       "       [6.7, 3.1, 5.6, 2.4],\n",
       "       [6.9, 3.1, 5.1, 2.3],\n",
       "       [5.8, 2.7, 5.1, 1.9],\n",
       "       [6.8, 3.2, 5.9, 2.3],\n",
       "       [6.7, 3.3, 5.7, 2.5],\n",
       "       [6.7, 3. , 5.2, 2.3],\n",
       "       [6.3, 2.5, 5. , 1.9],\n",
       "       [6.5, 3. , 5.2, 2. ],\n",
       "       [6.2, 3.4, 5.4, 2.3],\n",
       "       [5.9, 3. , 5.1, 1.8]])"
      ]
     },
     "execution_count": 25,
     "metadata": {},
     "output_type": "execute_result"
    }
   ],
   "source": [
    "iris.data"
   ]
  },
  {
   "cell_type": "markdown",
   "id": "98a024fe",
   "metadata": {},
   "source": [
    "Isso significa que, usando um único atributo, seria possível separar (classificar) corretamente todos os exemplos da classe Setosa. Ainda seria necessário separar Versicolor de Virginica, mas já é um começo.\n",
    "\n",
    "Você pode tentar fazer isso manualmente. Analise os gráficos e tente escolher, manualmente, uma regra para classificar exemplos das flores. Sua regra deve ter a forma `if..else` e fazer referência a um ou mais atributos das flores, comparando com valores fixos.\n",
    "\n",
    "Por exemplo:\n",
    "\n",
    "```Python\n",
    "def clf_manual(x):\n",
    "    if x[3] < 0.8:\n",
    "        # Se \"petal width < 0.8\", então o\n",
    "        # exemplo x é da classe setosa\n",
    "        return 0\n",
    "    elif np.random.rand() < 0.5:\n",
    "        # Senão, classifica com 50% como versicolor...\n",
    "        return 1\n",
    "    else:\n",
    "        # E com 50% de chance como virginica\n",
    "        return 2\n",
    "```"
   ]
  },
  {
   "cell_type": "markdown",
   "id": "c158d0f1",
   "metadata": {},
   "source": [
    "> **Escreva sua função** `clf_manual` que recebe como entrada um vetor NumPy representando os quatro valores dos atributos de uma flor e devolve `0`, `1` ou `2`, representando a classe predita para esse exemplo."
   ]
  },
  {
   "cell_type": "code",
   "execution_count": 26,
   "id": "14a80375",
   "metadata": {},
   "outputs": [],
   "source": [
    "def clf_manual(x):\n",
    "    if x[3] <= 0.8:\n",
    "        # Se \"petal width < 0.8\", então o\n",
    "        # exemplo x é da classe setosa\n",
    "        return 0\n",
    "    elif (x[3] > 0.8) and (x[3] < 1.2):\n",
    "        # Se petal width > 0.8 e petal width < 1.2 é versicolor \n",
    "        return 1\n",
    "    elif (x[3] > 2):\n",
    "        # Se petal width > 2 então é virgínica\n",
    "        return 2\n",
    "    elif x[2] < 5:\n",
    "        # Senão, classifica com 50% como versicolor...\n",
    "        return 1\n",
    "    else:\n",
    "        # E com 50% de chance como virginica\n",
    "        return 2"
   ]
  },
  {
   "cell_type": "markdown",
   "id": "a25eede1",
   "metadata": {},
   "source": [
    "> **Quando sua função estiver pronta**, execute a célula abaixo para calcular a acurácia do seu classificador."
   ]
  },
  {
   "cell_type": "code",
   "execution_count": 27,
   "id": "3057bd6f",
   "metadata": {},
   "outputs": [
    {
     "name": "stdout",
     "output_type": "stream",
     "text": [
      "Acurácia do seu classificador: 94.67%\n"
     ]
    }
   ],
   "source": [
    "if type(clf_manual(iris.data[0])) != int:\n",
    "    print(\"Sua função não retornou um tipo de dado esperado.\")\n",
    "    print(\"Sua função deve retornar um inteiro com valor 0, 1 ou 2.\")\n",
    "    print(\"0 - se o exemplo a ser classificado for setosa.\")\n",
    "    print(\"1 - se o exemplo a ser classificado for versicolor.\")\n",
    "    print(\"2 - se o exemplo a ser classificado for virginica.\")\n",
    "else:\n",
    "    y_pred = []\n",
    "    for x in iris.data:\n",
    "        y_pred.append(clf_manual(x))\n",
    "        \n",
    "    print(f\"Acurácia do seu classificador: {100 * accuracy_score(iris.target, y_pred):.2f}%\")"
   ]
  },
  {
   "cell_type": "markdown",
   "id": "6aac0924",
   "metadata": {},
   "source": [
    "Com pouco esforço, você deve conseguir aproximadamente 95% de acurácia."
   ]
  },
  {
   "cell_type": "markdown",
   "id": "39db22ae",
   "metadata": {},
   "source": [
    "### Comparando classificadores"
   ]
  },
  {
   "cell_type": "markdown",
   "id": "5d1d54b9",
   "metadata": {},
   "source": [
    "Vamos testar dois classificadores na base `Iris`:\n",
    "\n",
    "- k-Vizinhos mais Próximos\n",
    "- Árvores de decisão"
   ]
  },
  {
   "cell_type": "markdown",
   "id": "fb216451",
   "metadata": {},
   "source": [
    "Vamos primeiro a base de dados em duas partes: um conjunto de treino e um de teste.\n",
    "\n",
    "O particionamento pode ser feito pela função `train_test_split`. Nós vamos usar os seguintes parâmetros:\n",
    "\n",
    "- 1º parâmetro (não nomeado): uma matriz contendo os atributos de entrada\n",
    "- 2º parâmetro (não nomeado): um vetor contendo o atributo de saída (classe)\n",
    "- `stratify`: um vetor contendo informações das classes para *estratificar* o particionamento. Isso garante que os dois conjuntos resultantes terão aproximadamente a mesma distribuição de exemplos por classe que o conjunto original\n",
    "- `test_size`: tamanho do conjunto de teste; vamos especificar 30%\n",
    "-  `random_state`: uma semente para geração de números pseudoaleatórios, garantindo que o resultado obtido será o mesmo sempre que o comando for executado\n",
    "\n",
    "Como saída teremos dois subconjuntos. O par `(X_train, y_train)` contém os dados de treinamento (entrada, saída) e o par `(X_test, y_test)` contém os dados de teste."
   ]
  },
  {
   "cell_type": "code",
   "execution_count": 28,
   "id": "f0663d81",
   "metadata": {},
   "outputs": [],
   "source": [
    "from sklearn.model_selection import train_test_split"
   ]
  },
  {
   "cell_type": "markdown",
   "id": "a1d4485b",
   "metadata": {},
   "source": [
    "> **Execute a célula** abaixo para obter o particionamento."
   ]
  },
  {
   "cell_type": "code",
   "execution_count": 29,
   "id": "60e4ce04",
   "metadata": {},
   "outputs": [],
   "source": [
    "X_train, X_test, y_train, y_test = train_test_split(iris.data,\n",
    "                                                    iris.target,\n",
    "                                                    stratify=iris.target,\n",
    "                                                    test_size=0.3,\n",
    "                                                    random_state=1337)"
   ]
  },
  {
   "cell_type": "markdown",
   "id": "fbffe01a",
   "metadata": {},
   "source": [
    "Como ficaram os conjuntos?"
   ]
  },
  {
   "cell_type": "code",
   "execution_count": 30,
   "id": "6a9513d8",
   "metadata": {},
   "outputs": [
    {
     "name": "stdout",
     "output_type": "stream",
     "text": [
      "Exemplos no subconjunto de treino: 105\n",
      "Exemplos no subconjunto de Teste: 45\n"
     ]
    }
   ],
   "source": [
    "print(\"Exemplos no subconjunto de treino:\", len(X_train))\n",
    "print(\"Exemplos no subconjunto de Teste:\", len(X_test))"
   ]
  },
  {
   "cell_type": "markdown",
   "id": "3ff961d8",
   "metadata": {},
   "source": [
    "E quantos exemplos de cada classe temos no conjunto de treinamento?"
   ]
  },
  {
   "cell_type": "code",
   "execution_count": 31,
   "id": "cc49d223",
   "metadata": {},
   "outputs": [
    {
     "data": {
      "text/plain": [
       "array([35, 35, 35], dtype=int64)"
      ]
     },
     "execution_count": 31,
     "metadata": {},
     "output_type": "execute_result"
    }
   ],
   "source": [
    "np.histogram(y_train, bins=3)[0]"
   ]
  },
  {
   "cell_type": "markdown",
   "id": "1f888786",
   "metadata": {},
   "source": [
    "E no conjunto de teste?"
   ]
  },
  {
   "cell_type": "code",
   "execution_count": 32,
   "id": "f3b3f05b",
   "metadata": {},
   "outputs": [
    {
     "data": {
      "text/plain": [
       "array([15, 15, 15], dtype=int64)"
      ]
     },
     "execution_count": 32,
     "metadata": {},
     "output_type": "execute_result"
    }
   ],
   "source": [
    "np.histogram(y_test, bins=3)[0]"
   ]
  },
  {
   "cell_type": "markdown",
   "id": "97f19b21",
   "metadata": {},
   "source": [
    "Exatamente 35 de cada classe no treino e exatamente 15 de cada classe no teste. Legal."
   ]
  },
  {
   "cell_type": "markdown",
   "id": "c5c4f39b",
   "metadata": {},
   "source": [
    "Agora você irá treinar e testar a árvore de decisão e o k-NN."
   ]
  },
  {
   "cell_type": "markdown",
   "id": "606f8119",
   "metadata": {},
   "source": [
    "> **Treine e teste** uma árvore de decisão no particionamento obtido. Não mude os hiperparâmetros. Qual a acurácia do classificador?"
   ]
  },
  {
   "cell_type": "markdown",
   "id": "68560ab3",
   "metadata": {},
   "source": [
    "## Treino da árvore de decisão"
   ]
  },
  {
   "cell_type": "code",
   "execution_count": 33,
   "id": "02c3f7ef",
   "metadata": {},
   "outputs": [],
   "source": [
    "from sklearn.tree import DecisionTreeClassifier\n",
    "\n",
    "clf = DecisionTreeClassifier()\n",
    "# continue... \n",
    "clf.fit(X_train, y_train);"
   ]
  },
  {
   "cell_type": "code",
   "execution_count": 34,
   "id": "ee35226e",
   "metadata": {},
   "outputs": [
    {
     "data": {
      "image/png": "[encoded data removed]",
      "text/plain": [
       "<Figure size 700x700 with 1 Axes>"
      ]
     },
     "metadata": {},
     "output_type": "display_data"
    }
   ],
   "source": [
    "from sklearn.tree import plot_tree\n",
    "\n",
    "plt.figure(figsize=(7, 7));\n",
    "plot_tree(clf);"
   ]
  },
  {
   "cell_type": "markdown",
   "id": "ed269108",
   "metadata": {},
   "source": [
    "## Teste Árvore de Decisão"
   ]
  },
  {
   "cell_type": "code",
   "execution_count": 35,
   "id": "67f045b8",
   "metadata": {},
   "outputs": [
    {
     "data": {
      "text/plain": [
       "array([0, 2, 2, 0, 1, 1, 0, 1, 0, 0, 1, 0, 2, 2, 1, 2, 0, 2, 1, 1, 0, 1,\n",
       "       2, 0, 1, 2, 1, 0, 2, 0, 1, 2, 2, 1, 2, 1, 0, 2, 1, 1, 1, 0, 0, 1,\n",
       "       0])"
      ]
     },
     "execution_count": 35,
     "metadata": {},
     "output_type": "execute_result"
    }
   ],
   "source": [
    "ypred = clf.predict(X_test)\n",
    "ypred"
   ]
  },
  {
   "cell_type": "code",
   "execution_count": 36,
   "id": "21ba36cd",
   "metadata": {},
   "outputs": [
    {
     "name": "stdout",
     "output_type": "stream",
     "text": [
      "Desempenho da árvore com o teste: 0.9555555555555556%\n"
     ]
    }
   ],
   "source": [
    "from sklearn.metrics import accuracy_score\n",
    "\n",
    "res = ypred == y_test\n",
    "\n",
    "#total = len(res)\n",
    "#soma = 0\n",
    "#comparacao = 0\n",
    "#for i in range(0, total):\n",
    "#    if (res[i] == True):\n",
    "#        soma+=1\n",
    "#comparacao = (soma/total)\n",
    "\n",
    "print(f\"Desempenho da árvore com o teste: {accuracy_score(ypred, y_test)}%\")"
   ]
  },
  {
   "cell_type": "markdown",
   "id": "23222324",
   "metadata": {},
   "source": [
    "> **Treine e teste** um k-NN árvore de decisão no particionamento obtido. Não mude os hiperparâmetros. Qual a acurácia do classificador?"
   ]
  },
  {
   "cell_type": "markdown",
   "id": "c17ad157",
   "metadata": {},
   "source": [
    "## Treino do k-NN"
   ]
  },
  {
   "cell_type": "code",
   "execution_count": 37,
   "id": "a9c44d24",
   "metadata": {},
   "outputs": [],
   "source": [
    "from sklearn.neighbors import KNeighborsClassifier\n",
    "\n",
    "clf = KNeighborsClassifier()\n",
    "# continue... \n",
    "clf.fit(X_train, y_train);"
   ]
  },
  {
   "cell_type": "markdown",
   "id": "b82bd8f4",
   "metadata": {},
   "source": [
    "## Teste do K-NN"
   ]
  },
  {
   "cell_type": "code",
   "execution_count": 85,
   "id": "061047d5",
   "metadata": {},
   "outputs": [
    {
     "data": {
      "text/plain": [
       "array([0, 2, 1, 0, 1, 1, 0, 1, 0, 0, 1, 0, 2, 2, 1, 2, 0, 2, 1, 2, 0, 1,\n",
       "       2, 0, 1, 2, 1, 0, 2, 0, 1, 2, 2, 1, 2, 1, 0, 2, 1, 1, 1, 0, 0, 1,\n",
       "       0])"
      ]
     },
     "execution_count": 85,
     "metadata": {},
     "output_type": "execute_result"
    }
   ],
   "source": [
    "ypred = clf.predict(X_test)\n",
    "ypred"
   ]
  },
  {
   "cell_type": "code",
   "execution_count": 38,
   "id": "fdbc547e",
   "metadata": {},
   "outputs": [
    {
     "name": "stdout",
     "output_type": "stream",
     "text": [
      "Desempenho da árvore com o teste: 0.9555555555555556%\n"
     ]
    }
   ],
   "source": [
    "res = ypred == y_test\n",
    "\n",
    "print(f\"Desempenho da árvore com o teste: {accuracy_score(ypred, y_test)}%\")"
   ]
  },
  {
   "cell_type": "markdown",
   "id": "96fddd71",
   "metadata": {},
   "source": [
    "> **Explique com suas palavras** a diferença entre os desempenhos dos dois modelos. Você acha que foi significativa? Você pode formular uma hipótese quanto ao motivo?\n",
    ">\n",
    "> *Dica:* esta pergunta é exploratória. Você não precisa respondê-la corretamente para ganhar nota nesta atividade. Tente respondê-la da melhor forma possível. Ao final do período letivo você poderá revisar sua resposta."
   ]
  },
  {
   "cell_type": "markdown",
   "id": "7d4d0aef",
   "metadata": {},
   "source": [
    "**Resposta:**\n",
    "Os dois modelos obtiveram o mesmo resultado nos testes acima. Acredito que os dois modelos mesmo com as diferenças internas nos algoritmos dos modelos, a base iris é uma base simples e a miha hipóteste é que ambos os modelos calcularam de forma diferente, porém, como a base iris é simples, chegaram ao mesmo resultado. "
   ]
  },
  {
   "cell_type": "markdown",
   "id": "1a064ce7",
   "metadata": {},
   "source": [
    "## Parte 2: Uma Nova Base"
   ]
  },
  {
   "cell_type": "markdown",
   "id": "e279c442",
   "metadata": {},
   "source": [
    "Agora nós utilizaremos a base **Breast Cancer** disponível no `sklearn`, mas originário do repositório da UCI (https://archive.ics.uci.edu/ml/datasets/breast+cancer). Trata-se de uma base de dados que foi obtida a partir de imagens digitalizadas de massas mamárias e as classes descrevem dois tipos de tumores: maligno (harmful) e não maligno (not harmful). Os atributos descrevem características dos núcleos celulares presentes nas imagens.\n",
    "\n",
    "No total, são **30 atributos** ordenados: raio médio, textura média, perímetro médio, área média, suavidade média, compacidade média, concavidade média, pontos côncavos médios, simetria média, dimensão fractal média, erro de raio, erro de textura, erro de perímetro, erro de área, erro de suavidade, erro de compactação, erro de concavidade, erro de pontos côncavos, erro de simetria, erro de dimensão fractal, pior raio, pior textura, pior perímetro, pior área, pior suavidade, pior compacidade, pior concavidade, piores pontos côncavos, pior simetria e pior dimensão fractal) e um alvo (tipo de câncer).\n",
    "\n",
    "Esta base não é tão simples quanto a `Iris`, mas ainda trata-se de uma base que exige pouco esforço para produzir classificadores que dão bons resultados"
   ]
  },
  {
   "cell_type": "markdown",
   "id": "d921f714",
   "metadata": {},
   "source": [
    "> **Carregue a base** `breast` usando a função `load_breast_cancer` do `sklearn`."
   ]
  },
  {
   "cell_type": "code",
   "execution_count": 39,
   "id": "c41de496",
   "metadata": {},
   "outputs": [],
   "source": [
    "from sklearn.datasets import load_breast_cancer\n",
    "\n",
    "breast =load_breast_cancer()"
   ]
  },
  {
   "cell_type": "markdown",
   "id": "7ad41c82",
   "metadata": {},
   "source": [
    "> **Verifique** a base de dados: número de atributos, de instâncias, distribuição das classes etc."
   ]
  },
  {
   "cell_type": "code",
   "execution_count": 43,
   "id": "34cfb382",
   "metadata": {},
   "outputs": [
    {
     "name": "stdout",
     "output_type": "stream",
     "text": [
      ".. _breast_cancer_dataset:\n",
      "\n",
      "Breast cancer wisconsin (diagnostic) dataset\n",
      "--------------------------------------------\n",
      "\n",
      "**Data Set Characteristics:**\n",
      "\n",
      ":Number of Instances: 569\n",
      "\n",
      ":Number of Attributes: 30 numeric, predictive attributes and the class\n",
      "\n",
      ":Attribute Information:\n",
      "    - radius (mean of distances from center to points on the perimeter)\n",
      "    - texture (standard deviation of gray-scale values)\n",
      "    - perimeter\n",
      "    - area\n",
      "    - smoothness (local variation in radius lengths)\n",
      "    - compactness (perimeter^2 / area - 1.0)\n",
      "    - concavity (severity of concave portions of the contour)\n",
      "    - concave points (number of concave portions of the contour)\n",
      "    - symmetry\n",
      "    - fractal dimension (\"coastline approximation\" - 1)\n",
      "\n",
      "    The mean, standard error, and \"worst\" or largest (mean of the three\n",
      "    worst/largest values) of these features were computed for each image,\n",
      "    resulting in 30 features.  For instance, field 0 is Mean Radius, field\n",
      "    10 is Radius SE, field 20 is Worst Radius.\n",
      "\n",
      "    - class:\n",
      "            - WDBC-Malignant\n",
      "            - WDBC-Benign\n",
      "\n",
      ":Summary Statistics:\n",
      "\n",
      "===================================== ====== ======\n",
      "                                        Min    Max\n",
      "===================================== ====== ======\n",
      "radius (mean):                        6.981  28.11\n",
      "texture (mean):                       9.71   39.28\n",
      "perimeter (mean):                     43.79  188.5\n",
      "area (mean):                          143.5  2501.0\n",
      "smoothness (mean):                    0.053  0.163\n",
      "compactness (mean):                   0.019  0.345\n",
      "concavity (mean):                     0.0    0.427\n",
      "concave points (mean):                0.0    0.201\n",
      "symmetry (mean):                      0.106  0.304\n",
      "fractal dimension (mean):             0.05   0.097\n",
      "radius (standard error):              0.112  2.873\n",
      "texture (standard error):             0.36   4.885\n",
      "perimeter (standard error):           0.757  21.98\n",
      "area (standard error):                6.802  542.2\n",
      "smoothness (standard error):          0.002  0.031\n",
      "compactness (standard error):         0.002  0.135\n",
      "concavity (standard error):           0.0    0.396\n",
      "concave points (standard error):      0.0    0.053\n",
      "symmetry (standard error):            0.008  0.079\n",
      "fractal dimension (standard error):   0.001  0.03\n",
      "radius (worst):                       7.93   36.04\n",
      "texture (worst):                      12.02  49.54\n",
      "perimeter (worst):                    50.41  251.2\n",
      "area (worst):                         185.2  4254.0\n",
      "smoothness (worst):                   0.071  0.223\n",
      "compactness (worst):                  0.027  1.058\n",
      "concavity (worst):                    0.0    1.252\n",
      "concave points (worst):               0.0    0.291\n",
      "symmetry (worst):                     0.156  0.664\n",
      "fractal dimension (worst):            0.055  0.208\n",
      "===================================== ====== ======\n",
      "\n",
      ":Missing Attribute Values: None\n",
      "\n",
      ":Class Distribution: 212 - Malignant, 357 - Benign\n",
      "\n",
      ":Creator:  Dr. William H. Wolberg, W. Nick Street, Olvi L. Mangasarian\n",
      "\n",
      ":Donor: Nick Street\n",
      "\n",
      ":Date: November, 1995\n",
      "\n",
      "This is a copy of UCI ML Breast Cancer Wisconsin (Diagnostic) datasets.\n",
      "https://goo.gl/U2Uwz2\n",
      "\n",
      "Features are computed from a digitized image of a fine needle\n",
      "aspirate (FNA) of a breast mass.  They describe\n",
      "characteristics of the cell nuclei present in the image.\n",
      "\n",
      "Separating plane described above was obtained using\n",
      "Multisurface Method-Tree (MSM-T) [K. P. Bennett, \"Decision Tree\n",
      "Construction Via Linear Programming.\" Proceedings of the 4th\n",
      "Midwest Artificial Intelligence and Cognitive Science Society,\n",
      "pp. 97-101, 1992], a classification method which uses linear\n",
      "programming to construct a decision tree.  Relevant features\n",
      "were selected using an exhaustive search in the space of 1-4\n",
      "features and 1-3 separating planes.\n",
      "\n",
      "The actual linear program used to obtain the separating plane\n",
      "in the 3-dimensional space is that described in:\n",
      "[K. P. Bennett and O. L. Mangasarian: \"Robust Linear\n",
      "Programming Discrimination of Two Linearly Inseparable Sets\",\n",
      "Optimization Methods and Software 1, 1992, 23-34].\n",
      "\n",
      "This database is also available through the UW CS ftp server:\n",
      "\n",
      "ftp ftp.cs.wisc.edu\n",
      "cd math-prog/cpo-dataset/machine-learn/WDBC/\n",
      "\n",
      "|details-start|\n",
      "**References**\n",
      "|details-split|\n",
      "\n",
      "- W.N. Street, W.H. Wolberg and O.L. Mangasarian. Nuclear feature extraction\n",
      "  for breast tumor diagnosis. IS&T/SPIE 1993 International Symposium on\n",
      "  Electronic Imaging: Science and Technology, volume 1905, pages 861-870,\n",
      "  San Jose, CA, 1993.\n",
      "- O.L. Mangasarian, W.N. Street and W.H. Wolberg. Breast cancer diagnosis and\n",
      "  prognosis via linear programming. Operations Research, 43(4), pages 570-577,\n",
      "  July-August 1995.\n",
      "- W.H. Wolberg, W.N. Street, and O.L. Mangasarian. Machine learning techniques\n",
      "  to diagnose breast cancer from fine-needle aspirates. Cancer Letters 77 (1994)\n",
      "  163-171.\n",
      "\n",
      "|details-end|\n",
      "\n"
     ]
    }
   ],
   "source": [
    "print(breast.DESCR)"
   ]
  },
  {
   "cell_type": "markdown",
   "id": "791b7edf",
   "metadata": {},
   "source": [
    "### Particionamento"
   ]
  },
  {
   "cell_type": "markdown",
   "id": "a5c06c3b",
   "metadata": {},
   "source": [
    "Desta vez nós teremos **três** conjuntos.\n",
    "\n",
    "- Um conjunto de **teste** contendo 20% dos exemplos da amostra original. O objetivo desse conjunto é permitir testar o modelo com o melhor conjunto de hiperparâmetros em exemplos que nunca fizeram parte do processo de treinamento\n",
    "- Um conjunto de **treino** contendo 60% dos exemplos da amostra original. O objetivo desse conjunto é treinar diversos modelos com hiperparâmetros diferentes\n",
    "- Um conjunto de **validaçao** contendo 20% dos exemplos da amostra original. O objetivo desse conjunto é validar os hiperparâmetros"
   ]
  },
  {
   "cell_type": "markdown",
   "id": "320e2d68",
   "metadata": {},
   "source": [
    "A primeira coisa a fazer é separar a amostra em dois:\n",
    "\n",
    "- Um subconjunto que conterá os exemplos de treino e também os de validação\n",
    "- Um subconjunto que conterá apenas os exemplos de teste"
   ]
  },
  {
   "cell_type": "markdown",
   "id": "529d9c83",
   "metadata": {},
   "source": [
    "> **Separe os exemplos de teste** dos exemplos de treino e de validação utilizando a função `train_test_split`. Especifique 20% (0.2) para o tamanho do conjunto de teste `test_size`. Não se esqueça de estratificar os exemplos pelas classes usando `statify`."
   ]
  },
  {
   "cell_type": "code",
   "execution_count": 73,
   "id": "ad85e54b",
   "metadata": {},
   "outputs": [],
   "source": [
    "from sklearn.model_selection import train_test_split"
   ]
  },
  {
   "cell_type": "code",
   "execution_count": 91,
   "id": "cfd0ec53",
   "metadata": {
    "tags": [
     "raises-exception"
    ]
   },
   "outputs": [],
   "source": [
    "X_trainval, X_test, y_trainval, y_test = train_test_split(\n",
    "    breast.data,\n",
    "    breast.target,\n",
    "    test_size=0.2,\n",
    "    stratify=breast.target,\n",
    "    random_state=2024\n",
    ")"
   ]
  },
  {
   "cell_type": "markdown",
   "id": "3d436531",
   "metadata": {},
   "source": [
    "Se você fez corretamente, então os conjuntos deverão ter as seguintes estatísticas:"
   ]
  },
  {
   "cell_type": "markdown",
   "id": "c1fc480d",
   "metadata": {},
   "source": [
    "> **Execute a célula** abaixo para fazer uma verificação *rápida* do particionamento. Se a célula imprimir que os conjuntos \"parecem corretos\", então provavelvemente deu tudo certo. Caso contrário volte e corrija."
   ]
  },
  {
   "cell_type": "code",
   "execution_count": 92,
   "id": "4ed00d75",
   "metadata": {},
   "outputs": [
    {
     "name": "stdout",
     "output_type": "stream",
     "text": [
      "À primeira vista os dados de `X_trainval' parecem corretos!\n",
      "À primeira vista os dados de `X_test' parecem corretos!\n"
     ]
    }
   ],
   "source": [
    "medias_teste = np.array([1.43478860e+01, 1.90907895e+01, 9.32684211e+01, 6.71608772e+02,\n",
    "       9.61278070e-02, 1.00932807e-01, 8.51113833e-02, 4.83902895e-02,\n",
    "       1.80421930e-01, 6.21734211e-02, 3.94149123e-01, 1.17173070e+00,\n",
    "       2.76943860e+00, 4.02096930e+01, 6.92734211e-03, 2.51628596e-02,\n",
    "       3.02007254e-02, 1.14363421e-02, 2.14125965e-02, 3.74634035e-03,\n",
    "       1.63641316e+01, 2.52379825e+01, 1.07485614e+02, 8.79569298e+02,\n",
    "       1.30909561e-01, 2.50814386e-01, 2.68269632e-01, 1.12337456e-01,\n",
    "       2.96877193e-01, 8.33307895e-02])\n",
    "\n",
    "medias_treino = np.array([1.40720220e+01, 1.93394725e+01, 9.16434725e+01, 6.50700000e+02,\n",
    "       9.64185275e-02, 1.05194901e-01, 8.97233253e-02, 4.90516505e-02,\n",
    "       1.81347253e-01, 6.29540000e-02, 4.07933846e-01, 1.22815890e+00,\n",
    "       2.89026747e+00, 4.03689956e+01, 7.06945055e-03, 2.55571319e-02,\n",
    "       3.23178943e-02, 1.18862835e-02, 2.03242462e-02, 3.80707143e-03,\n",
    "       1.62454022e+01, 2.57872747e+01, 1.07204989e+02, 8.80837143e+02,\n",
    "       1.32734154e-01, 2.55129604e-01, 2.73170349e-01, 1.15174662e-01,\n",
    "       2.88371429e-01, 8.40999121e-02])\n",
    "\n",
    "if X_trainval.shape != (455, 30):\n",
    "    print(\"O formato de `X_trainval' ficou incorreto.\")\n",
    "elif (y_trainval == 1).sum() != 285:\n",
    "    print(\"O número de exemplos da classe 1 no conjunto de treino em `X_trainval' está errado.\")\n",
    "    print(\"Você usou estratificação corretamente no particionamento?\")\n",
    "elif any(np.abs(X_trainval.mean(axis=0) - medias_treino) > 1e-5):\n",
    "    print(\"Os valores de `X_trainval' têm a média errada e parecem incorretos.\")\n",
    "    print(\"Você especificou a semente aleatória `2024' e manteve a estratificação?\")\n",
    "else:\n",
    "    print(\"À primeira vista os dados de `X_trainval' parecem corretos!\")\n",
    "\n",
    "if X_test.shape != (114, 30):\n",
    "    print(\"O formato de `X_test' ficou incorreto.\")\n",
    "elif (y_test == 1).sum() != 72:\n",
    "    print(\"O número de exemplos da classe 1 no conjunto de treino em `X_test' está errado.\")\n",
    "    print(\"Você usou estratificação corretamente no particionamento?\")\n",
    "elif any(np.abs(X_test.mean(axis=0) - medias_teste) > 1e-5):\n",
    "    print(\"Os valores de `X_test' têm a média errada e parecem incorretos.\")\n",
    "    print(\"Você especificou a semente aleatória `2024' e manteve a estratificação?\")\n",
    "else:\n",
    "    print(\"À primeira vista os dados de `X_test' parecem corretos!\")"
   ]
  },
  {
   "cell_type": "code",
   "execution_count": 113,
   "id": "2d3221eb-f1f8-44c2-807c-b778f96262d9",
   "metadata": {},
   "outputs": [],
   "source": [
    "#print(len(X_trainval),\n",
    "#      len(breast.target))\n",
    "#(y_trainval == 1).sum()\n",
    "#y_trainval"
   ]
  },
  {
   "cell_type": "markdown",
   "id": "2fa57db6",
   "metadata": {},
   "source": [
    "Agora vamos dividir o conjunto `X_trainval` em um conjunto de **treino** e um conjunto de **validação**."
   ]
  },
  {
   "cell_type": "markdown",
   "id": "d7e52489",
   "metadata": {},
   "source": [
    "> **Particione o conjunto** `X_trainval` em um conjunto de treino e um conjunto de validação usando os seguintes parâmetros:\n",
    ">\n",
    "> - Tamanho do conjunto de teste: 25% (0.25)\n",
    "> - Estratificação: de acordo com as classes em `y_trainval`\n",
    "> - Semente aleatória: `25`"
   ]
  },
  {
   "cell_type": "code",
   "execution_count": 114,
   "id": "21b5470a",
   "metadata": {
    "tags": [
     "raises-exception"
    ]
   },
   "outputs": [],
   "source": [
    "X_train, X_val, y_train, y_val = train_test_split(X_trainval,\n",
    "                                                 y_trainval,\n",
    "                                                 test_size=0.25,\n",
    "                                                  stratify=y_trainval,\n",
    "                                                 random_state=25)"
   ]
  },
  {
   "cell_type": "markdown",
   "id": "209737bd",
   "metadata": {},
   "source": [
    "Verifique o particionamento. O conjunto de treino deverá ter 341 exemplos e o conjunto de validação deverá ter 114 exemplos. Além disso, deverá haver 214 exemplos da classe 1 no conjunto de treino e 71 no conjunto de validação."
   ]
  },
  {
   "cell_type": "code",
   "execution_count": 120,
   "id": "fc1b724b",
   "metadata": {},
   "outputs": [
    {
     "name": "stdout",
     "output_type": "stream",
     "text": [
      "Tamanho do conjunto de treino: 341\n",
      "Tamanho do conjunto de treino: 114\n",
      "Exemplos da classe 1 no conj de treinos: 214\n",
      "Exemplos da classe 1 no conj de validação: 71\n"
     ]
    }
   ],
   "source": [
    "print(f\"Tamanho do conjunto de treino: {len(X_train)}\")\n",
    "print(f\"Tamanho do conjunto de treino: {len(X_val)}\")\n",
    "print(f\"Exemplos da classe 1 no conj de treinos: {(y_train == 1).sum()}\")\n",
    "print(f\"Exemplos da classe 1 no conj de validação: {(y_val == 1).sum()}\")"
   ]
  },
  {
   "cell_type": "markdown",
   "id": "cc856777",
   "metadata": {},
   "source": [
    "### Ajuste de hiperparâmetros da árvore de decisão"
   ]
  },
  {
   "cell_type": "markdown",
   "id": "987b109f",
   "metadata": {},
   "source": [
    "O modelo de árvore de decisão possui alguns parâmetros. Neste exercício, vamos ajustar apenas o hiperparametro `max_depth`, que especifica a profundidade máxima da árvore."
   ]
  },
  {
   "cell_type": "markdown",
   "id": "91202130",
   "metadata": {},
   "source": [
    "O procedimento para ajustar os hiperparâmetros é relativamente simples. Primeiro, precisamos escolher um conjunto de valores a serem testados. Vamos testar árvores com alturas máximas entre 2 a 5. Além disso, o valor `None` será usado.\n",
    "\n",
    "- Quando `max_depth=None`, o algoritmo expande a árvore até que todas as folhas sejam puras ou até que cada folha contenha um número de exemplos menor do que o valor especificado no hiperparâmetro `min_samples_split`\n",
    "- Quando `max_depth` é um valor numérico, então a árvore é expandida até no máximo essa altura/profundidade"
   ]
  },
  {
   "cell_type": "markdown",
   "id": "5c017910",
   "metadata": {},
   "source": [
    "Por exemplo, poderíamos gerar as seguintes árvores:"
   ]
  },
  {
   "cell_type": "code",
   "execution_count": 121,
   "id": "d79310f2",
   "metadata": {},
   "outputs": [],
   "source": [
    "from sklearn.tree import DecisionTreeClassifier"
   ]
  },
  {
   "cell_type": "code",
   "execution_count": 123,
   "id": "4ca71590",
   "metadata": {},
   "outputs": [],
   "source": [
    "arvore_com_altura_maxima_2 = DecisionTreeClassifier(max_depth=2)\n",
    "arvore_com_altura_maxima_3 = DecisionTreeClassifier(max_depth=3)\n",
    "arvore_com_altura_maxima_4 = DecisionTreeClassifier(max_depth=4)\n",
    "arvore_com_altura_maxima_5 = DecisionTreeClassifier(max_depth=5)\n",
    "arvore_com_altura_maxima_Indeterminada = DecisionTreeClassifier(max_depth=None)"
   ]
  },
  {
   "cell_type": "markdown",
   "id": "9fbec6cd",
   "metadata": {},
   "source": [
    "O passo seguinte seria treinar cada uma dessas árvores no conjunto de treinamento e depois testá-las no conjunto de validação. A que produzisse a melhor métrica de acurácia seria a que consideramos o melhor valor do hiperparâmetro."
   ]
  },
  {
   "cell_type": "markdown",
   "id": "b425de4f",
   "metadata": {},
   "source": [
    "Entretanto, esse procedimento é um tanto tosco e um pouco preguiçoso. Temos todos os recursos de uma linguagem de programação à disposição. Na verdade, o `sklearn` possui algumas funções que quase automatizam todo esse processo. Mas vamos começar com uma lista:"
   ]
  },
  {
   "cell_type": "code",
   "execution_count": 125,
   "id": "647c1fca",
   "metadata": {},
   "outputs": [],
   "source": [
    "alturas = [2, 3, 4, 5, None]"
   ]
  },
  {
   "cell_type": "markdown",
   "id": "673ea19f",
   "metadata": {},
   "source": [
    "Agora podemos iterar essa lista treinando e testando diferentes árvores. Vamos guardar as acurácias em uma lista de acurácias."
   ]
  },
  {
   "cell_type": "markdown",
   "id": "ee4e8fe1",
   "metadata": {},
   "source": [
    "> **Execute a célula** abaixo para treinar as árvores e validá-las no conjunto de validação."
   ]
  },
  {
   "cell_type": "code",
   "execution_count": 148,
   "id": "6e4f9312",
   "metadata": {},
   "outputs": [
    {
     "name": "stdout",
     "output_type": "stream",
     "text": [
      "altura:2,\tAcurácia val:0.9035087719298246,\tAcurácia treino:0.9736070381231672\n",
      "altura:3,\tAcurácia val:0.9210526315789473,\tAcurácia treino:0.9853372434017595\n",
      "altura:4,\tAcurácia val:0.9122807017543859,\tAcurácia treino:0.9941348973607038\n",
      "altura:5,\tAcurácia val:0.8947368421052632,\tAcurácia treino:1.0\n",
      "altura:None,\tAcurácia val:0.8947368421052632,\tAcurácia treino:1.0\n"
     ]
    }
   ],
   "source": [
    "acc_train = []\n",
    "acc_val = []\n",
    "\n",
    "for h in alturas:\n",
    "    # Instancia um classificador com o hiperparâmetro desejado\n",
    "    clf = DecisionTreeClassifier(random_state=1234, max_depth=h)\n",
    "    \n",
    "    # Treina no conjunto de treinamento\n",
    "    clf.fit(X_train, y_train)\n",
    "    \n",
    "    # Testa no conjunto de validação\n",
    "    y_pred = clf.predict(X_val)\n",
    "    \n",
    "    # Calcula a acurácia\n",
    "    acc1 = accuracy_score(y_val, y_pred)\n",
    "\n",
    "    # Testa no conjunto de treino\n",
    "    y_pred = clf.predict(X_train)\n",
    "    acc2 = accuracy_score(y_train, y_pred)\n",
    "    \n",
    "    acc_val.append((h,acc1))\n",
    "    acc_train.append((h,acc2))\n",
    "    print(f\"altura:{h},\\tAcurácia val:{acc1},\\tAcurácia treino:{acc2}\")"
   ]
  },
  {
   "cell_type": "markdown",
   "id": "af798aa8",
   "metadata": {},
   "source": [
    "Hmm... nada foi impresso e nada foi armazenado."
   ]
  },
  {
   "cell_type": "markdown",
   "id": "7399abc0",
   "metadata": {},
   "source": [
    "> **Modifique a célula acima** para guardar, na lista `acc_val`, os valores de acurácias obtidos pela árvore com as diferentes alturas máximas *no conjunto de validação*.\n",
    ">\n",
    "> *Dica*: o resultado deverá ser *aproximadamente*, 90%, 92%, 91%, 89% e 89%. Se você obtiver um valor diferente, o motivo mais provável é que você se esqueceu de especificar uma semente aleatória para o construtor da árvore (`random_state=1234`). O segundo motivo mais provável é que seu particionamento ficou diferente do gabarito."
   ]
  },
  {
   "cell_type": "markdown",
   "id": "53d35930",
   "metadata": {},
   "source": [
    "Se você obteve o resultado esperado, então existem duas perguntas a se fazer agora:\n",
    "\n",
    "1. Está havendo *overfitting* ou *undefitting* com algum valor do hiperparâmetro?\n",
    "1. Qual seria o valor ideal de `max_depth`?\n",
    "\n",
    "Para responder ambas as perguntas, precisamos comparar a acurácia no conjunto de treino com a acurácia no conjunto de validação."
   ]
  },
  {
   "cell_type": "markdown",
   "id": "eb85e50f",
   "metadata": {},
   "source": [
    "> **Modifique novamente a célula acima** para testar o modelo não apenas no conjunto de validação, mas também no conjunto de treino. Guarde os valores de acurácia na lista `acc_train`.\n",
    ">\n",
    "> *Dica*: o resultado deverá ser *aproximadamente* 97%, 98,5%, 99%, 100% e 100%."
   ]
  },
  {
   "cell_type": "code",
   "execution_count": 149,
   "id": "56fc3dd7",
   "metadata": {},
   "outputs": [
    {
     "data": {
      "text/plain": [
       "[(2, 0.9736070381231672),\n",
       " (3, 0.9853372434017595),\n",
       " (4, 0.9941348973607038),\n",
       " (5, 1.0),\n",
       " (None, 1.0)]"
      ]
     },
     "execution_count": 149,
     "metadata": {},
     "output_type": "execute_result"
    }
   ],
   "source": [
    "acc_train"
   ]
  },
  {
   "cell_type": "markdown",
   "id": "de1a27ba",
   "metadata": {},
   "source": [
    "> **Execute a célula** abaixo para visualizar um gráfico dos hiperparâmetros da árvore."
   ]
  },
  {
   "cell_type": "code",
   "execution_count": 150,
   "id": "4c6b3d33",
   "metadata": {},
   "outputs": [
    {
     "data": {
      "image/png": "[encoded data removed]",
      "text/plain": [
       "<Figure size 1000x600 with 1 Axes>"
      ]
     },
     "metadata": {},
     "output_type": "display_data"
    }
   ],
   "source": [
    "import matplotlib.pyplot as plt\n",
    "\n",
    "# Converte os números em strings (necessário por causa do None)\n",
    "labels = [str(i) for i in alturas]\n",
    "\n",
    "# Define um tamanho para a figura\n",
    "plt.figure(figsize=(10,6));\n",
    "\n",
    "# Define um título para a figura\n",
    "plt.title('Curva de acurácia para diferentes valores de max_depth')\n",
    "\n",
    "# Plota a curva do  treino\n",
    "plt.plot(labels, acc_train);\n",
    "\n",
    "# Plota a curva da validação\n",
    "plt.plot(labels, acc_val);\n",
    "\n",
    "# Define rótulos para os eixos\n",
    "plt.xlabel('max_depth');\n",
    "plt.ylabel('Acurácia');\n",
    "\n",
    "# Especifica um intervalo de exibição do eixo Y. Isso é fundamental em\n",
    "# várias situações, especialmente nas seguintes\n",
    "#  1. Quando queremos mostrar vários resultados, é importante que todos os\n",
    "#     gráficos estejam na mesma escala para podermos fazer a comparação \n",
    "#     (não é o caso atual; aqui temos apenas um gráfico com duas curvas)\n",
    "#  2. Quando o intervalo padrão pode levar a conclusões incorretas. É o\n",
    "#     nosso caso. Todas as acurácias mostradas no gráfico abaixo são\n",
    "#     muito elevadas e a escala selecionada pelo PyPlot pode passar a\n",
    "#     impressão de que existe uma diferença muito mais significativa\n",
    "#     entre o treino e a validação.\n",
    "plt.ylim(.75, 1.01);"
   ]
  },
  {
   "cell_type": "markdown",
   "id": "9c61d41a",
   "metadata": {},
   "source": [
    "## Parte 3: Sua Vez"
   ]
  },
  {
   "cell_type": "markdown",
   "id": "ae039312",
   "metadata": {},
   "source": [
    "Agora é com você.\n",
    "\n",
    "Faça ajuste de hiperparâmetros e validação do k-NN com a base `breast`, carregada na Parte 2.\n",
    "\n",
    "O primeiro passo é importar a classe do `sklearn` que implementa o k-NN."
   ]
  },
  {
   "cell_type": "code",
   "execution_count": 151,
   "id": "00f3f936",
   "metadata": {},
   "outputs": [],
   "source": [
    "from sklearn.neighbors import KNeighborsClassifier"
   ]
  },
  {
   "cell_type": "markdown",
   "id": "9c6fd05c",
   "metadata": {},
   "source": [
    "Faça o ajuste dos hiperparâmetros seguintes:\n",
    "\n",
    "- Ajuste o valor de `k`, isto é, o número de vizinhos;\n",
    "- Ajuste a métrica usada pelo k-NN (euclidiana, manhattan etc.)\n",
    "\n",
    "Use os conjuntos de treino e de validação especificados anteriormente."
   ]
  },
  {
   "cell_type": "markdown",
   "id": "82ad64ae-edd1-48e4-9a38-3476ae9b4d14",
   "metadata": {},
   "source": [
    "**Atribuindo**"
   ]
  },
  {
   "cell_type": "code",
   "execution_count": 153,
   "id": "c0b1c181",
   "metadata": {},
   "outputs": [],
   "source": [
    "NeighborsWith2 = KNeighborsClassifier(n_neighbors=2)\n",
    "NeighborsWith3 = KNeighborsClassifier(n_neighbors=3)\n",
    "NeighborsWith4 = KNeighborsClassifier(n_neighbors=4)\n",
    "NeighborsWith5 = KNeighborsClassifier(n_neighbors=5)\n",
    "NeighborsWithIndeterminate = KNeighborsClassifier(n_neighbors=None)"
   ]
  },
  {
   "cell_type": "markdown",
   "id": "a5f3e6ad-4365-4acc-95f4-bc64946d3205",
   "metadata": {},
   "source": [
    "**Calculando a acurácia**"
   ]
  },
  {
   "cell_type": "code",
   "execution_count": 163,
   "id": "054bffc6-771d-4a8b-a7ca-0d775018c367",
   "metadata": {},
   "outputs": [],
   "source": [
    "alturas = [2,3,4,5]"
   ]
  },
  {
   "cell_type": "code",
   "execution_count": 164,
   "id": "13f67417",
   "metadata": {},
   "outputs": [
    {
     "name": "stdout",
     "output_type": "stream",
     "text": [
      "altura:2,\tAcurácia val:0.9210526315789473,\tAcurácia treino:0.9560117302052786\n",
      "altura:3,\tAcurácia val:0.9473684210526315,\tAcurácia treino:0.9560117302052786\n",
      "altura:4,\tAcurácia val:0.9210526315789473,\tAcurácia treino:0.9413489736070382\n",
      "altura:5,\tAcurácia val:0.9385964912280702,\tAcurácia treino:0.9472140762463344\n"
     ]
    }
   ],
   "source": [
    "acc_train = []\n",
    "acc_val = []\n",
    "\n",
    "for h in alturas:\n",
    "    # Instancia um classificador com o hiperparâmetro desejado\n",
    "    clf = KNeighborsClassifier(n_neighbors=h, metric=\"euclidean\")\n",
    "    \n",
    "    # Treina no conjunto de treinamento\n",
    "    clf.fit(X_train, y_train)\n",
    "    \n",
    "    # Testa no conjunto de validação\n",
    "    y_pred = clf.predict(X_val)\n",
    "    \n",
    "    # Calcula a acurácia\n",
    "    acc1 = accuracy_score(y_val, y_pred)\n",
    "\n",
    "    # Testa no conjunto de treino\n",
    "    y_pred = clf.predict(X_train)\n",
    "    acc2 = accuracy_score(y_train, y_pred)\n",
    "    \n",
    "    acc_val.append((h,acc1))\n",
    "    acc_train.append((h,acc2))\n",
    "    print(f\"altura:{h},\\tAcurácia val:{acc1},\\tAcurácia treino:{acc2}\")"
   ]
  },
  {
   "cell_type": "markdown",
   "id": "33b65d25-76ec-4284-ada4-904ce220421f",
   "metadata": {},
   "source": [
    "**Plota o gráfico da acurácia do KNN**"
   ]
  },
  {
   "cell_type": "code",
   "execution_count": 166,
   "id": "83dd59eb",
   "metadata": {},
   "outputs": [
    {
     "data": {
      "image/png": "[encoded data removed]",
      "text/plain": [
       "<Figure size 1000x600 with 1 Axes>"
      ]
     },
     "metadata": {},
     "output_type": "display_data"
    }
   ],
   "source": [
    "labels = [str(i) for i in alturas]\n",
    "\n",
    "# Define um tamanho para a figura\n",
    "plt.figure(figsize=(10,6));\n",
    "\n",
    "# Define um título para a figura\n",
    "plt.title('Curva de acurácia para diferentes valores de n_neighbors')\n",
    "\n",
    "# Plota a curva do  treino\n",
    "plt.plot(labels, acc_train);\n",
    "\n",
    "# Plota a curva da validação\n",
    "plt.plot(labels, acc_val);\n",
    "\n",
    "# Define rótulos para os eixos\n",
    "plt.xlabel('n_neighbors');\n",
    "plt.ylabel('Acurácia');\n",
    "\n",
    "plt.ylim(.75, 1.01);"
   ]
  },
  {
   "cell_type": "code",
   "execution_count": null,
   "id": "c3fd09df",
   "metadata": {},
   "outputs": [],
   "source": []
  },
  {
   "cell_type": "code",
   "execution_count": null,
   "id": "3bea3027",
   "metadata": {},
   "outputs": [],
   "source": []
  },
  {
   "cell_type": "code",
   "execution_count": null,
   "id": "58e68918",
   "metadata": {},
   "outputs": [],
   "source": []
  },
  {
   "cell_type": "markdown",
   "id": "1889be8f",
   "metadata": {},
   "source": [
    "## Parte 4: Teste Final"
   ]
  },
  {
   "cell_type": "markdown",
   "id": "da0bce12",
   "metadata": {},
   "source": [
    "Agora que você validou os dois modelos, árvore de decisão e k-NN, está na hora de fazer o teste final.\n",
    "\n",
    "Para o teste final, você deverá treinar o modelo **com o máximo de dados de treinamento possível**. Isso significa usar todos os exemplos que não estão no conjunto de teste, que foi mantido oculto até aqui.\n",
    "\n",
    "**Lembrando**, você tem quatro conjuntos:\n",
    "\n",
    "- O par `breast.data,breast.target` contém a totalidade da sua amostra;\n",
    "- O par `X_test,y_test` contém sua sub-amostra com os dados de teste;\n",
    "- O par `X_train,y_train` contém sua sub-amostra com os dados de treinamento (durante o processo de validação);\n",
    "- O par `X_val,y_val` contém sua sub-amostra com os dados de validação (durante o processo de validaçao).\n",
    "\n",
    "Agora você irá juntar os dados dos pares `X_train,y_train` e `X_val,y_val` para o teste final. Se você não mexeu nas variáveis anteriores, então esses dados já estão guardados no par `X_trainval,y_trainval`."
   ]
  },
  {
   "cell_type": "code",
   "execution_count": 175,
   "id": "d02149bc",
   "metadata": {},
   "outputs": [],
   "source": [
    "X_train, y_train = X_trainval, y_trainval"
   ]
  },
  {
   "cell_type": "markdown",
   "id": "f7a5e88b",
   "metadata": {},
   "source": [
    "> **Treine os dois modelos** no conjunto final de treinamento, usando os hiperparâmetros que você selecionou nas partes anteriores."
   ]
  },
  {
   "cell_type": "markdown",
   "id": "237d2777-27a3-4b40-91a0-c8ee5a1edba2",
   "metadata": {},
   "source": [
    "> > **Treino da Árvore de decisão**:\n",
    "> > Foi selecionado o hiperparâmetro de max_depth = 3 devido ao bom desempenho sem undefitting e overfitting"
   ]
  },
  {
   "cell_type": "code",
   "execution_count": 179,
   "id": "22eb70e9-32ba-42a6-88a8-39af98a002b4",
   "metadata": {},
   "outputs": [],
   "source": [
    "clf1 = DecisionTreeClassifier(random_state=1234, max_depth=3)\n",
    "#treino\n",
    "clf1.fit(X_train, y_train);"
   ]
  },
  {
   "cell_type": "markdown",
   "id": "1e6fb8db-4aa0-4447-9c00-dce9e331f5da",
   "metadata": {},
   "source": [
    "> > **Treino k-NN**:\n",
    "> > Foi selecionado o hiperparâmetro de k_neighbours = 3 também devido ao bom desempenho sem undefitting e overfitting"
   ]
  },
  {
   "cell_type": "code",
   "execution_count": 207,
   "id": "ec6b0a48-00e6-4ae0-8b91-e57e50b5c102",
   "metadata": {},
   "outputs": [],
   "source": [
    "clf2 = KNeighborsClassifier(n_neighbors=3, metric=\"euclidean\")\n",
    "#treino\n",
    "clf2.fit(X_train, y_train);"
   ]
  },
  {
   "cell_type": "markdown",
   "id": "dd25f5ca",
   "metadata": {},
   "source": [
    "> **Teste os dois modelos** no conjunto de teste."
   ]
  },
  {
   "cell_type": "markdown",
   "id": "81a166ec-1ed2-4128-b6f3-ec0e37ef81a0",
   "metadata": {},
   "source": [
    "> > **Teste da Árvore de Decisão**"
   ]
  },
  {
   "cell_type": "code",
   "execution_count": 189,
   "id": "943a1705-81c2-408b-b926-78cd721e58a4",
   "metadata": {},
   "outputs": [],
   "source": [
    "y_pred1 = clf1.predict(X_trainval)"
   ]
  },
  {
   "cell_type": "markdown",
   "id": "bf2bdabc-0a28-45a4-b034-616b02df8c45",
   "metadata": {},
   "source": [
    "> > **Teste do k-NN**"
   ]
  },
  {
   "cell_type": "code",
   "execution_count": 197,
   "id": "3a0740e5",
   "metadata": {},
   "outputs": [],
   "source": [
    "y_pred2 = clf2.predict(X_trainval)"
   ]
  },
  {
   "cell_type": "markdown",
   "id": "259d9dd1-c3e6-4d1d-9d75-7fce5c86cb61",
   "metadata": {},
   "source": [
    "**Verificando a acurácia da Árvore de Decisão**"
   ]
  },
  {
   "cell_type": "code",
   "execution_count": 201,
   "id": "b9b94cad-23f5-48ec-a454-4fcfef398976",
   "metadata": {},
   "outputs": [
    {
     "data": {
      "text/plain": [
       "0.9626373626373627"
      ]
     },
     "execution_count": 201,
     "metadata": {},
     "output_type": "execute_result"
    }
   ],
   "source": [
    "acc1 = accuracy_score(y_train, y_pred1)\n",
    "acc1"
   ]
  },
  {
   "cell_type": "markdown",
   "id": "d7dba419-9fe1-494b-860e-898fe0887fd9",
   "metadata": {},
   "source": [
    "**Verificando a acurácia do k-NN**"
   ]
  },
  {
   "cell_type": "code",
   "execution_count": 202,
   "id": "adb5c377-3e57-460f-93ad-01a6057c8bde",
   "metadata": {},
   "outputs": [
    {
     "data": {
      "text/plain": [
       "0.9582417582417583"
      ]
     },
     "execution_count": 202,
     "metadata": {},
     "output_type": "execute_result"
    }
   ],
   "source": [
    "acc2 = accuracy_score(y_train, y_pred2) \n",
    "acc2"
   ]
  },
  {
   "cell_type": "markdown",
   "id": "a05c5208",
   "metadata": {},
   "source": [
    "## Parte Final: Entrega"
   ]
  },
  {
   "cell_type": "markdown",
   "id": "b6b0a231",
   "metadata": {},
   "source": [
    "Todo esse procedimento nos deu:\n",
    "\n",
    "- Os valores ideais dos hiperparâmetros na base `breast`;\n",
    "- O desempenho esperado do modelo final.\n",
    "\n",
    "O último passo é treinar o modelo para ser posto em produção.\n",
    "\n",
    "Nós não vamos colocar o modelo em produção, pois não temos um cliente de verdade ou uma publicação científifca a ser feita neste momento, mas vamos simular o processo inteiro.\n",
    "\n",
    "Para gerar o modelo final, nós usamos **o máximo possível de dados**. Ou seja, toda a amostra. Nenhum dos subconjuntos gerados anteriormente."
   ]
  },
  {
   "cell_type": "markdown",
   "id": "6169e6ab",
   "metadata": {},
   "source": [
    "> **Treine o modelo final do k-NN** usando os hiperparâmetros escolhidos e a **totalidade** dos dados da base `breast`."
   ]
  },
  {
   "cell_type": "code",
   "execution_count": 217,
   "id": "a17aa9d5-5dfa-425e-9d32-6db466bf9289",
   "metadata": {},
   "outputs": [
    {
     "data": {
      "text/plain": [
       "0.9560632688927944"
      ]
     },
     "execution_count": 217,
     "metadata": {},
     "output_type": "execute_result"
    }
   ],
   "source": [
    "clf2 = KNeighborsClassifier(n_neighbors=3, metric=\"euclidean\")\n",
    "clf2.fit(breast.data, breast.target);\n",
    "\n",
    "ypred2 = clf2.predict(breast.data)\n",
    "acc2 = accuracy_score(breast.target, ypred2)\n",
    "acc2"
   ]
  },
  {
   "cell_type": "markdown",
   "id": "710f8078",
   "metadata": {},
   "source": [
    "> **Treine o modelo final da árvore de decisão** usando os hiperparâmetros escolhidos e a **totalidade** dos dados da base `breast`."
   ]
  },
  {
   "cell_type": "code",
   "execution_count": 218,
   "id": "736ba7b0",
   "metadata": {},
   "outputs": [
    {
     "data": {
      "text/plain": [
       "0.9789103690685413"
      ]
     },
     "execution_count": 218,
     "metadata": {},
     "output_type": "execute_result"
    }
   ],
   "source": [
    "clf1 = DecisionTreeClassifier(random_state=1234, max_depth=3)\n",
    "clf1.fit(breast.data, breast.target);\n",
    "\n",
    "ypred1 = clf1.predict(breast.data)\n",
    "acc1 = accuracy_score(breast.target, ypred1)\n",
    "acc1"
   ]
  },
  {
   "cell_type": "markdown",
   "id": "f5dd1a5b",
   "metadata": {},
   "source": [
    "> **Bônus**: gere um arquivo que guarda os modelos treinados (persistência). O ideal é uma técnica de *marshalling*, mas você pode usar um `pickle`. A desvantagem do `pickle` é que essa técnica é insegura, pois ela salva qualquer código Python que poderá ser executado quando o `pickle` for carregado, mas é uma opção rápida."
   ]
  },
  {
   "cell_type": "code",
   "execution_count": 216,
   "id": "f270dbd0",
   "metadata": {},
   "outputs": [],
   "source": [
    "import pickle"
   ]
  },
  {
   "cell_type": "code",
   "execution_count": 223,
   "id": "e10259b4-c636-4c41-8f28-37375f80da47",
   "metadata": {},
   "outputs": [],
   "source": [
    "# Salvando os modelos em um arquivo utilizando pickle\n",
    "with open('models.pkl', 'wb') as file:\n",
    "    pickle.dump((clf1, clf2), file)"
   ]
  },
  {
   "cell_type": "code",
   "execution_count": 224,
   "id": "c7684cd1-a561-4dfe-8603-e98d3a0a9a79",
   "metadata": {},
   "outputs": [],
   "source": [
    "# Carregando os modelos do arquivo utilizando pickle\n",
    "with open('models.pkl', 'rb') as file:\n",
    "    loaded_clf1, loaded_clf2 = pickle.load(file)"
   ]
  },
  {
   "cell_type": "code",
   "execution_count": 225,
   "id": "cb7b7723-6b86-423b-8b54-cd5369a5b301",
   "metadata": {},
   "outputs": [
    {
     "name": "stdout",
     "output_type": "stream",
     "text": [
      "[0 0 0 0 0]\n",
      "[0 0 0 1 0]\n"
     ]
    }
   ],
   "source": [
    "# Verificando se os modelos carregados funcionam\n",
    "print(loaded_clf1.predict(breast.data[:5]))\n",
    "print(loaded_clf2.predict(breast.data[:5]))"
   ]
  },
  {
   "cell_type": "code",
   "execution_count": null,
   "id": "ce3e3616-65ed-4dd6-8599-6b35e614ad5b",
   "metadata": {},
   "outputs": [],
   "source": []
  }
 ],
 "metadata": {
  "kernelspec": {
   "display_name": "Python 3 (ipykernel)",
   "language": "python",
   "name": "python3"
  },
  "language_info": {
   "codemirror_mode": {
    "name": "ipython",
    "version": 3
   },
   "file_extension": ".py",
   "mimetype": "text/x-python",
   "name": "python",
   "nbconvert_exporter": "python",
   "pygments_lexer": "ipython3",
   "version": "3.12.3"
  }
 },
 "nbformat": 4,
 "nbformat_minor": 5
}
