{
 "cells": [
  {
   "cell_type": "markdown",
   "metadata": {
    "id": "5Q936NDXKXYD"
   },
   "source": [
    "# Árvore de Decisão\n"
   ]
  },
  {
   "cell_type": "markdown",
   "metadata": {
    "id": "5XBdCvyUTLmg"
   },
   "source": [
    "Nesta aula nós veremos o uso do método de AM baseado em Árvore de Decisão existente no scikit-learn."
   ]
  },
  {
   "cell_type": "markdown",
   "metadata": {},
   "source": [
    "**Índice:**\n",
    "\n",
    "  - [Configuração do notebook e dos dados](#Configuração-do-notebook-e-dos-dados)\n",
    "    - [Atividade 1](#Atividade-1)\n",
    "    - [Atividade 2](#Atividade-2)\n",
    "  - [Treinamento do modelo](#Treinamento-do-modelo)\n",
    "    - [Atividade 3](#Atividade-3)\n",
    "  - [Teste do modelo](#Teste-do-modelo)\n",
    "    - [Atividade 4](#Atividade-4)\n",
    "    - [Atividade 5](#Atividade-5)\n"
   ]
  },
  {
   "cell_type": "markdown",
   "metadata": {},
   "source": [
    "## Configuração do notebook e dos dados"
   ]
  },
  {
   "cell_type": "markdown",
   "metadata": {},
   "source": [
    "Vamos utilizar algumas bibliotecas para isso:\n",
    "\n",
    "- `numpy` e `pandas`: para trabalhar com os dados tabulares\n",
    "- `sklearn`: modelos, classes para manipular dados e analisar resultados\n",
    "- `pyplot`: biblioteca para gerar gráficos"
   ]
  },
  {
   "cell_type": "code",
   "execution_count": 2,
   "metadata": {
    "id": "B_pypY8nZ2v3"
   },
   "outputs": [],
   "source": [
    "import matplotlib.pyplot as plt\n",
    "import numpy as np\n",
    "import sklearn\n",
    "import pandas as pd"
   ]
  },
  {
   "cell_type": "markdown",
   "metadata": {},
   "source": [
    "Usaremos dois arquivos que você pode baixar no ColabWeb:\n",
    "\n",
    "- `iris-treino.csv`: contém a amostra de treinamento. São os exemplos que, em uma aplicação real, nós teríamos coletado para encontrar os parâmetros do modelo\n",
    "- `iris-teste.csv`: contém um conjunto de dados que simula os exemplos futuros, isto é, aqueles que serão usados com o nosso modelo em produção\n",
    "\n",
    "Ambos os arquivos contêm dados que foram sub-amostrados da base `Iris`. Você pode obter a base `Iris` completa se executar os seguintes comandos:\n",
    "\n",
    "```Python\n",
    "from sklearn.datasets import load_iris\n",
    "iris_dataset = load_iris()\n",
    "```\n",
    "\n",
    "Mas por ora vamos tratar dos dois subconjuntos selecionados para a aula."
   ]
  },
  {
   "cell_type": "markdown",
   "metadata": {},
   "source": [
    "### Atividade 1\n",
    "\n",
    "Carregue os arquivos de treino e de teste usando `pd.read_csv`."
   ]
  },
  {
   "cell_type": "code",
   "execution_count": 3,
   "metadata": {},
   "outputs": [],
   "source": [
    "iris_treino = pd.read_csv(\"iris-treino.csv\")\n",
    "iris_teste = pd.read_csv(\"iris-teste.csv\")"
   ]
  },
  {
   "cell_type": "markdown",
   "metadata": {},
   "source": [
    "Verifique as dimensões dos dois conjuntos.\n",
    "\n",
    "O conjunto de treino deve ter 64 linhas e 5 colunas, enquanto o conjunto de teste deve ter 86 linhas e 5 colunas."
   ]
  },
  {
   "cell_type": "code",
   "execution_count": 4,
   "metadata": {},
   "outputs": [
    {
     "name": "stdout",
     "output_type": "stream",
     "text": [
      "O conjuto de treino está ok\n",
      "O conjuto de teste está ok\n"
     ]
    }
   ],
   "source": [
    "print(\"O conjuto de treino\", \"está ok\" if iris_treino.shape == (64,5) else \"contém erros\")\n",
    "print(\"O conjuto de teste\", \"está ok\" if iris_teste.shape == (86,5) else \"contém erros\")"
   ]
  },
  {
   "cell_type": "markdown",
   "metadata": {},
   "source": [
    "Verifique o índice das colunas de um dos dois conjuntos."
   ]
  },
  {
   "cell_type": "code",
   "execution_count": 5,
   "metadata": {},
   "outputs": [
    {
     "data": {
      "text/plain": [
       "array(['sepal_length', 'sepal_width', 'petal_length', 'petal_width',\n",
       "       'species'], dtype=object)"
      ]
     },
     "execution_count": 5,
     "metadata": {},
     "output_type": "execute_result"
    }
   ],
   "source": [
    "iris_treino.columns.values"
   ]
  },
  {
   "cell_type": "markdown",
   "metadata": {},
   "source": [
    "Essas colunas são os **atributos** da base. Eles descrevem espécimes de três sub-espécies da flor Iris: *Iris versicolor*, *Iris setosa* e *Iris virginica*.\n",
    "\n",
    "As flores são ilustras na figura a seguir."
   ]
  },
  {
   "cell_type": "markdown",
   "metadata": {
    "id": "mMNTVd9q5Cxj"
   },
   "source": [
    "![texto alternativo](https://drive.google.com/uc?export=view&id=1y60Qw8n06cfSgDXL_sqHFaTYQl-tTpmE)"
   ]
  },
  {
   "cell_type": "markdown",
   "metadata": {},
   "source": [
    "Os atributos são os seguintes:\n",
    "\n",
    "- `sepal_length` e `sepal_width`: comprimento e largura da sépala, respectivamente\n",
    "- `petal_length` e `petal_width`: comprimento e largura da pétala, respectivamente"
   ]
  },
  {
   "cell_type": "markdown",
   "metadata": {},
   "source": [
    "Note que as classes são strings."
   ]
  },
  {
   "cell_type": "markdown",
   "metadata": {},
   "source": [
    "### Atividade 2\n",
    "\n",
    "Use o método `pd.Series.unique()`, aplicado na coluna `species`, para obter os valores das três classes."
   ]
  },
  {
   "cell_type": "code",
   "execution_count": 6,
   "metadata": {},
   "outputs": [
    {
     "data": {
      "text/plain": [
       "array(['virginica', 'versicolor', 'setosa'], dtype=object)"
      ]
     },
     "execution_count": 6,
     "metadata": {},
     "output_type": "execute_result"
    }
   ],
   "source": [
    "classes = pd.Series.unique(iris_teste[\"species\"])\n",
    "classes"
   ]
  },
  {
   "cell_type": "markdown",
   "metadata": {},
   "source": [
    "Uma característica do scikit-learn é que as suas classes exigem valores numéricos. É necessário converter as strings utilizando um esquema de codificação. Por exemplo\n",
    "\n",
    "Nome da classe | Código numérico\n",
    ":-- | :--\n",
    "`setosa` | 0\n",
    "`versicolor` | 1\n",
    "`virginica` | 2\n",
    "\n",
    "Essa codificação pode ser feita com a classe `LabelEncoder`, do módulo `sklearn.preprocessing`.\n",
    "\n",
    "Vamos fazer isso ao mesmo tempo que separamos os conjuntos entre características (atributos de entrada) e rótulos."
   ]
  },
  {
   "cell_type": "markdown",
   "metadata": {},
   "source": [
    "1) Vamos obter as características de treino e de teste"
   ]
  },
  {
   "cell_type": "code",
   "execution_count": 87,
   "metadata": {},
   "outputs": [],
   "source": [
    "X_train = iris_treino.iloc[:, :-1].values\n",
    "X_test = iris_teste.iloc[:, :-1].values"
   ]
  },
  {
   "cell_type": "markdown",
   "metadata": {},
   "source": [
    "2. Vamos \"treinar\" um codificador de rótulos nas classes do conjunto de treinamento"
   ]
  },
  {
   "cell_type": "code",
   "execution_count": 15,
   "metadata": {},
   "outputs": [],
   "source": [
    "from sklearn.preprocessing import LabelEncoder"
   ]
  },
  {
   "cell_type": "code",
   "execution_count": 16,
   "metadata": {},
   "outputs": [],
   "source": [
    "le = LabelEncoder().fit(iris_treino['species'])"
   ]
  },
  {
   "cell_type": "markdown",
   "metadata": {},
   "source": [
    "3. Vamos obter as classes de treino e de teste já codificadas."
   ]
  },
  {
   "cell_type": "code",
   "execution_count": 59,
   "metadata": {},
   "outputs": [],
   "source": [
    "y_train = le.transform(iris_treino['species'])\n",
    "y_test = le.transform(iris_teste['species'])"
   ]
  },
  {
   "cell_type": "code",
   "execution_count": 72,
   "metadata": {},
   "outputs": [
    {
     "data": {
      "text/plain": [
       "(64, 64)"
      ]
     },
     "execution_count": 72,
     "metadata": {},
     "output_type": "execute_result"
    }
   ],
   "source": [
    "iris_treino['species'].size, y_train.size"
   ]
  },
  {
   "cell_type": "markdown",
   "metadata": {},
   "source": [
    "## Treinamento do modelo"
   ]
  },
  {
   "cell_type": "markdown",
   "metadata": {
    "id": "xuDYfnS0Rp98"
   },
   "source": [
    "Agora que a base de dados está carregada e as duas partições de dados estão criadas, nós utilizaremos o método de árvore de decisão para classificação."
   ]
  },
  {
   "cell_type": "code",
   "execution_count": 26,
   "metadata": {},
   "outputs": [],
   "source": [
    "from sklearn.tree import DecisionTreeClassifier"
   ]
  },
  {
   "cell_type": "markdown",
   "metadata": {},
   "source": [
    "Para treinar e aplicar modelos, o scikit-learn adota um protocolo de duas partes:\n",
    "\n",
    "- `fit`: realiza o *ajuste* do modelo aos dados, encontrando os parâmetros da melhor hipótese à amostra de treinamento\n",
    "- `predict`: aplica o modelo a um conjunto de dados, realizando a previsão da classe\n",
    "\n",
    "Para o ajuste, o modelo precisa de acesso às características e às classes. Para previsões, o modelo precisa apenas das características dos exemplos a serem previstos, e retorna os valores previstos."
   ]
  },
  {
   "cell_type": "markdown",
   "metadata": {},
   "source": [
    "### Atividade 3\n",
    "\n",
    "Instancie um objeto da classe `DecisionTreeClassifier`. Caso nenhum argumento seja passado para o construtor, será utilizado o critério de impureza de Gini para encontrar os atributos. Para usar ganho de informação e entropia, especifique `criterion='entropy'`.\n",
    "\n",
    "Em seguida, usando o método `fit`, faça o treinamento do modelo para a amostra de treino."
   ]
  },
  {
   "cell_type": "code",
   "execution_count": 116,
   "metadata": {},
   "outputs": [],
   "source": [
    "#usando o critério de entropia\n",
    "clf = DecisionTreeClassifier(criterion='entropy')"
   ]
  },
  {
   "cell_type": "code",
   "execution_count": 117,
   "metadata": {},
   "outputs": [],
   "source": [
    "clf.fit(X_train, y_train); "
   ]
  },
  {
   "cell_type": "markdown",
   "metadata": {},
   "source": [
    "Vamos visualizar essa árvore? Use o método `DecisionTreeClassifier.plot_tree()` para desenhar uma figura que representa as decisões que foram aprendidas pelo modelo de árvore. O método `plt.figure()` é usado primeiramente para especificarmos as dimensões da figura que será plotada."
   ]
  },
  {
   "cell_type": "code",
   "execution_count": 118,
   "metadata": {},
   "outputs": [
    {
     "data": {
      "image/png": "[encoded data removed]",
      "text/plain": [
       "<Figure size 500x600 with 1 Axes>"
      ]
     },
     "metadata": {},
     "output_type": "display_data"
    }
   ],
   "source": [
    "plt.figure(figsize=(5, 6));\n",
    "sklearn.tree.plot_tree(clf);"
   ]
  },
  {
   "cell_type": "markdown",
   "metadata": {},
   "source": [
    "## Teste do modelo"
   ]
  },
  {
   "cell_type": "markdown",
   "metadata": {},
   "source": [
    "Agora vamos verificar como esse modelo se comporta quando é aplicado aos exemplos do conjunto de teste. Isso nos permite simular o desempenho do modelo \"no mundo real\"."
   ]
  },
  {
   "cell_type": "markdown",
   "metadata": {},
   "source": [
    "### Atividade 4\n",
    "\n",
    "Faça previsão com o modelo nos dados de teste."
   ]
  },
  {
   "cell_type": "code",
   "execution_count": 119,
   "metadata": {},
   "outputs": [],
   "source": [
    "ypred = clf.predict(X_test)"
   ]
  },
  {
   "cell_type": "markdown",
   "metadata": {},
   "source": [
    "Verifique quais foram as classes preditas."
   ]
  },
  {
   "cell_type": "code",
   "execution_count": 120,
   "metadata": {},
   "outputs": [
    {
     "data": {
      "text/plain": [
       "array([2, 2, 2, 1, 1, 2, 2, 1, 0, 1, 2, 1, 0, 0, 2, 1, 1, 0, 1, 0, 2, 2,\n",
       "       2, 0, 0, 2, 2, 1, 2, 2, 1, 1, 2, 1, 0, 0, 1, 1, 2, 1, 2, 2, 1, 0,\n",
       "       2, 0, 1, 2, 2, 0, 0, 1, 0, 0, 1, 1, 1, 2, 0, 2, 0, 0, 1, 1, 0, 0,\n",
       "       0, 2, 2, 0, 1, 0, 1, 0, 0, 2, 1, 2, 1, 2, 2, 1, 1, 2, 2, 2])"
      ]
     },
     "execution_count": 120,
     "metadata": {},
     "output_type": "execute_result"
    }
   ],
   "source": [
    "ypred"
   ]
  },
  {
   "cell_type": "markdown",
   "metadata": {},
   "source": [
    "Os resultados são todos numéricos... mas podemos usar o `LabelEncoder` para verificar quais flores são essas."
   ]
  },
  {
   "cell_type": "code",
   "execution_count": 121,
   "metadata": {},
   "outputs": [
    {
     "data": {
      "text/plain": [
       "array(['virginica', 'virginica', 'virginica', 'versicolor', 'versicolor',\n",
       "       'virginica', 'virginica', 'versicolor', 'setosa', 'versicolor',\n",
       "       'virginica', 'versicolor', 'setosa', 'setosa', 'virginica',\n",
       "       'versicolor', 'versicolor', 'setosa', 'versicolor', 'setosa',\n",
       "       'virginica', 'virginica', 'virginica', 'setosa', 'setosa',\n",
       "       'virginica', 'virginica', 'versicolor', 'virginica', 'virginica',\n",
       "       'versicolor', 'versicolor', 'virginica', 'versicolor', 'setosa',\n",
       "       'setosa', 'versicolor', 'versicolor', 'virginica', 'versicolor',\n",
       "       'virginica', 'virginica', 'versicolor', 'setosa', 'virginica',\n",
       "       'setosa', 'versicolor', 'virginica', 'virginica', 'setosa',\n",
       "       'setosa', 'versicolor', 'setosa', 'setosa', 'versicolor',\n",
       "       'versicolor', 'versicolor', 'virginica', 'setosa', 'virginica',\n",
       "       'setosa', 'setosa', 'versicolor', 'versicolor', 'setosa', 'setosa',\n",
       "       'setosa', 'virginica', 'virginica', 'setosa', 'versicolor',\n",
       "       'setosa', 'versicolor', 'setosa', 'setosa', 'virginica',\n",
       "       'versicolor', 'virginica', 'versicolor', 'virginica', 'virginica',\n",
       "       'versicolor', 'versicolor', 'virginica', 'virginica', 'virginica'],\n",
       "      dtype=object)"
      ]
     },
     "execution_count": 121,
     "metadata": {},
     "output_type": "execute_result"
    }
   ],
   "source": [
    "le.inverse_transform(ypred)"
   ]
  },
  {
   "cell_type": "markdown",
   "metadata": {},
   "source": [
    "Mais convenientemente, podemos fazer um `DataFrame` comparando quais casos foram corretamente classificados e quais foram incorretamente classificados."
   ]
  },
  {
   "cell_type": "code",
   "execution_count": 122,
   "metadata": {},
   "outputs": [
    {
     "data": {
      "text/html": [
       "<div>\n",
       "<style scoped>\n",
       "    .dataframe tbody tr th:only-of-type {\n",
       "        vertical-align: middle;\n",
       "    }\n",
       "\n",
       "    .dataframe tbody tr th {\n",
       "        vertical-align: top;\n",
       "    }\n",
       "\n",
       "    .dataframe thead th {\n",
       "        text-align: right;\n",
       "    }\n",
       "</style>\n",
       "<table border=\"1\" class=\"dataframe\">\n",
       "  <thead>\n",
       "    <tr style=\"text-align: right;\">\n",
       "      <th></th>\n",
       "      <th>Classe verdadeira</th>\n",
       "      <th>Classe predita</th>\n",
       "    </tr>\n",
       "  </thead>\n",
       "  <tbody>\n",
       "    <tr>\n",
       "      <th>0</th>\n",
       "      <td>virginica</td>\n",
       "      <td>virginica</td>\n",
       "    </tr>\n",
       "    <tr>\n",
       "      <th>1</th>\n",
       "      <td>virginica</td>\n",
       "      <td>virginica</td>\n",
       "    </tr>\n",
       "    <tr>\n",
       "      <th>2</th>\n",
       "      <td>virginica</td>\n",
       "      <td>virginica</td>\n",
       "    </tr>\n",
       "    <tr>\n",
       "      <th>3</th>\n",
       "      <td>versicolor</td>\n",
       "      <td>versicolor</td>\n",
       "    </tr>\n",
       "    <tr>\n",
       "      <th>4</th>\n",
       "      <td>versicolor</td>\n",
       "      <td>versicolor</td>\n",
       "    </tr>\n",
       "    <tr>\n",
       "      <th>...</th>\n",
       "      <td>...</td>\n",
       "      <td>...</td>\n",
       "    </tr>\n",
       "    <tr>\n",
       "      <th>81</th>\n",
       "      <td>versicolor</td>\n",
       "      <td>versicolor</td>\n",
       "    </tr>\n",
       "    <tr>\n",
       "      <th>82</th>\n",
       "      <td>virginica</td>\n",
       "      <td>versicolor</td>\n",
       "    </tr>\n",
       "    <tr>\n",
       "      <th>83</th>\n",
       "      <td>virginica</td>\n",
       "      <td>virginica</td>\n",
       "    </tr>\n",
       "    <tr>\n",
       "      <th>84</th>\n",
       "      <td>virginica</td>\n",
       "      <td>virginica</td>\n",
       "    </tr>\n",
       "    <tr>\n",
       "      <th>85</th>\n",
       "      <td>virginica</td>\n",
       "      <td>virginica</td>\n",
       "    </tr>\n",
       "  </tbody>\n",
       "</table>\n",
       "<p>86 rows × 2 columns</p>\n",
       "</div>"
      ],
      "text/plain": [
       "   Classe verdadeira Classe predita\n",
       "0          virginica      virginica\n",
       "1          virginica      virginica\n",
       "2          virginica      virginica\n",
       "3         versicolor     versicolor\n",
       "4         versicolor     versicolor\n",
       "..               ...            ...\n",
       "81        versicolor     versicolor\n",
       "82         virginica     versicolor\n",
       "83         virginica      virginica\n",
       "84         virginica      virginica\n",
       "85         virginica      virginica\n",
       "\n",
       "[86 rows x 2 columns]"
      ]
     },
     "execution_count": 122,
     "metadata": {},
     "output_type": "execute_result"
    }
   ],
   "source": [
    "tabela = pd.DataFrame(columns=['Classe verdadeira', 'Classe predita'])\n",
    "tabela.iloc[:,0] = iris_teste['species']\n",
    "\n",
    "tabela.iloc[:,1] = le.inverse_transform(ypred)\n",
    "tabela"
   ]
  },
  {
   "cell_type": "markdown",
   "metadata": {},
   "source": [
    "Parece que alguns casos estão incorretos..."
   ]
  },
  {
   "cell_type": "code",
   "execution_count": 123,
   "metadata": {},
   "outputs": [
    {
     "data": {
      "text/html": [
       "<div>\n",
       "<style scoped>\n",
       "    .dataframe tbody tr th:only-of-type {\n",
       "        vertical-align: middle;\n",
       "    }\n",
       "\n",
       "    .dataframe tbody tr th {\n",
       "        vertical-align: top;\n",
       "    }\n",
       "\n",
       "    .dataframe thead th {\n",
       "        text-align: right;\n",
       "    }\n",
       "</style>\n",
       "<table border=\"1\" class=\"dataframe\">\n",
       "  <thead>\n",
       "    <tr style=\"text-align: right;\">\n",
       "      <th></th>\n",
       "      <th>Classe verdadeira</th>\n",
       "      <th>Classe predita</th>\n",
       "    </tr>\n",
       "  </thead>\n",
       "  <tbody>\n",
       "    <tr>\n",
       "      <th>6</th>\n",
       "      <td>versicolor</td>\n",
       "      <td>virginica</td>\n",
       "    </tr>\n",
       "    <tr>\n",
       "      <th>36</th>\n",
       "      <td>virginica</td>\n",
       "      <td>versicolor</td>\n",
       "    </tr>\n",
       "    <tr>\n",
       "      <th>39</th>\n",
       "      <td>virginica</td>\n",
       "      <td>versicolor</td>\n",
       "    </tr>\n",
       "    <tr>\n",
       "      <th>82</th>\n",
       "      <td>virginica</td>\n",
       "      <td>versicolor</td>\n",
       "    </tr>\n",
       "  </tbody>\n",
       "</table>\n",
       "</div>"
      ],
      "text/plain": [
       "   Classe verdadeira Classe predita\n",
       "6         versicolor      virginica\n",
       "36         virginica     versicolor\n",
       "39         virginica     versicolor\n",
       "82         virginica     versicolor"
      ]
     },
     "execution_count": 123,
     "metadata": {},
     "output_type": "execute_result"
    }
   ],
   "source": [
    "tabela[tabela.iloc[:,0] != tabela.iloc[:,1]]"
   ]
  },
  {
   "cell_type": "markdown",
   "metadata": {},
   "source": [
    "Podemos computar isso numericamente com uma **métrica** chamada **acurácia**. As métricas são funções numéricas utilizadas para medir a qualidade dos modelos de acordo com diferentes critérios. A acurácia, especificamente, mede quantos exemplos foram corretamente classificados pelo modelo. É uma métrica típica de problemas de **classificação** e pode ser calculada com a seguinte equação:\n",
    "\n",
    "$$\\text{Acc}_X(y) = \\frac{1}{|X|}\\sum_{x \\in X} \\mathsf{I}\\left(\\hat{f}(x) = {\\large\\xi}(x)\\right)$$\n",
    "\n",
    "Sendo que\n",
    "\n",
    "- $X$ é a amostra na qual estamos calculando a acurácia\n",
    "- $I(\\cdot)$ é a função indicadora; ela vale $1$ se a expressão for verdadeira e $0$ caso contrário\n",
    "- $\\hat{f}(x)$ é a saída do modelo para o exemplo $x$\n",
    "- ${\\large\\xi}(x)$ é o rótulo verdadeiro (saída da função-conceito)$\n",
    "\n",
    "O resultado será um valor no intervalo $[0,1]$. Quanto maior a acurácia, melhor o desempenho do modelo. Acurácia zero significa que o modelo errou todos os exemplos; acurácia um significa que todos foram corretamente classificados."
   ]
  },
  {
   "cell_type": "markdown",
   "metadata": {},
   "source": [
    "O cálculo da acurácia é simples, mas o scikit-learn pode fazer isso por nós também."
   ]
  },
  {
   "cell_type": "markdown",
   "metadata": {},
   "source": [
    "### Atividade 5\n",
    "\n",
    "Importe a função `sklearn.metrics.accuracy_score` e use essa função para calcular a acurácia obtida pela nossa árvore de decisão no conjunto de testes."
   ]
  },
  {
   "cell_type": "code",
   "execution_count": 124,
   "metadata": {},
   "outputs": [],
   "source": [
    "from sklearn.metrics import accuracy_score"
   ]
  },
  {
   "cell_type": "code",
   "execution_count": 126,
   "metadata": {},
   "outputs": [
    {
     "data": {
      "text/plain": [
       "0.9534883720930233"
      ]
     },
     "execution_count": 126,
     "metadata": {},
     "output_type": "execute_result"
    }
   ],
   "source": [
    "accuracy_score(iris_teste['species'],le.inverse_transform(ypred))"
   ]
  },
  {
   "cell_type": "code",
   "execution_count": null,
   "metadata": {},
   "outputs": [],
   "source": []
  }
 ],
 "metadata": {
  "colab": {
   "provenance": []
  },
  "kernelspec": {
   "display_name": "Python 3 (ipykernel)",
   "language": "python",
   "name": "python3"
  },
  "language_info": {
   "codemirror_mode": {
    "name": "ipython",
    "version": 3
   },
   "file_extension": ".py",
   "mimetype": "text/x-python",
   "name": "python",
   "nbconvert_exporter": "python",
   "pygments_lexer": "ipython3",
   "version": "3.10.6"
  }
 },
 "nbformat": 4,
 "nbformat_minor": 4
}
